{
 "cells": [
  {
   "cell_type": "code",
   "execution_count": 1,
   "metadata": {},
   "outputs": [],
   "source": [
    "#Importing Python packages\n",
    "import pandas as pd\n",
    "import numpy as np \n",
    "import seaborn as sns\n",
    "import matplotlib as plt"
   ]
  },
  {
   "cell_type": "code",
   "execution_count": 2,
   "metadata": {
    "scrolled": true
   },
   "outputs": [
    {
     "name": "stdout",
     "output_type": "stream",
     "text": [
      "         SERIALNO  DIVISION  SPORDER  PUMA  REGION  ST   ADJINC  PWGTP  AGEP  \\\n",
      "RT                                                                             \n",
      "P   2017000000016         6        1  2500       3   1  1011189    206    73   \n",
      "P   2017000000031         6        1  1800       3   1  1011189     45    31   \n",
      "P   2017000000061         6        1  2400       3   1  1011189    136    41   \n",
      "P   2017000000061         6        2  2400       3   1  1011189    121    48   \n",
      "P   2017000000061         6        3  2400       3   1  1011189    111    16   \n",
      "\n",
      "    CIT  ...  MIGPUMA  MSP  NATIVITY   OC    OCCP  PAOC    PERNP    PINCP  \\\n",
      "RT       ...                                                                \n",
      "P     1  ...      NaN  5.0         1  0.0     NaN   NaN      0.0  10000.0   \n",
      "P     1  ...      NaN  6.0         1  0.0   350.0   4.0  38500.0  38500.0   \n",
      "P     1  ...      NaN  1.0         1  0.0  6260.0   NaN  72000.0  82000.0   \n",
      "P     1  ...      NaN  1.0         1  0.0     NaN   2.0      0.0   8700.0   \n",
      "P     1  ...      NaN  6.0         1  1.0     NaN   NaN      0.0      0.0   \n",
      "\n",
      "    RAC1P  WAOB  \n",
      "RT               \n",
      "P       2     1  \n",
      "P       1     1  \n",
      "P       1     1  \n",
      "P       1     1  \n",
      "P       1     1  \n",
      "\n",
      "[5 rows x 41 columns]\n",
      "         SERIALNO  DIVISION  SPORDER  PUMA  REGION  ST   ADJINC  PWGTP  AGEP  \\\n",
      "RT                                                                             \n",
      "P   2017000000075         4        1  1003       2  29  1011189    122    48   \n",
      "P   2017000000075         4        2  1003       2  29  1011189    141    44   \n",
      "P   2017000000075         4        3  1003       2  29  1011189    148    17   \n",
      "P   2017000000075         4        4  1003       2  29  1011189    119    11   \n",
      "P   2017000000167         4        1   200       2  29  1011189     53    77   \n",
      "\n",
      "    CIT  ...  MIGPUMA  MSP  NATIVITY   OC    OCCP  PAOC    PERNP    PINCP  \\\n",
      "RT       ...                                                                \n",
      "P     1  ...      NaN  1.0         1  0.0  9130.0   NaN  70000.0  70000.0   \n",
      "P     1  ...      NaN  1.0         1  0.0  3645.0   2.0  40000.0  40000.0   \n",
      "P     1  ...      NaN  6.0         1  1.0  4020.0   4.0   5000.0   5000.0   \n",
      "P     1  ...      NaN  NaN         1  1.0     NaN   NaN      NaN      NaN   \n",
      "P     1  ...      NaN  4.0         1  0.0     NaN   4.0      0.0  24300.0   \n",
      "\n",
      "    RAC1P  WAOB  \n",
      "RT               \n",
      "P       1     1  \n",
      "P       1     1  \n",
      "P       1     1  \n",
      "P       1     1  \n",
      "P       1     1  \n",
      "\n",
      "[5 rows x 41 columns]\n"
     ]
    }
   ],
   "source": [
    "#Importing data and selecting pre-specified columns\n",
    "fields = [\"RT\", \"SERIALNO\", \"SPORDER\",\"PWGTP\",\"CIT\",\"COW\",\"DIVISION\",\"PUMA\",\"ST\",\"REGION\",\"AGEP\",\"ADJINC\",\"JWMNP\",\"JWTR\",\n",
    "          \"MAR\",\"MARHT\",\"MIG\",\"MIL\",\"RELP\",\"SCHL\",\"SEX\",\"PAP\",\"WAGP\",\"WKHP\",\"WKL\",\"DIS\",\"DRIVESP\",\"ESR\",\"FOD1P\",\"HICOV\",\"JWAP\",\n",
    "          \"JWDP\",\"MIGPUMA\",\"MSP\",\"NATIVITY\",\"OC\",\"OCCP\",\"PAOC\",\"PERNP\",\"PINCP\",\"RAC1P\",\"WAOB\"]\n",
    "\n",
    "acs1 = pd.read_csv('psam_pusa.csv', sep=',', index_col=0, skipinitialspace=True, usecols=fields)\n",
    "acs2 = pd.read_csv('psam_pusb.csv', sep=',', index_col=0, skipinitialspace=True, usecols=fields)\n",
    "\n",
    "#print (acs1.head())\n",
    "#print (acs2.head())\n",
    "\n",
    "#MAK:  Would you please write the code to import the replicate weights?"
   ]
  },
  {
   "cell_type": "code",
   "execution_count": 3,
   "metadata": {},
   "outputs": [
    {
     "data": {
      "text/plain": [
       "(1638294, 41)"
      ]
     },
     "execution_count": 3,
     "metadata": {},
     "output_type": "execute_result"
    }
   ],
   "source": [
    "#Getting the number of rows and colmuns in each data frame\n",
    "#acs1\n",
    "acs1.shape #rows and columns"
   ]
  },
  {
   "cell_type": "code",
   "execution_count": 4,
   "metadata": {},
   "outputs": [
    {
     "data": {
      "text/plain": [
       "(1551746, 41)"
      ]
     },
     "execution_count": 4,
     "metadata": {},
     "output_type": "execute_result"
    }
   ],
   "source": [
    "#acs2\n",
    "acs2.shape #rows and columns"
   ]
  },
  {
   "cell_type": "code",
   "execution_count": 5,
   "metadata": {},
   "outputs": [
    {
     "name": "stdout",
     "output_type": "stream",
     "text": [
      "         SERIALNO  DIVISION  SPORDER  PUMA  REGION  ST   ADJINC  PWGTP  AGEP  \\\n",
      "RT                                                                             \n",
      "P   2017000000016         6        1  2500       3   1  1011189    206    73   \n",
      "P   2017000000031         6        1  1800       3   1  1011189     45    31   \n",
      "P   2017000000061         6        1  2400       3   1  1011189    136    41   \n",
      "P   2017000000061         6        2  2400       3   1  1011189    121    48   \n",
      "P   2017000000061         6        3  2400       3   1  1011189    111    16   \n",
      "\n",
      "    CIT  ...  MIGPUMA  MSP  NATIVITY   OC    OCCP  PAOC    PERNP    PINCP  \\\n",
      "RT       ...                                                                \n",
      "P     1  ...      NaN  5.0         1  0.0     NaN   NaN      0.0  10000.0   \n",
      "P     1  ...      NaN  6.0         1  0.0   350.0   4.0  38500.0  38500.0   \n",
      "P     1  ...      NaN  1.0         1  0.0  6260.0   NaN  72000.0  82000.0   \n",
      "P     1  ...      NaN  1.0         1  0.0     NaN   2.0      0.0   8700.0   \n",
      "P     1  ...      NaN  6.0         1  1.0     NaN   NaN      0.0      0.0   \n",
      "\n",
      "    RAC1P  WAOB  \n",
      "RT               \n",
      "P       2     1  \n",
      "P       1     1  \n",
      "P       1     1  \n",
      "P       1     1  \n",
      "P       1     1  \n",
      "\n",
      "[5 rows x 41 columns]\n"
     ]
    },
    {
     "data": {
      "text/plain": [
       "(3190040, 41)"
      ]
     },
     "execution_count": 5,
     "metadata": {},
     "output_type": "execute_result"
    }
   ],
   "source": [
    "#Concatenating the daata frames\n",
    "\n",
    "ACSdata = pd.concat([acs1, acs2], axis=0, ignore_index=False)\n",
    "#print(ACSdata.head())\n",
    "ACSdata.shape"
   ]
  },
  {
   "cell_type": "code",
   "execution_count": 6,
   "metadata": {},
   "outputs": [
    {
     "name": "stdout",
     "output_type": "stream",
     "text": [
      "<class 'pandas.core.frame.DataFrame'>\n",
      "Index: 3190040 entries, P to P\n",
      "Data columns (total 41 columns):\n",
      "SERIALNO    int64\n",
      "DIVISION    int64\n",
      "SPORDER     int64\n",
      "PUMA        int64\n",
      "REGION      int64\n",
      "ST          int64\n",
      "ADJINC      int64\n",
      "PWGTP       int64\n",
      "AGEP        int64\n",
      "CIT         int64\n",
      "COW         float64\n",
      "JWMNP       float64\n",
      "JWTR        float64\n",
      "MAR         int64\n",
      "MARHT       float64\n",
      "MIG         float64\n",
      "MIL         float64\n",
      "PAP         float64\n",
      "RELP        int64\n",
      "SCHL        float64\n",
      "SEX         int64\n",
      "WAGP        float64\n",
      "WKHP        float64\n",
      "WKL         float64\n",
      "DIS         int64\n",
      "DRIVESP     float64\n",
      "ESR         float64\n",
      "FOD1P       float64\n",
      "HICOV       int64\n",
      "JWAP        float64\n",
      "JWDP        float64\n",
      "MIGPUMA     float64\n",
      "MSP         float64\n",
      "NATIVITY    int64\n",
      "OC          float64\n",
      "OCCP        float64\n",
      "PAOC        float64\n",
      "PERNP       float64\n",
      "PINCP       float64\n",
      "RAC1P       int64\n",
      "WAOB        int64\n",
      "dtypes: float64(23), int64(18)\n",
      "memory usage: 1022.2+ MB\n"
     ]
    }
   ],
   "source": [
    "#Data Type Information on the dataset\n",
    "ACSdata.info()"
   ]
  },
  {
   "cell_type": "code",
   "execution_count": 7,
   "metadata": {},
   "outputs": [
    {
     "data": {
      "text/plain": [
       "1394399"
      ]
     },
     "execution_count": 7,
     "metadata": {},
     "output_type": "execute_result"
    }
   ],
   "source": [
    "#Checking for duplicates in the person records (grouped by household)\n",
    "\n",
    "#How many unique households are in the dataset?\n",
    "ACSdata['SERIALNO'].nunique()"
   ]
  },
  {
   "cell_type": "code",
   "execution_count": 8,
   "metadata": {},
   "outputs": [
    {
     "data": {
      "text/plain": [
       "count    3190040\n",
       "mean           2\n",
       "std            1\n",
       "min            1\n",
       "25%            1\n",
       "50%            2\n",
       "75%            3\n",
       "max           20\n",
       "Name: SPORDER, dtype: int64"
      ]
     },
     "execution_count": 8,
     "metadata": {},
     "output_type": "execute_result"
    }
   ],
   "source": [
    "#What is the min/max of people in any household?\n",
    "ACSdata['SPORDER'].describe().astype('int64')"
   ]
  },
  {
   "cell_type": "code",
   "execution_count": 15,
   "metadata": {},
   "outputs": [
    {
     "name": "stdout",
     "output_type": "stream",
     "text": [
      "duplicate\n"
     ]
    }
   ],
   "source": [
    "ACSdata['duplicate'] = ACSdata.duplicated(subset=['SPORDER', 'SERIALNO'], keep=False)\n",
    "print('duplicate')\n",
    "\n",
    "#Confirmed no duplicate SPORDERS in ACSdata"
   ]
  },
  {
   "cell_type": "code",
   "execution_count": 16,
   "metadata": {},
   "outputs": [
    {
     "data": {
      "text/plain": [
       "1"
      ]
     },
     "execution_count": 16,
     "metadata": {},
     "output_type": "execute_result"
    }
   ],
   "source": [
    "#new column data_key is a combination of SERIALNO and SPORDER which will be a unique identifier\n",
    "\n",
    "ACSdata['data_key'] = str(ACSdata['SERIALNO'].astype(int))+str(ACSdata['SPORDER'])\n",
    "ACSdata['data_key'].nunique()\n",
    "#ACSdata['data_key'].head(300)"
   ]
  },
  {
   "cell_type": "code",
   "execution_count": 17,
   "metadata": {},
   "outputs": [
    {
     "data": {
      "text/plain": [
       "(3190040, 43)"
      ]
     },
     "execution_count": 17,
     "metadata": {},
     "output_type": "execute_result"
    }
   ],
   "source": [
    "ACSdata.shape"
   ]
  },
  {
   "cell_type": "code",
   "execution_count": 18,
   "metadata": {},
   "outputs": [],
   "source": [
    "#Importing API (cannot use because API does not include the necessary data file)\n",
    "#import requests\n",
    "#url = 'https://api.census.gov/data/2017/acs/acs1?get=NAME,group(B01001)&for=us:1'\n",
    "#r = requests.get(url)\n",
    "#print(r.text)"
   ]
  },
  {
   "cell_type": "code",
   "execution_count": 19,
   "metadata": {},
   "outputs": [
    {
     "data": {
      "text/plain": [
       "count    3190040\n",
       "mean          41\n",
       "std           23\n",
       "min            0\n",
       "25%           21\n",
       "50%           42\n",
       "75%           60\n",
       "max           96\n",
       "Name: AGEP, dtype: int64"
      ]
     },
     "execution_count": 19,
     "metadata": {},
     "output_type": "execute_result"
    }
   ],
   "source": [
    "#EXPLORING THE DATA\n",
    "\n",
    "#Generating summary statistics - age\n",
    "ACSdata['AGEP'].describe().astype('int64')\n",
    "\n",
    "#Age range (0-96), data set needs to be filtered to include persons of marriageable age(> 18)"
   ]
  },
  {
   "cell_type": "code",
   "execution_count": 25,
   "metadata": {},
   "outputs": [
    {
     "name": "stdout",
     "output_type": "stream",
     "text": [
      "Number of Rows in ACSdata in which Age < 18: 659314\n"
     ]
    }
   ],
   "source": [
    "#Rows in which value of AGEP column in  less than 18\n",
    "is_lt18 = ACSdata.apply(lambda x: True if x['AGEP'] < 18 else False, axis=1)\n",
    "\n",
    "#Count number of True in the series\n",
    "numofRows = len(is_lt18[is_lt18 ==True].index)\n",
    "\n",
    "print('Number of Rows in ACSdata in which Age < 18:', numofRows)"
   ]
  },
  {
   "cell_type": "code",
   "execution_count": 28,
   "metadata": {},
   "outputs": [
    {
     "name": "stdout",
     "output_type": "stream",
     "text": [
      "(2530726, 43)\n"
     ]
    }
   ],
   "source": [
    "#Wrangling - Removing persons from the dataset who are < 18 years and creating a new df (ACSmarry)\n",
    "ACSmarry = ACSdata[ACSdata.AGEP >= 18]\n",
    "print(ACSmarry.shape)"
   ]
  },
  {
   "cell_type": "code",
   "execution_count": 29,
   "metadata": {},
   "outputs": [
    {
     "data": {
      "text/plain": [
       "1    1360300\n",
       "5     671044\n",
       "3     285664\n",
       "2     169374\n",
       "4      44344\n",
       "Name: MAR, dtype: int64"
      ]
     },
     "execution_count": 29,
     "metadata": {},
     "output_type": "execute_result"
    }
   ],
   "source": [
    "#EXPLORING THE DATAFRAME (ACSmarry)\n",
    "#Generating frequency table - marriage\n",
    "ACSmarry['MAR'].value_counts()"
   ]
  },
  {
   "cell_type": "code",
   "execution_count": null,
   "metadata": {},
   "outputs": [],
   "source": []
  },
  {
   "cell_type": "code",
   "execution_count": 70,
   "metadata": {},
   "outputs": [
    {
     "name": "stdout",
     "output_type": "stream",
     "text": [
      "['PWGTP1', 'PWGTP2', 'PWGTP3', 'PWGTP4', 'PWGTP5', 'PWGTP6', 'PWGTP7', 'PWGTP8', 'PWGTP9', 'PWGTP10', 'PWGTP11', 'PWGTP12', 'PWGTP13', 'PWGTP14', 'PWGTP15', 'PWGTP16', 'PWGTP17', 'PWGTP18', 'PWGTP19', 'PWGTP20', 'PWGTP21', 'PWGTP22', 'PWGTP23', 'PWGTP24', 'PWGTP25', 'PWGTP26', 'PWGTP27', 'PWGTP28', 'PWGTP29', 'PWGTP30', 'PWGTP31', 'PWGTP32', 'PWGTP33', 'PWGTP34', 'PWGTP35', 'PWGTP36', 'PWGTP37', 'PWGTP38', 'PWGTP39', 'PWGTP40', 'PWGTP41', 'PWGTP42', 'PWGTP43', 'PWGTP44', 'PWGTP45', 'PWGTP46', 'PWGTP47', 'PWGTP48', 'PWGTP49', 'PWGTP50', 'PWGTP51', 'PWGTP52', 'PWGTP53', 'PWGTP54', 'PWGTP55', 'PWGTP56', 'PWGTP57', 'PWGTP58', 'PWGTP59', 'PWGTP60', 'PWGTP61', 'PWGTP62', 'PWGTP63', 'PWGTP64', 'PWGTP65', 'PWGTP66', 'PWGTP67', 'PWGTP68', 'PWGTP69', 'PWGTP70', 'PWGTP71', 'PWGTP72', 'PWGTP73', 'PWGTP74', 'PWGTP75', 'PWGTP76', 'PWGTP77', 'PWGTP78', 'PWGTP79', 'PWGTP80']\n"
     ]
    }
   ],
   "source": [
    "#Generate list of weights of the format PWGTP1 to PWGTP80\n",
    "#weight_index = range(1,81,1)\n",
    "#weight_list = ['PWGTP'+str(i) for i in weight_index]\n",
    "#print(weight_list)\n",
    "\n",
    "#THIS IS NOT 100% CORRECT.  THE WEIGHTS ALREADY EXIST ON THE CSV FILES\n"
   ]
  },
  {
   "cell_type": "code",
   "execution_count": null,
   "metadata": {},
   "outputs": [],
   "source": []
  },
  {
   "cell_type": "code",
   "execution_count": null,
   "metadata": {},
   "outputs": [],
   "source": []
  },
  {
   "cell_type": "code",
   "execution_count": 13,
   "metadata": {},
   "outputs": [
    {
     "name": "stderr",
     "output_type": "stream",
     "text": [
      "C:\\ProgramData\\Anaconda3\\lib\\site-packages\\ipykernel_launcher.py:4: FutureWarning: The signature of `Series.to_csv` was aligned to that of `DataFrame.to_csv`, and argument 'header' will change its default value from False to True: please pass an explicit value to suppress this warning.\n",
      "  after removing the cwd from sys.path.\n"
     ]
    }
   ],
   "source": [
    "#Printing file to csv\n",
    "\n",
    "#Create a sample of top 100 to explore a smaller file size\n",
    "ACSsample = ACSdata['AGEP'].head(100)\n",
    "\n",
    "# update to the path on your local drive\n",
    "ACSsample.to_csv(r'C:\\Users\\makaf\\myproject\\MakSteph\\sample1.csv')\n",
    "ACSdata.to_csv(r'C:\\Users\\makaf\\myproject\\MakSteph\\ACSdata.csv')\n"
   ]
  },
  {
   "cell_type": "code",
   "execution_count": null,
   "metadata": {},
   "outputs": [],
   "source": []
  },
  {
   "cell_type": "code",
   "execution_count": null,
   "metadata": {},
   "outputs": [],
   "source": []
  }
 ],
 "metadata": {
  "kernelspec": {
   "display_name": "Python 3",
   "language": "python",
   "name": "python3"
  },
  "language_info": {
   "codemirror_mode": {
    "name": "ipython",
    "version": 3
   },
   "file_extension": ".py",
   "mimetype": "text/x-python",
   "name": "python",
   "nbconvert_exporter": "python",
   "pygments_lexer": "ipython3",
   "version": "3.7.3"
  }
 },
 "nbformat": 4,
 "nbformat_minor": 2
}
