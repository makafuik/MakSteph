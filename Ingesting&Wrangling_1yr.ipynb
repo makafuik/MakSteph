{
 "cells": [
  {
   "cell_type": "code",
   "execution_count": 1,
   "metadata": {},
   "outputs": [],
   "source": [
    "#Importing Python packages\n",
    "import pandas as pd\n",
    "import numpy as np \n",
    "import seaborn as sns\n",
    "import matplotlib as plt"
   ]
  },
  {
   "cell_type": "code",
   "execution_count": 2,
   "metadata": {
    "scrolled": true
   },
   "outputs": [
    {
     "name": "stdout",
     "output_type": "stream",
     "text": [
      "         SERIALNO  DIVISION  SPORDER  PUMA  REGION  ST   ADJINC  PWGTP  AGEP  \\\n",
      "RT                                                                             \n",
      "P   2017000000016         6        1  2500       3   1  1011189    206    73   \n",
      "P   2017000000031         6        1  1800       3   1  1011189     45    31   \n",
      "P   2017000000061         6        1  2400       3   1  1011189    136    41   \n",
      "P   2017000000061         6        2  2400       3   1  1011189    121    48   \n",
      "P   2017000000061         6        3  2400       3   1  1011189    111    16   \n",
      "\n",
      "    CIT  ...  MIGPUMA  MSP  NATIVITY   OC    OCCP  PAOC    PERNP    PINCP  \\\n",
      "RT       ...                                                                \n",
      "P     1  ...      NaN  5.0         1  0.0     NaN   NaN      0.0  10000.0   \n",
      "P     1  ...      NaN  6.0         1  0.0   350.0   4.0  38500.0  38500.0   \n",
      "P     1  ...      NaN  1.0         1  0.0  6260.0   NaN  72000.0  82000.0   \n",
      "P     1  ...      NaN  1.0         1  0.0     NaN   2.0      0.0   8700.0   \n",
      "P     1  ...      NaN  6.0         1  1.0     NaN   NaN      0.0      0.0   \n",
      "\n",
      "    RAC1P  WAOB  \n",
      "RT               \n",
      "P       2     1  \n",
      "P       1     1  \n",
      "P       1     1  \n",
      "P       1     1  \n",
      "P       1     1  \n",
      "\n",
      "[5 rows x 41 columns]\n",
      "         SERIALNO  DIVISION  SPORDER  PUMA  REGION  ST   ADJINC  PWGTP  AGEP  \\\n",
      "RT                                                                             \n",
      "P   2017000000075         4        1  1003       2  29  1011189    122    48   \n",
      "P   2017000000075         4        2  1003       2  29  1011189    141    44   \n",
      "P   2017000000075         4        3  1003       2  29  1011189    148    17   \n",
      "P   2017000000075         4        4  1003       2  29  1011189    119    11   \n",
      "P   2017000000167         4        1   200       2  29  1011189     53    77   \n",
      "\n",
      "    CIT  ...  MIGPUMA  MSP  NATIVITY   OC    OCCP  PAOC    PERNP    PINCP  \\\n",
      "RT       ...                                                                \n",
      "P     1  ...      NaN  1.0         1  0.0  9130.0   NaN  70000.0  70000.0   \n",
      "P     1  ...      NaN  1.0         1  0.0  3645.0   2.0  40000.0  40000.0   \n",
      "P     1  ...      NaN  6.0         1  1.0  4020.0   4.0   5000.0   5000.0   \n",
      "P     1  ...      NaN  NaN         1  1.0     NaN   NaN      NaN      NaN   \n",
      "P     1  ...      NaN  4.0         1  0.0     NaN   4.0      0.0  24300.0   \n",
      "\n",
      "    RAC1P  WAOB  \n",
      "RT               \n",
      "P       1     1  \n",
      "P       1     1  \n",
      "P       1     1  \n",
      "P       1     1  \n",
      "P       1     1  \n",
      "\n",
      "[5 rows x 41 columns]\n"
     ]
    }
   ],
   "source": [
    "#Importing data and selecting pre-specified columns\n",
    "fields = [\"RT\", \"SERIALNO\", \"SPORDER\",\"PWGTP\",\"CIT\",\"COW\",\"DIVISION\",\"PUMA\",\"ST\",\"REGION\",\"AGEP\",\"ADJINC\",\"JWMNP\",\"JWTR\",\n",
    "          \"MAR\",\"MARHT\",\"MIG\",\"MIL\",\"RELP\",\"SCHL\",\"SEX\",\"PAP\",\"WAGP\",\"WKHP\",\"WKL\",\"DIS\",\"DRIVESP\",\"ESR\",\"FOD1P\",\"HICOV\",\"JWAP\",\n",
    "          \"JWDP\",\"MIGPUMA\",\"MSP\",\"NATIVITY\",\"OC\",\"OCCP\",\"PAOC\",\"PERNP\",\"PINCP\",\"RAC1P\",\"WAOB\"]\n",
    "\n",
    "acs1 = pd.read_csv('psam_pusa.csv', sep=',', index_col=0, skipinitialspace=True, usecols=fields)\n",
    "acs2 = pd.read_csv('psam_pusb.csv', sep=',', index_col=0, skipinitialspace=True, usecols=fields)\n",
    "\n",
    "print (acs1.head())\n",
    "print (acs2.head())\n",
    "\n",
    "#MAK:  Would you please write the code to import the replicate weights?"
   ]
  },
  {
   "cell_type": "code",
   "execution_count": 3,
   "metadata": {},
   "outputs": [
    {
     "data": {
      "text/plain": [
       "(1638294, 41)"
      ]
     },
     "execution_count": 3,
     "metadata": {},
     "output_type": "execute_result"
    }
   ],
   "source": [
    "#Getting the number of rows and colmuns in each data frame\n",
    "\n",
    "#acs1\n",
    "acs1.shape #rows and columns\n",
    "\n",
    "\n"
   ]
  },
  {
   "cell_type": "code",
   "execution_count": 4,
   "metadata": {},
   "outputs": [
    {
     "data": {
      "text/plain": [
       "(1551746, 41)"
      ]
     },
     "execution_count": 4,
     "metadata": {},
     "output_type": "execute_result"
    }
   ],
   "source": [
    "#acs2\n",
    "acs2.shape #rows and columns"
   ]
  },
  {
   "cell_type": "code",
   "execution_count": 5,
   "metadata": {},
   "outputs": [
    {
     "name": "stdout",
     "output_type": "stream",
     "text": [
      "         SERIALNO  DIVISION  SPORDER  PUMA  REGION  ST   ADJINC  PWGTP  AGEP  \\\n",
      "RT                                                                             \n",
      "P   2017000000016         6        1  2500       3   1  1011189    206    73   \n",
      "P   2017000000031         6        1  1800       3   1  1011189     45    31   \n",
      "P   2017000000061         6        1  2400       3   1  1011189    136    41   \n",
      "P   2017000000061         6        2  2400       3   1  1011189    121    48   \n",
      "P   2017000000061         6        3  2400       3   1  1011189    111    16   \n",
      "\n",
      "    CIT  ...  MIGPUMA  MSP  NATIVITY   OC    OCCP  PAOC    PERNP    PINCP  \\\n",
      "RT       ...                                                                \n",
      "P     1  ...      NaN  5.0         1  0.0     NaN   NaN      0.0  10000.0   \n",
      "P     1  ...      NaN  6.0         1  0.0   350.0   4.0  38500.0  38500.0   \n",
      "P     1  ...      NaN  1.0         1  0.0  6260.0   NaN  72000.0  82000.0   \n",
      "P     1  ...      NaN  1.0         1  0.0     NaN   2.0      0.0   8700.0   \n",
      "P     1  ...      NaN  6.0         1  1.0     NaN   NaN      0.0      0.0   \n",
      "\n",
      "    RAC1P  WAOB  \n",
      "RT               \n",
      "P       2     1  \n",
      "P       1     1  \n",
      "P       1     1  \n",
      "P       1     1  \n",
      "P       1     1  \n",
      "\n",
      "[5 rows x 41 columns]\n"
     ]
    },
    {
     "data": {
      "text/plain": [
       "(3190040, 41)"
      ]
     },
     "execution_count": 5,
     "metadata": {},
     "output_type": "execute_result"
    }
   ],
   "source": [
    "#Concatenating the daata frames\n",
    "\n",
    "ACSdata = pd.concat([acs1, acs2], axis=0, ignore_index=False)\n",
    "\n",
    "print(ACSdata.head())\n",
    "ACSdata.shape\n"
   ]
  },
  {
   "cell_type": "code",
   "execution_count": 6,
   "metadata": {},
   "outputs": [],
   "source": [
    "#Importing API (cannot use because API does not include the necessary data file)\n",
    "#import requests\n",
    "#url = 'https://api.census.gov/data/2017/acs/acs1?get=NAME,group(B01001)&for=us:1'\n",
    "#r = requests.get(url)\n",
    "#print(r.text)"
   ]
  },
  {
   "cell_type": "code",
   "execution_count": 7,
   "metadata": {},
   "outputs": [
    {
     "data": {
      "text/plain": [
       "20"
      ]
     },
     "execution_count": 7,
     "metadata": {},
     "output_type": "execute_result"
    }
   ],
   "source": [
    "#Ensuring that there are no duplicate persons in the file\n",
    "#SERIALNO = 3190040\n",
    "\n",
    "ACSdata['SPORDER'].nunique()  \n",
    "\n",
    "#There are 20 duplicates values in the ACSdata file"
   ]
  },
  {
   "cell_type": "code",
   "execution_count": 8,
   "metadata": {},
   "outputs": [
    {
     "name": "stdout",
     "output_type": "stream",
     "text": [
      "Duplicated rows except for first occurrence based on all columns\n",
      "Empty DataFrame\n",
      "Columns: [SERIALNO, DIVISION, SPORDER, PUMA, REGION, ST, ADJINC, PWGTP, AGEP, CIT, COW, JWMNP, JWTR, MAR, MARHT, MIG, MIL, PAP, RELP, SCHL, SEX, WAGP, WKHP, WKL, DIS, DRIVESP, ESR, FOD1P, HICOV, JWAP, JWDP, MIGPUMA, MSP, NATIVITY, OC, OCCP, PAOC, PERNP, PINCP, RAC1P, WAOB]\n",
      "Index: []\n",
      "\n",
      "[0 rows x 41 columns]\n"
     ]
    }
   ],
   "source": [
    "#Finding duplicate rows based on all columns\n",
    "duprowsACS = ACSdata[ACSdata.duplicated()] #all duplicates except for first occurence\n",
    "\n",
    "print(\"Duplicated rows except for first occurrence based on all columns\")\n",
    "print(duprowsACS)"
   ]
  },
  {
   "cell_type": "code",
   "execution_count": 9,
   "metadata": {},
   "outputs": [
    {
     "data": {
      "text/plain": [
       "count    3.190040e+06\n",
       "mean     4.128723e+01\n",
       "std      2.363224e+01\n",
       "min      0.000000e+00\n",
       "25%      2.100000e+01\n",
       "50%      4.200000e+01\n",
       "75%      6.000000e+01\n",
       "max      9.600000e+01\n",
       "Name: AGEP, dtype: float64"
      ]
     },
     "execution_count": 9,
     "metadata": {},
     "output_type": "execute_result"
    }
   ],
   "source": [
    "#Exploring the Data\n",
    "\n",
    "#Generating sumamry statistics - age\n",
    "ACSdata['AGEP'].describe()"
   ]
  },
  {
   "cell_type": "code",
   "execution_count": 13,
   "metadata": {},
   "outputs": [
    {
     "name": "stderr",
     "output_type": "stream",
     "text": [
      "C:\\ProgramData\\Anaconda3\\lib\\site-packages\\ipykernel_launcher.py:4: FutureWarning: The signature of `Series.to_csv` was aligned to that of `DataFrame.to_csv`, and argument 'header' will change its default value from False to True: please pass an explicit value to suppress this warning.\n",
      "  after removing the cwd from sys.path.\n"
     ]
    }
   ],
   "source": [
    "#Printing file to csv\n",
    "\n",
    "ACSsample = ACSdata['AGEP'].head(100)\n",
    "ACSsample.to_csv(r'C:\\Users\\steph\\ACS\\data\\1-year\\sample1.csv')"
   ]
  },
  {
   "cell_type": "code",
   "execution_count": 12,
   "metadata": {},
   "outputs": [
    {
     "ename": "ValueError",
     "evalue": "Unable to parse string \"P\" at position 0",
     "output_type": "error",
     "traceback": [
      "\u001b[1;31m---------------------------------------------------------------------------\u001b[0m",
      "\u001b[1;31mValueError\u001b[0m                                Traceback (most recent call last)",
      "\u001b[1;32mpandas/_libs/lib.pyx\u001b[0m in \u001b[0;36mpandas._libs.lib.maybe_convert_numeric\u001b[1;34m()\u001b[0m\n",
      "\u001b[1;31mValueError\u001b[0m: Unable to parse string \"P\"",
      "\nDuring handling of the above exception, another exception occurred:\n",
      "\u001b[1;31mValueError\u001b[0m                                Traceback (most recent call last)",
      "\u001b[1;32m<ipython-input-12-9e67deec59d8>\u001b[0m in \u001b[0;36m<module>\u001b[1;34m\u001b[0m\n\u001b[0;32m     10\u001b[0m \u001b[1;33m\u001b[0m\u001b[0m\n\u001b[0;32m     11\u001b[0m \u001b[1;33m\u001b[0m\u001b[0m\n\u001b[1;32m---> 12\u001b[1;33m \u001b[0mpd\u001b[0m\u001b[1;33m.\u001b[0m\u001b[0mto_numeric\u001b[0m\u001b[1;33m(\u001b[0m\u001b[0mlist\u001b[0m\u001b[1;33m(\u001b[0m\u001b[0mtestACS\u001b[0m\u001b[1;33m[\u001b[0m\u001b[1;36m2\u001b[0m\u001b[1;33m:\u001b[0m\u001b[1;33m]\u001b[0m\u001b[1;33m)\u001b[0m\u001b[1;33m,\u001b[0m \u001b[0mdowncast\u001b[0m\u001b[1;33m=\u001b[0m\u001b[1;34m'signed'\u001b[0m\u001b[1;33m)\u001b[0m\u001b[1;33m\u001b[0m\u001b[1;33m\u001b[0m\u001b[0m\n\u001b[0m",
      "\u001b[1;32mC:\\ProgramData\\Anaconda3\\lib\\site-packages\\pandas\\core\\tools\\numeric.py\u001b[0m in \u001b[0;36mto_numeric\u001b[1;34m(arg, errors, downcast)\u001b[0m\n\u001b[0;32m    133\u001b[0m             \u001b[0mcoerce_numeric\u001b[0m \u001b[1;33m=\u001b[0m \u001b[1;32mFalse\u001b[0m \u001b[1;32mif\u001b[0m \u001b[0merrors\u001b[0m \u001b[1;32min\u001b[0m \u001b[1;33m(\u001b[0m\u001b[1;34m'ignore'\u001b[0m\u001b[1;33m,\u001b[0m \u001b[1;34m'raise'\u001b[0m\u001b[1;33m)\u001b[0m \u001b[1;32melse\u001b[0m \u001b[1;32mTrue\u001b[0m\u001b[1;33m\u001b[0m\u001b[1;33m\u001b[0m\u001b[0m\n\u001b[0;32m    134\u001b[0m             values = lib.maybe_convert_numeric(values, set(),\n\u001b[1;32m--> 135\u001b[1;33m                                                coerce_numeric=coerce_numeric)\n\u001b[0m\u001b[0;32m    136\u001b[0m \u001b[1;33m\u001b[0m\u001b[0m\n\u001b[0;32m    137\u001b[0m     \u001b[1;32mexcept\u001b[0m \u001b[0mException\u001b[0m\u001b[1;33m:\u001b[0m\u001b[1;33m\u001b[0m\u001b[1;33m\u001b[0m\u001b[0m\n",
      "\u001b[1;32mpandas/_libs/lib.pyx\u001b[0m in \u001b[0;36mpandas._libs.lib.maybe_convert_numeric\u001b[1;34m()\u001b[0m\n",
      "\u001b[1;31mValueError\u001b[0m: Unable to parse string \"P\" at position 0"
     ]
    }
   ],
   "source": [
    "#Change AGEP from float to integer to fix AGEP\n",
    "import pandas as pd\n",
    "\n",
    "#Importing data and selecting pre-specified columns\n",
    "#fields = [\"AGEP\"]\n",
    "\n",
    "testACS = pd.read_csv('sample1.csv')\n",
    "\n",
    "testACS.head()\n",
    "\n",
    "\n",
    "pd.to_numeric(list(testACS[2:]), downcast='signed')"
   ]
  },
  {
   "cell_type": "code",
   "execution_count": null,
   "metadata": {},
   "outputs": [],
   "source": []
  }
 ],
 "metadata": {
  "kernelspec": {
   "display_name": "Python 3",
   "language": "python",
   "name": "python3"
  },
  "language_info": {
   "codemirror_mode": {
    "name": "ipython",
    "version": 3
   },
   "file_extension": ".py",
   "mimetype": "text/x-python",
   "name": "python",
   "nbconvert_exporter": "python",
   "pygments_lexer": "ipython3",
   "version": "3.7.3"
  }
 },
 "nbformat": 4,
 "nbformat_minor": 2
}
