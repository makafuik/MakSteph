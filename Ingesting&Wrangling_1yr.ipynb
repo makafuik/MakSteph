{
 "cells": [
  {
   "cell_type": "code",
   "execution_count": 1,
   "metadata": {},
   "outputs": [],
   "source": [
    "#Importing Python packages\n",
    "import pandas as pd\n",
    "import numpy as np \n",
    "import seaborn as sns\n",
    "import matplotlib.mlab as mlab\n",
    "import matplotlib.pyplot as plt"
   ]
  },
  {
   "cell_type": "code",
   "execution_count": 2,
   "metadata": {
    "scrolled": true
   },
   "outputs": [
    {
     "name": "stdout",
     "output_type": "stream",
     "text": [
      "        SERIALNO  DIVISION  SPORDER  PUMA  REGION  ST   ADJINC  PWGTP  AGEP  \\\n",
      "RT                                                                            \n",
      "P   2.017000e+12         6        1  2500       3   1  1011189    206    73   \n",
      "P   2.017000e+12         6        1  1800       3   1  1011189     45    31   \n",
      "P   2.017000e+12         6        1  2400       3   1  1011189    136    41   \n",
      "P   2.017000e+12         6        2  2400       3   1  1011189    121    48   \n",
      "P   2.017000e+12         6        3  2400       3   1  1011189    111    16   \n",
      "\n",
      "    CIT  ...  PWGTP71  PWGTP72  PWGTP73  PWGTP74  PWGTP75  PWGTP76  PWGTP77  \\\n",
      "RT       ...                                                                  \n",
      "P     1  ...       60       46      260      300      256      370      366   \n",
      "P     1  ...       55       31       11       19       43      103       14   \n",
      "P     1  ...      101       47      160      333      176       33      131   \n",
      "P     1  ...      147       49      213      197      108       38      150   \n",
      "P     1  ...       62       36      128      266      157       27      117   \n",
      "\n",
      "    PWGTP78  PWGTP79  PWGTP80  \n",
      "RT                             \n",
      "P       293      250       62  \n",
      "P        49       49       98  \n",
      "P        74       30      185  \n",
      "P        53       43      114  \n",
      "P        54       22      149  \n",
      "\n",
      "[5 rows x 121 columns]\n",
      "         SERIALNO  DIVISION  SPORDER  PUMA  REGION  ST   ADJINC  PWGTP  AGEP  \\\n",
      "RT                                                                             \n",
      "P   2017000000075         4        1  1003       2  29  1011189    122    48   \n",
      "P   2017000000075         4        2  1003       2  29  1011189    141    44   \n",
      "P   2017000000075         4        3  1003       2  29  1011189    148    17   \n",
      "P   2017000000075         4        4  1003       2  29  1011189    119    11   \n",
      "P   2017000000167         4        1   200       2  29  1011189     53    77   \n",
      "\n",
      "    CIT  ...  PWGTP71  PWGTP72  PWGTP73  PWGTP74  PWGTP75  PWGTP76  PWGTP77  \\\n",
      "RT       ...                                                                  \n",
      "P     1  ...      197      126      129      134      105       38      226   \n",
      "P     1  ...      242      146      138      144      148       40      243   \n",
      "P     1  ...      248      185      129      146      138       44      245   \n",
      "P     1  ...      226      105      112      117      115       35      188   \n",
      "P     1  ...       91       54       57      101       49       16      101   \n",
      "\n",
      "    PWGTP78  PWGTP79  PWGTP80  \n",
      "RT                             \n",
      "P       115      126      244  \n",
      "P       149      148      241  \n",
      "P       149      150      225  \n",
      "P       132      131      204  \n",
      "P        96       13       15  \n",
      "\n",
      "[5 rows x 121 columns]\n"
     ]
    }
   ],
   "source": [
    "#Importing data and selecting pre-specified columns\n",
    "fields = [\"RT\", \"SERIALNO\", \"SPORDER\",\"PWGTP\",\"CIT\",\"COW\",\"DIVISION\",\"PUMA\",\"ST\",\"REGION\",\"AGEP\",\"ADJINC\",\"JWMNP\",\"JWTR\",\n",
    "          \"MAR\",\"MARHT\",\"MIG\",\"MIL\",\"RELP\",\"SCHL\",\"SEX\",\"PAP\",\"WAGP\",\"WKHP\",\"WKL\",\"DIS\",\"DRIVESP\",\"ESR\",\"FOD1P\",\"HICOV\",\"JWAP\",\n",
    "          \"JWDP\",\"MIGPUMA\",\"MSP\",\"NATIVITY\",\"OC\",\"OCCP\",\"PAOC\",\"PERNP\",\"PINCP\",\"RAC1P\",\"WAOB\",\"PWGTP1\",\"PWGTP2\",\"PWGTP3\",\"PWGTP4\",\n",
    "          \"PWGTP5\",\"PWGTP6\",\"PWGTP7\",\"PWGTP8\",\"PWGTP9\",\"PWGTP10\",\"PWGTP11\",\"PWGTP12\",\"PWGTP13\",\"PWGTP14\",\"PWGTP15\",\"PWGTP16\",\n",
    "          \"PWGTP17\",\"PWGTP18\",\"PWGTP19\",\"PWGTP20\",\"PWGTP21\",\"PWGTP22\",\"PWGTP23\",\"PWGTP24\",\"PWGTP25\",\"PWGTP26\",\"PWGTP27\",\"PWGTP28\",\n",
    "          \"PWGTP29\",\"PWGTP30\",\"PWGTP31\",\"PWGTP32\",\"PWGTP33\",\"PWGTP34\",\"PWGTP35\",\"PWGTP36\",\"PWGTP37\",\"PWGTP38\",\"PWGTP39\",\"PWGTP40\",\n",
    "          \"PWGTP41\",\"PWGTP42\",\"PWGTP43\",\"PWGTP44\",\"PWGTP45\",\"PWGTP46\",\"PWGTP47\",\"PWGTP48\",\"PWGTP49\",\"PWGTP50\",\"PWGTP51\",\"PWGTP52\",\n",
    "          \"PWGTP53\",\"PWGTP54\",\"PWGTP55\",\"PWGTP56\",\"PWGTP57\",\"PWGTP58\",\"PWGTP59\",\"PWGTP60\",\"PWGTP61\",\"PWGTP62\",\"PWGTP63\",\"PWGTP64\",\n",
    "          \"PWGTP65\",\"PWGTP66\",\"PWGTP67\",\"PWGTP68\",\"PWGTP69\",\"PWGTP70\",\"PWGTP71\",\"PWGTP72\",\"PWGTP73\",\"PWGTP74\",\"PWGTP75\",\"PWGTP76\",\n",
    "          \"PWGTP77\",\"PWGTP78\",\"PWGTP79\",\"PWGTP80\"]\n",
    "\n",
    "acs1 = pd.read_csv('data/psam_pusa.csv', sep=',', index_col=0, skipinitialspace=True, usecols=fields)\n",
    "acs2 = pd.read_csv('data/psam_pusb.csv', sep=',', index_col=0, skipinitialspace=True, usecols=fields)\n",
    "\n",
    "print (acs1.head())\n",
    "print (acs2.head())"
   ]
  },
  {
   "cell_type": "code",
   "execution_count": 6,
   "metadata": {},
   "outputs": [
    {
     "name": "stdout",
     "output_type": "stream",
     "text": [
      "<class 'pandas.core.frame.DataFrame'>\n",
      "Index: 29 entries, P to P\n",
      "Columns: 122 entries, SERIALNO to PWGTP80\n",
      "dtypes: float64(23), int64(99)\n",
      "memory usage: 27.9+ KB\n"
     ]
    }
   ],
   "source": [
    "#Getting the number of rows and colmuns in each data frame\n",
    "#acs1\n",
    "acs1.shape #rows and columns\n",
    "acs1.info()"
   ]
  },
  {
   "cell_type": "code",
   "execution_count": 5,
   "metadata": {},
   "outputs": [
    {
     "ename": "NameError",
     "evalue": "name 'acs2' is not defined",
     "output_type": "error",
     "traceback": [
      "\u001b[1;31m---------------------------------------------------------------------------\u001b[0m",
      "\u001b[1;31mNameError\u001b[0m                                 Traceback (most recent call last)",
      "\u001b[1;32m<ipython-input-5-75b6a94102da>\u001b[0m in \u001b[0;36m<module>\u001b[1;34m\u001b[0m\n\u001b[0;32m      1\u001b[0m \u001b[1;31m#acs2\u001b[0m\u001b[1;33m\u001b[0m\u001b[1;33m\u001b[0m\u001b[1;33m\u001b[0m\u001b[0m\n\u001b[1;32m----> 2\u001b[1;33m \u001b[0macs2\u001b[0m\u001b[1;33m.\u001b[0m\u001b[0mshape\u001b[0m \u001b[1;31m#rows and columns\u001b[0m\u001b[1;33m\u001b[0m\u001b[1;33m\u001b[0m\u001b[0m\n\u001b[0m",
      "\u001b[1;31mNameError\u001b[0m: name 'acs2' is not defined"
     ]
    }
   ],
   "source": [
    "#acs2\n",
    "acs2.shape #rows and columns"
   ]
  },
  {
   "cell_type": "code",
   "execution_count": 5,
   "metadata": {},
   "outputs": [
    {
     "data": {
      "text/plain": [
       "(3190040, 41)"
      ]
     },
     "execution_count": 5,
     "metadata": {},
     "output_type": "execute_result"
    }
   ],
   "source": [
    "#Concatenating the daata frames\n",
    "\n",
    "ACSdata = pd.concat([acs1, acs2], axis=0, ignore_index=False)\n",
    "#print(ACSdata.head())\n",
    "ACSdata.shape"
   ]
  },
  {
   "cell_type": "code",
   "execution_count": 6,
   "metadata": {},
   "outputs": [
    {
     "name": "stdout",
     "output_type": "stream",
     "text": [
      "<class 'pandas.core.frame.DataFrame'>\n",
      "Index: 3190040 entries, P to P\n",
      "Data columns (total 41 columns):\n",
      "SERIALNO    int64\n",
      "DIVISION    int64\n",
      "SPORDER     int64\n",
      "PUMA        int64\n",
      "REGION      int64\n",
      "ST          int64\n",
      "ADJINC      int64\n",
      "PWGTP       int64\n",
      "AGEP        int64\n",
      "CIT         int64\n",
      "COW         float64\n",
      "JWMNP       float64\n",
      "JWTR        float64\n",
      "MAR         int64\n",
      "MARHT       float64\n",
      "MIG         float64\n",
      "MIL         float64\n",
      "PAP         float64\n",
      "RELP        int64\n",
      "SCHL        float64\n",
      "SEX         int64\n",
      "WAGP        float64\n",
      "WKHP        float64\n",
      "WKL         float64\n",
      "DIS         int64\n",
      "DRIVESP     float64\n",
      "ESR         float64\n",
      "FOD1P       float64\n",
      "HICOV       int64\n",
      "JWAP        float64\n",
      "JWDP        float64\n",
      "MIGPUMA     float64\n",
      "MSP         float64\n",
      "NATIVITY    int64\n",
      "OC          float64\n",
      "OCCP        float64\n",
      "PAOC        float64\n",
      "PERNP       float64\n",
      "PINCP       float64\n",
      "RAC1P       int64\n",
      "WAOB        int64\n",
      "dtypes: float64(23), int64(18)\n",
      "memory usage: 1022.2+ MB\n"
     ]
    }
   ],
   "source": [
    "#Data Type Information on the dataset\n",
    "ACSdata.info()"
   ]
  },
  {
   "cell_type": "code",
   "execution_count": 7,
   "metadata": {},
   "outputs": [
    {
     "data": {
      "text/plain": [
       "1394399"
      ]
     },
     "execution_count": 7,
     "metadata": {},
     "output_type": "execute_result"
    }
   ],
   "source": [
    "#Checking for duplicates in the person records (grouped by household)\n",
    "\n",
    "#How many unique households are in the dataset?\n",
    "ACSdata['SERIALNO'].nunique()"
   ]
  },
  {
   "cell_type": "code",
   "execution_count": 8,
   "metadata": {},
   "outputs": [
    {
     "data": {
      "text/plain": [
       "count    3190040\n",
       "mean           2\n",
       "std            1\n",
       "min            1\n",
       "25%            1\n",
       "50%            2\n",
       "75%            3\n",
       "max           20\n",
       "Name: SPORDER, dtype: int64"
      ]
     },
     "execution_count": 8,
     "metadata": {},
     "output_type": "execute_result"
    }
   ],
   "source": [
    "#What is the min/max of people in any household?\n",
    "ACSdata['SPORDER'].describe().astype('int64')"
   ]
  },
  {
   "cell_type": "code",
   "execution_count": 9,
   "metadata": {},
   "outputs": [
    {
     "name": "stdout",
     "output_type": "stream",
     "text": [
      "duplicate\n"
     ]
    }
   ],
   "source": [
    "#ACSdata['duplicate'] = ACSdata.duplicated(subset=['SPORDER', 'SERIALNO'], keep=False)\n",
    "#print('duplicate')\n",
    "\n",
    "#Confirmed no duplicate SPORDERS in ACSdata"
   ]
  },
  {
   "cell_type": "code",
   "execution_count": 11,
   "metadata": {},
   "outputs": [
    {
     "data": {
      "text/plain": [
       "(3190040, 43)"
      ]
     },
     "execution_count": 11,
     "metadata": {},
     "output_type": "execute_result"
    }
   ],
   "source": [
    "ACSdata.shape"
   ]
  },
  {
   "cell_type": "code",
   "execution_count": 13,
   "metadata": {},
   "outputs": [
    {
     "data": {
      "text/plain": [
       "count    3190040\n",
       "mean          41\n",
       "std           23\n",
       "min            0\n",
       "25%           21\n",
       "50%           42\n",
       "75%           60\n",
       "max           96\n",
       "Name: AGEP, dtype: int64"
      ]
     },
     "execution_count": 13,
     "metadata": {},
     "output_type": "execute_result"
    }
   ],
   "source": [
    "#EXPLORING THE DATA\n",
    "\n",
    "#Generating summary statistics - age\n",
    "#ACSdata['AGEP'].describe().astype('int64')\n",
    "\n",
    "#Age range (0-96), data set needs to be filtered to include persons of marriageable age(> 18)"
   ]
  },
  {
   "cell_type": "code",
   "execution_count": 14,
   "metadata": {},
   "outputs": [
    {
     "name": "stdout",
     "output_type": "stream",
     "text": [
      "Number of Rows in ACSdata in which Age < 18: 659314\n"
     ]
    }
   ],
   "source": [
    "#Rows in which value of AGEP column in  less than 18\n",
    "is_lt18 = ACSdata.apply(lambda x: True if x['AGEP'] < 18 else False, axis=1)\n",
    "\n",
    "#Count number of True in the series\n",
    "numofRows = len(is_lt18[is_lt18 ==True].index)\n",
    "\n",
    "print('Number of Rows in ACSdata in which Age < 18:', numofRows)"
   ]
  },
  {
   "cell_type": "code",
   "execution_count": 15,
   "metadata": {},
   "outputs": [
    {
     "name": "stdout",
     "output_type": "stream",
     "text": [
      "(2530726, 43)\n"
     ]
    }
   ],
   "source": [
    "#Wrangling - Removing persons from the dataset who are < 18 years and creating a new df (ACSmarry)\n",
    "ACSmarry = ACSdata[ACSdata.AGEP >= 18]\n",
    "print(ACSmarry.shape)"
   ]
  },
  {
   "cell_type": "code",
   "execution_count": 16,
   "metadata": {},
   "outputs": [
    {
     "data": {
      "text/plain": [
       "1    1360300\n",
       "5     671044\n",
       "3     285664\n",
       "2     169374\n",
       "4      44344\n",
       "Name: MAR, dtype: int64"
      ]
     },
     "execution_count": 16,
     "metadata": {},
     "output_type": "execute_result"
    }
   ],
   "source": [
    "#EXPLORING THE DATAFRAME (ACSmarry)\n",
    "#Generating frequency table - marriage\n",
    "ACSmarry['MAR'].value_counts()"
   ]
  },
  {
   "cell_type": "code",
   "execution_count": 17,
   "metadata": {},
   "outputs": [],
   "source": [
    "#Printing ACSmarry to csv\n",
    "\n",
    "#fields = ['AGEP','MAR','SERIALNO','SPORDER']\n",
    "#Create a sample of top 100 to explore a smaller file size\n",
    "#ACSsample = ACSmarry.head(10000)\n",
    "# update to the path on your local drive\n",
    "#ACSsample.to_csv(r'testdata/sample1.csv', columns=fields)"
   ]
  },
  {
   "cell_type": "code",
   "execution_count": 43,
   "metadata": {},
   "outputs": [
    {
     "name": "stderr",
     "output_type": "stream",
     "text": [
      "C:\\ProgramData\\Anaconda3\\lib\\site-packages\\ipykernel_launcher.py:4: SettingWithCopyWarning: \n",
      "A value is trying to be set on a copy of a slice from a DataFrame.\n",
      "Try using .loc[row_indexer,col_indexer] = value instead\n",
      "\n",
      "See the caveats in the documentation: http://pandas.pydata.org/pandas-docs/stable/indexing.html#indexing-view-versus-copy\n",
      "  after removing the cwd from sys.path.\n",
      "C:\\ProgramData\\Anaconda3\\lib\\site-packages\\ipykernel_launcher.py:5: SettingWithCopyWarning: \n",
      "A value is trying to be set on a copy of a slice from a DataFrame.\n",
      "Try using .loc[row_indexer,col_indexer] = value instead\n",
      "\n",
      "See the caveats in the documentation: http://pandas.pydata.org/pandas-docs/stable/indexing.html#indexing-view-versus-copy\n",
      "  \"\"\"\n",
      "C:\\ProgramData\\Anaconda3\\lib\\site-packages\\ipykernel_launcher.py:6: SettingWithCopyWarning: \n",
      "A value is trying to be set on a copy of a slice from a DataFrame.\n",
      "Try using .loc[row_indexer,col_indexer] = value instead\n",
      "\n",
      "See the caveats in the documentation: http://pandas.pydata.org/pandas-docs/stable/indexing.html#indexing-view-versus-copy\n",
      "  \n"
     ]
    }
   ],
   "source": [
    "#Using ADJINC to calculate wages/earning and income variables\n",
    "#Note--> this code will need to be adjusted for the multi-year file\n",
    "\n",
    "ACSmarry['WAGESP'] = ACSmarry.WAGP * (ACSmarry.ADJINC / 1000000 )\n",
    "ACSmarry['INCOMEP'] = ACSmarry.PINCP * (ACSmarry.ADJINC / 1000000 )\n",
    "ACSmarry['EARNP'] = ACSmarry.PERNP * (ACSmarry.ADJINC / 1000000 )"
   ]
  },
  {
   "cell_type": "code",
   "execution_count": 44,
   "metadata": {},
   "outputs": [
    {
     "name": "stdout",
     "output_type": "stream",
     "text": [
      "     ADJINC     WAGP      WAGESP    PINCP     INCOMEP    PERNP       EARNP\n",
      "RT                                                                        \n",
      "P   1011189      0.0      0.0000  10000.0  10111.8900      0.0      0.0000\n",
      "P   1011189  38500.0  38930.7765  38500.0  38930.7765  38500.0  38930.7765\n",
      "P   1011189  72000.0  72805.6080  82000.0  82917.4980  72000.0  72805.6080\n",
      "P   1011189      0.0      0.0000   8700.0   8797.3443      0.0      0.0000\n",
      "P   1011189  18000.0  18201.4020  18300.0  18504.7587  18000.0  18201.4020\n"
     ]
    }
   ],
   "source": [
    "#print(ACSmarry[['ADJINC', 'WAGP', 'WAGESP', 'PINCP', 'INCOMEP', 'PERNP', 'EARNP']].head())"
   ]
  },
  {
   "cell_type": "code",
   "execution_count": 60,
   "metadata": {},
   "outputs": [
    {
     "data": {
      "text/html": [
       "<div>\n",
       "<style scoped>\n",
       "    .dataframe tbody tr th:only-of-type {\n",
       "        vertical-align: middle;\n",
       "    }\n",
       "\n",
       "    .dataframe tbody tr th {\n",
       "        vertical-align: top;\n",
       "    }\n",
       "\n",
       "    .dataframe thead th {\n",
       "        text-align: right;\n",
       "    }\n",
       "</style>\n",
       "<table border=\"1\" class=\"dataframe\">\n",
       "  <thead>\n",
       "    <tr style=\"text-align: right;\">\n",
       "      <th></th>\n",
       "      <th>WAGESP</th>\n",
       "      <th>INCOMEP</th>\n",
       "      <th>EARNP</th>\n",
       "      <th>AGEP</th>\n",
       "      <th>JWMNP</th>\n",
       "      <th>WKHP</th>\n",
       "    </tr>\n",
       "  </thead>\n",
       "  <tbody>\n",
       "    <tr>\n",
       "      <th>count</th>\n",
       "      <td>2530726</td>\n",
       "      <td>2530726</td>\n",
       "      <td>2530726</td>\n",
       "      <td>2530726</td>\n",
       "      <td>1362382</td>\n",
       "      <td>1627454</td>\n",
       "    </tr>\n",
       "    <tr>\n",
       "      <th>mean</th>\n",
       "      <td>31072</td>\n",
       "      <td>43202</td>\n",
       "      <td>33157</td>\n",
       "      <td>49</td>\n",
       "      <td>27</td>\n",
       "      <td>38</td>\n",
       "    </tr>\n",
       "    <tr>\n",
       "      <th>std</th>\n",
       "      <td>55479</td>\n",
       "      <td>62819</td>\n",
       "      <td>58403</td>\n",
       "      <td>18</td>\n",
       "      <td>23</td>\n",
       "      <td>12</td>\n",
       "    </tr>\n",
       "    <tr>\n",
       "      <th>min</th>\n",
       "      <td>0</td>\n",
       "      <td>-9201</td>\n",
       "      <td>-9100</td>\n",
       "      <td>18</td>\n",
       "      <td>1</td>\n",
       "      <td>1</td>\n",
       "    </tr>\n",
       "    <tr>\n",
       "      <th>25%</th>\n",
       "      <td>0</td>\n",
       "      <td>9950</td>\n",
       "      <td>0</td>\n",
       "      <td>34</td>\n",
       "      <td>12</td>\n",
       "      <td>35</td>\n",
       "    </tr>\n",
       "    <tr>\n",
       "      <th>50%</th>\n",
       "      <td>10213</td>\n",
       "      <td>26290</td>\n",
       "      <td>14156</td>\n",
       "      <td>50</td>\n",
       "      <td>20</td>\n",
       "      <td>40</td>\n",
       "    </tr>\n",
       "    <tr>\n",
       "      <th>75%</th>\n",
       "      <td>43481</td>\n",
       "      <td>53593</td>\n",
       "      <td>45503</td>\n",
       "      <td>64</td>\n",
       "      <td>35</td>\n",
       "      <td>44</td>\n",
       "    </tr>\n",
       "    <tr>\n",
       "      <th>max</th>\n",
       "      <td>744235</td>\n",
       "      <td>1580488</td>\n",
       "      <td>1274098</td>\n",
       "      <td>96</td>\n",
       "      <td>160</td>\n",
       "      <td>99</td>\n",
       "    </tr>\n",
       "  </tbody>\n",
       "</table>\n",
       "</div>"
      ],
      "text/plain": [
       "        WAGESP  INCOMEP    EARNP     AGEP    JWMNP     WKHP\n",
       "count  2530726  2530726  2530726  2530726  1362382  1627454\n",
       "mean     31072    43202    33157       49       27       38\n",
       "std      55479    62819    58403       18       23       12\n",
       "min          0    -9201    -9100       18        1        1\n",
       "25%          0     9950        0       34       12       35\n",
       "50%      10213    26290    14156       50       20       40\n",
       "75%      43481    53593    45503       64       35       44\n",
       "max     744235  1580488  1274098       96      160       99"
      ]
     },
     "execution_count": 60,
     "metadata": {},
     "output_type": "execute_result"
    }
   ],
   "source": [
    "#Running summary statistics for continuous variables\n",
    "ACScont = ACSmarry[['WAGESP', 'INCOMEP', 'EARNP', 'AGEP', 'JWMNP', 'WKHP']]\n",
    "\n",
    "ACScont.describe().astype('int64')"
   ]
  },
  {
   "cell_type": "code",
   "execution_count": 75,
   "metadata": {},
   "outputs": [
    {
     "data": {
      "text/plain": [
       "1.0     1231373\n",
       "11.0      80443\n",
       "10.0      40975\n",
       "2.0       29522\n",
       "4.0       25376\n",
       "12.0      11953\n",
       "5.0        8971\n",
       "9.0        7865\n",
       "8.0        2562\n",
       "7.0        2372\n",
       "3.0         772\n",
       "6.0         641\n",
       "Name: JWTR, dtype: int64"
      ]
     },
     "execution_count": 75,
     "metadata": {},
     "output_type": "execute_result"
    }
   ],
   "source": [
    "#FRequency tables for discrete variables\n",
    "\n",
    "ACSmarry['JWTR'].value_counts(sort=True) #Means of transportation to work\n",
    "\n",
    "#MAK, SHOULD WE TRANSFORM THIS VARIABLE/COLLAPSE INTO MORE CONSDENSED CAT?"
   ]
  },
  {
   "cell_type": "code",
   "execution_count": 99,
   "metadata": {},
   "outputs": [
    {
     "data": {
      "text/plain": [
       "1    1360300\n",
       "5     671044\n",
       "3     285664\n",
       "2     169374\n",
       "4      44344\n",
       "Name: MAR, dtype: int64"
      ]
     },
     "execution_count": 99,
     "metadata": {},
     "output_type": "execute_result"
    }
   ],
   "source": [
    "ACSmarry['MAR'].value_counts(sort=True) #Marital status"
   ]
  },
  {
   "cell_type": "code",
   "execution_count": 101,
   "metadata": {},
   "outputs": [
    {
     "data": {
      "text/plain": [
       "1    53.751374\n",
       "5    26.515869\n",
       "3    11.287828\n",
       "2     6.692704\n",
       "4     1.752224\n",
       "Name: MAR, dtype: float64"
      ]
     },
     "execution_count": 101,
     "metadata": {},
     "output_type": "execute_result"
    }
   ],
   "source": [
    "ACSmarry['MAR'].value_counts(sort=True, normalize=True) * 100 #Marital status"
   ]
  },
  {
   "cell_type": "code",
   "execution_count": 77,
   "metadata": {},
   "outputs": [
    {
     "data": {
      "text/plain": [
       "1.0    1385866\n",
       "2.0     366893\n",
       "3.0     106923\n",
       "Name: MARHT, dtype: int64"
      ]
     },
     "execution_count": 77,
     "metadata": {},
     "output_type": "execute_result"
    }
   ],
   "source": [
    "ACSmarry['MARHT'].value_counts(sort=True) #Number of times married"
   ]
  },
  {
   "cell_type": "code",
   "execution_count": 89,
   "metadata": {},
   "outputs": [
    {
     "data": {
      "text/html": [
       "<div>\n",
       "<style scoped>\n",
       "    .dataframe tbody tr th:only-of-type {\n",
       "        vertical-align: middle;\n",
       "    }\n",
       "\n",
       "    .dataframe tbody tr th {\n",
       "        vertical-align: top;\n",
       "    }\n",
       "\n",
       "    .dataframe thead th {\n",
       "        text-align: right;\n",
       "    }\n",
       "</style>\n",
       "<table border=\"1\" class=\"dataframe\">\n",
       "  <thead>\n",
       "    <tr style=\"text-align: right;\">\n",
       "      <th>MARHT</th>\n",
       "      <th>1.0</th>\n",
       "      <th>2.0</th>\n",
       "      <th>3.0</th>\n",
       "      <th>All</th>\n",
       "    </tr>\n",
       "    <tr>\n",
       "      <th>MAR</th>\n",
       "      <th></th>\n",
       "      <th></th>\n",
       "      <th></th>\n",
       "      <th></th>\n",
       "    </tr>\n",
       "  </thead>\n",
       "  <tbody>\n",
       "    <tr>\n",
       "      <th>1</th>\n",
       "      <td>1031074</td>\n",
       "      <td>257976</td>\n",
       "      <td>71250</td>\n",
       "      <td>1360300</td>\n",
       "    </tr>\n",
       "    <tr>\n",
       "      <th>2</th>\n",
       "      <td>125754</td>\n",
       "      <td>33561</td>\n",
       "      <td>10059</td>\n",
       "      <td>169374</td>\n",
       "    </tr>\n",
       "    <tr>\n",
       "      <th>3</th>\n",
       "      <td>196988</td>\n",
       "      <td>66202</td>\n",
       "      <td>22474</td>\n",
       "      <td>285664</td>\n",
       "    </tr>\n",
       "    <tr>\n",
       "      <th>4</th>\n",
       "      <td>32050</td>\n",
       "      <td>9154</td>\n",
       "      <td>3140</td>\n",
       "      <td>44344</td>\n",
       "    </tr>\n",
       "    <tr>\n",
       "      <th>All</th>\n",
       "      <td>1385866</td>\n",
       "      <td>366893</td>\n",
       "      <td>106923</td>\n",
       "      <td>1859682</td>\n",
       "    </tr>\n",
       "  </tbody>\n",
       "</table>\n",
       "</div>"
      ],
      "text/plain": [
       "MARHT      1.0     2.0     3.0      All\n",
       "MAR                                    \n",
       "1      1031074  257976   71250  1360300\n",
       "2       125754   33561   10059   169374\n",
       "3       196988   66202   22474   285664\n",
       "4        32050    9154    3140    44344\n",
       "All    1385866  366893  106923  1859682"
      ]
     },
     "execution_count": 89,
     "metadata": {},
     "output_type": "execute_result"
    }
   ],
   "source": [
    "#Marital status by the number of times married\n",
    "pd.crosstab(ACSmarry.MAR, ACSmarry.MARHT, margins=True)"
   ]
  },
  {
   "cell_type": "code",
   "execution_count": 90,
   "metadata": {},
   "outputs": [],
   "source": [
    "#MAK, HOW DO WE ADD THE DATA LABLE VALUES TO MAKE THE TABLES MORE READABLE??  IMPORT SAS FILES?"
   ]
  },
  {
   "cell_type": "code",
   "execution_count": 96,
   "metadata": {},
   "outputs": [
    {
     "data": {
      "text/html": [
       "<div>\n",
       "<style scoped>\n",
       "    .dataframe tbody tr th:only-of-type {\n",
       "        vertical-align: middle;\n",
       "    }\n",
       "\n",
       "    .dataframe tbody tr th {\n",
       "        vertical-align: top;\n",
       "    }\n",
       "\n",
       "    .dataframe thead th {\n",
       "        text-align: right;\n",
       "    }\n",
       "</style>\n",
       "<table border=\"1\" class=\"dataframe\">\n",
       "  <thead>\n",
       "    <tr style=\"text-align: right;\">\n",
       "      <th>MARHT</th>\n",
       "      <th>1.0</th>\n",
       "      <th>2.0</th>\n",
       "      <th>3.0</th>\n",
       "    </tr>\n",
       "    <tr>\n",
       "      <th>MAR</th>\n",
       "      <th></th>\n",
       "      <th></th>\n",
       "      <th></th>\n",
       "    </tr>\n",
       "  </thead>\n",
       "  <tbody>\n",
       "    <tr>\n",
       "      <th>1</th>\n",
       "      <td>75.80</td>\n",
       "      <td>18.96</td>\n",
       "      <td>5.24</td>\n",
       "    </tr>\n",
       "    <tr>\n",
       "      <th>2</th>\n",
       "      <td>74.25</td>\n",
       "      <td>19.81</td>\n",
       "      <td>5.94</td>\n",
       "    </tr>\n",
       "    <tr>\n",
       "      <th>3</th>\n",
       "      <td>68.96</td>\n",
       "      <td>23.17</td>\n",
       "      <td>7.87</td>\n",
       "    </tr>\n",
       "    <tr>\n",
       "      <th>4</th>\n",
       "      <td>72.28</td>\n",
       "      <td>20.64</td>\n",
       "      <td>7.08</td>\n",
       "    </tr>\n",
       "    <tr>\n",
       "      <th>All</th>\n",
       "      <td>74.52</td>\n",
       "      <td>19.73</td>\n",
       "      <td>5.75</td>\n",
       "    </tr>\n",
       "  </tbody>\n",
       "</table>\n",
       "</div>"
      ],
      "text/plain": [
       "MARHT    1.0    2.0   3.0\n",
       "MAR                      \n",
       "1      75.80  18.96  5.24\n",
       "2      74.25  19.81  5.94\n",
       "3      68.96  23.17  7.87\n",
       "4      72.28  20.64  7.08\n",
       "All    74.52  19.73  5.75"
      ]
     },
     "execution_count": 96,
     "metadata": {},
     "output_type": "execute_result"
    }
   ],
   "source": [
    "#Marital status by the number of times married\n",
    "pd.crosstab(ACSmarry.MAR, ACSmarry.MARHT, margins=True, normalize='index')\\\n",
    "    .round(4)*100"
   ]
  },
  {
   "cell_type": "code",
   "execution_count": 103,
   "metadata": {},
   "outputs": [
    {
     "data": {
      "text/html": [
       "<div>\n",
       "<style scoped>\n",
       "    .dataframe tbody tr th:only-of-type {\n",
       "        vertical-align: middle;\n",
       "    }\n",
       "\n",
       "    .dataframe tbody tr th {\n",
       "        vertical-align: top;\n",
       "    }\n",
       "\n",
       "    .dataframe thead th {\n",
       "        text-align: right;\n",
       "    }\n",
       "</style>\n",
       "<table border=\"1\" class=\"dataframe\">\n",
       "  <thead>\n",
       "    <tr style=\"text-align: right;\">\n",
       "      <th>RAC1P</th>\n",
       "      <th>1</th>\n",
       "      <th>2</th>\n",
       "      <th>3</th>\n",
       "      <th>4</th>\n",
       "      <th>5</th>\n",
       "      <th>6</th>\n",
       "      <th>7</th>\n",
       "      <th>8</th>\n",
       "      <th>9</th>\n",
       "      <th>All</th>\n",
       "    </tr>\n",
       "    <tr>\n",
       "      <th>MAR</th>\n",
       "      <th></th>\n",
       "      <th></th>\n",
       "      <th></th>\n",
       "      <th></th>\n",
       "      <th></th>\n",
       "      <th></th>\n",
       "      <th></th>\n",
       "      <th></th>\n",
       "      <th></th>\n",
       "      <th></th>\n",
       "    </tr>\n",
       "  </thead>\n",
       "  <tbody>\n",
       "    <tr>\n",
       "      <th>1</th>\n",
       "      <td>1116910</td>\n",
       "      <td>80954</td>\n",
       "      <td>8567</td>\n",
       "      <td>558</td>\n",
       "      <td>1335</td>\n",
       "      <td>85886</td>\n",
       "      <td>2009</td>\n",
       "      <td>41848</td>\n",
       "      <td>22233</td>\n",
       "      <td>1360300</td>\n",
       "    </tr>\n",
       "    <tr>\n",
       "      <th>2</th>\n",
       "      <td>138422</td>\n",
       "      <td>17937</td>\n",
       "      <td>1417</td>\n",
       "      <td>102</td>\n",
       "      <td>231</td>\n",
       "      <td>6325</td>\n",
       "      <td>213</td>\n",
       "      <td>2706</td>\n",
       "      <td>2021</td>\n",
       "      <td>169374</td>\n",
       "    </tr>\n",
       "    <tr>\n",
       "      <th>3</th>\n",
       "      <td>228406</td>\n",
       "      <td>32913</td>\n",
       "      <td>2873</td>\n",
       "      <td>136</td>\n",
       "      <td>444</td>\n",
       "      <td>7265</td>\n",
       "      <td>349</td>\n",
       "      <td>7162</td>\n",
       "      <td>6116</td>\n",
       "      <td>285664</td>\n",
       "    </tr>\n",
       "    <tr>\n",
       "      <th>4</th>\n",
       "      <td>28497</td>\n",
       "      <td>9335</td>\n",
       "      <td>567</td>\n",
       "      <td>42</td>\n",
       "      <td>100</td>\n",
       "      <td>1500</td>\n",
       "      <td>86</td>\n",
       "      <td>2962</td>\n",
       "      <td>1255</td>\n",
       "      <td>44344</td>\n",
       "    </tr>\n",
       "    <tr>\n",
       "      <th>5</th>\n",
       "      <td>457907</td>\n",
       "      <td>107909</td>\n",
       "      <td>7831</td>\n",
       "      <td>695</td>\n",
       "      <td>1219</td>\n",
       "      <td>37490</td>\n",
       "      <td>1373</td>\n",
       "      <td>33142</td>\n",
       "      <td>23478</td>\n",
       "      <td>671044</td>\n",
       "    </tr>\n",
       "    <tr>\n",
       "      <th>All</th>\n",
       "      <td>1970142</td>\n",
       "      <td>249048</td>\n",
       "      <td>21255</td>\n",
       "      <td>1533</td>\n",
       "      <td>3329</td>\n",
       "      <td>138466</td>\n",
       "      <td>4030</td>\n",
       "      <td>87820</td>\n",
       "      <td>55103</td>\n",
       "      <td>2530726</td>\n",
       "    </tr>\n",
       "  </tbody>\n",
       "</table>\n",
       "</div>"
      ],
      "text/plain": [
       "RAC1P        1       2      3     4     5       6     7      8      9      All\n",
       "MAR                                                                           \n",
       "1      1116910   80954   8567   558  1335   85886  2009  41848  22233  1360300\n",
       "2       138422   17937   1417   102   231    6325   213   2706   2021   169374\n",
       "3       228406   32913   2873   136   444    7265   349   7162   6116   285664\n",
       "4        28497    9335    567    42   100    1500    86   2962   1255    44344\n",
       "5       457907  107909   7831   695  1219   37490  1373  33142  23478   671044\n",
       "All    1970142  249048  21255  1533  3329  138466  4030  87820  55103  2530726"
      ]
     },
     "execution_count": 103,
     "metadata": {},
     "output_type": "execute_result"
    }
   ],
   "source": [
    "#Race by Marital status\n",
    "\n",
    "pd.crosstab(ACSmarry.MAR, ACSmarry.RAC1P, margins=True)"
   ]
  },
  {
   "cell_type": "code",
   "execution_count": 104,
   "metadata": {},
   "outputs": [
    {
     "data": {
      "text/html": [
       "<div>\n",
       "<style scoped>\n",
       "    .dataframe tbody tr th:only-of-type {\n",
       "        vertical-align: middle;\n",
       "    }\n",
       "\n",
       "    .dataframe tbody tr th {\n",
       "        vertical-align: top;\n",
       "    }\n",
       "\n",
       "    .dataframe thead th {\n",
       "        text-align: right;\n",
       "    }\n",
       "</style>\n",
       "<table border=\"1\" class=\"dataframe\">\n",
       "  <thead>\n",
       "    <tr style=\"text-align: right;\">\n",
       "      <th>RAC1P</th>\n",
       "      <th>1</th>\n",
       "      <th>2</th>\n",
       "      <th>3</th>\n",
       "      <th>4</th>\n",
       "      <th>5</th>\n",
       "      <th>6</th>\n",
       "      <th>7</th>\n",
       "      <th>8</th>\n",
       "      <th>9</th>\n",
       "    </tr>\n",
       "    <tr>\n",
       "      <th>MAR</th>\n",
       "      <th></th>\n",
       "      <th></th>\n",
       "      <th></th>\n",
       "      <th></th>\n",
       "      <th></th>\n",
       "      <th></th>\n",
       "      <th></th>\n",
       "      <th></th>\n",
       "      <th></th>\n",
       "    </tr>\n",
       "  </thead>\n",
       "  <tbody>\n",
       "    <tr>\n",
       "      <th>1</th>\n",
       "      <td>82.11</td>\n",
       "      <td>5.95</td>\n",
       "      <td>0.63</td>\n",
       "      <td>0.04</td>\n",
       "      <td>0.10</td>\n",
       "      <td>6.31</td>\n",
       "      <td>0.15</td>\n",
       "      <td>3.08</td>\n",
       "      <td>1.63</td>\n",
       "    </tr>\n",
       "    <tr>\n",
       "      <th>2</th>\n",
       "      <td>81.73</td>\n",
       "      <td>10.59</td>\n",
       "      <td>0.84</td>\n",
       "      <td>0.06</td>\n",
       "      <td>0.14</td>\n",
       "      <td>3.73</td>\n",
       "      <td>0.13</td>\n",
       "      <td>1.60</td>\n",
       "      <td>1.19</td>\n",
       "    </tr>\n",
       "    <tr>\n",
       "      <th>3</th>\n",
       "      <td>79.96</td>\n",
       "      <td>11.52</td>\n",
       "      <td>1.01</td>\n",
       "      <td>0.05</td>\n",
       "      <td>0.16</td>\n",
       "      <td>2.54</td>\n",
       "      <td>0.12</td>\n",
       "      <td>2.51</td>\n",
       "      <td>2.14</td>\n",
       "    </tr>\n",
       "    <tr>\n",
       "      <th>4</th>\n",
       "      <td>64.26</td>\n",
       "      <td>21.05</td>\n",
       "      <td>1.28</td>\n",
       "      <td>0.09</td>\n",
       "      <td>0.23</td>\n",
       "      <td>3.38</td>\n",
       "      <td>0.19</td>\n",
       "      <td>6.68</td>\n",
       "      <td>2.83</td>\n",
       "    </tr>\n",
       "    <tr>\n",
       "      <th>5</th>\n",
       "      <td>68.24</td>\n",
       "      <td>16.08</td>\n",
       "      <td>1.17</td>\n",
       "      <td>0.10</td>\n",
       "      <td>0.18</td>\n",
       "      <td>5.59</td>\n",
       "      <td>0.20</td>\n",
       "      <td>4.94</td>\n",
       "      <td>3.50</td>\n",
       "    </tr>\n",
       "    <tr>\n",
       "      <th>All</th>\n",
       "      <td>77.85</td>\n",
       "      <td>9.84</td>\n",
       "      <td>0.84</td>\n",
       "      <td>0.06</td>\n",
       "      <td>0.13</td>\n",
       "      <td>5.47</td>\n",
       "      <td>0.16</td>\n",
       "      <td>3.47</td>\n",
       "      <td>2.18</td>\n",
       "    </tr>\n",
       "  </tbody>\n",
       "</table>\n",
       "</div>"
      ],
      "text/plain": [
       "RAC1P      1      2     3     4     5     6     7     8     9\n",
       "MAR                                                          \n",
       "1      82.11   5.95  0.63  0.04  0.10  6.31  0.15  3.08  1.63\n",
       "2      81.73  10.59  0.84  0.06  0.14  3.73  0.13  1.60  1.19\n",
       "3      79.96  11.52  1.01  0.05  0.16  2.54  0.12  2.51  2.14\n",
       "4      64.26  21.05  1.28  0.09  0.23  3.38  0.19  6.68  2.83\n",
       "5      68.24  16.08  1.17  0.10  0.18  5.59  0.20  4.94  3.50\n",
       "All    77.85   9.84  0.84  0.06  0.13  5.47  0.16  3.47  2.18"
      ]
     },
     "execution_count": 104,
     "metadata": {},
     "output_type": "execute_result"
    }
   ],
   "source": [
    "#Marital status by the number of times married\n",
    "pd.crosstab(ACSmarry.MAR, ACSmarry.RAC1P, margins=True, normalize='index')\\\n",
    "    .round(4) *100"
   ]
  },
  {
   "cell_type": "code",
   "execution_count": 97,
   "metadata": {},
   "outputs": [],
   "source": [
    "#contingency_table = pd.crosstab(\n",
    " #   workhour_by_sex['sex'],\n",
    "  #  workhour_by_sex['hours_per_week_categories'],\n",
    "   # margins = True\n",
    "#)\n",
    "#contingency_table"
   ]
  },
  {
   "cell_type": "code",
   "execution_count": null,
   "metadata": {},
   "outputs": [],
   "source": [
    "#Assigns the frequency values\n",
    "#malecount = contingency_table.iloc[0][0:6].values\n",
    "#femalecount = contingency_table.iloc[1][0:6].values\n",
    "\n",
    "#Plots the bar chart\n",
    "#fig = plt.figure(figsize=(10, 5))\n",
    "#sns.set(font_scale=1.8)\n",
    "#categories = [\"0-9\",\"10-19\",\"20-29\",\"30-39\",\"40-49\",\"50+\"]\n",
    "#p1 = plt.bar(categories, malecount, 0.55, color='#d62728')\n",
    "#p2 = plt.bar(categories, femalecount, 0.55, bottom=malecount)\n",
    "#plt.legend((p2[0], p1[0]), ('Male', 'Female'))\n",
    "#plt.xlabel('Hours per Week Worked')\n",
    "#plt.ylabel('Count')\n",
    "#plt.show()"
   ]
  },
  {
   "cell_type": "code",
   "execution_count": 2,
   "metadata": {},
   "outputs": [],
   "source": [
    "#Generate list of weights of the format PWGTP1 to PWGTP80\n",
    "#weight_index = range(1,81,1)\n",
    "#weight_list = ['PWGTP'+str(i) for i in weight_index]\n",
    "#print(weight_list)\n",
    "\n",
    "#THIS IS NOT 100% CORRECT.  THE WEIGHTS ALREADY EXIST ON THE CSV FILES\n"
   ]
  }
 ],
 "metadata": {
  "kernelspec": {
   "display_name": "Python 3",
   "language": "python",
   "name": "python3"
  },
  "language_info": {
   "codemirror_mode": {
    "name": "ipython",
    "version": 3
   },
   "file_extension": ".py",
   "mimetype": "text/x-python",
   "name": "python",
   "nbconvert_exporter": "python",
   "pygments_lexer": "ipython3",
   "version": "3.6.8"
  }
 },
 "nbformat": 4,
 "nbformat_minor": 2
}
