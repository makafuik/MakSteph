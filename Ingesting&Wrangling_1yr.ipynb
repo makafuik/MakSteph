{
 "cells": [
  {
   "cell_type": "code",
   "execution_count": 1,
   "metadata": {},
   "outputs": [],
   "source": [
    "#Importing Python packages\n",
    "import pandas as pd\n",
    "import numpy as np \n",
    "import seaborn as sns\n",
    "import matplotlib as plt"
   ]
  },
  {
   "cell_type": "code",
   "execution_count": 2,
   "metadata": {
    "scrolled": true
   },
   "outputs": [
    {
     "name": "stdout",
     "output_type": "stream",
     "text": [
      "         SERIALNO  DIVISION  SPORDER  PUMA  REGION  ST   ADJINC  PWGTP  AGEP  \\\n",
      "RT                                                                             \n",
      "P   2017000000016         6        1  2500       3   1  1011189    206    73   \n",
      "P   2017000000031         6        1  1800       3   1  1011189     45    31   \n",
      "P   2017000000061         6        1  2400       3   1  1011189    136    41   \n",
      "P   2017000000061         6        2  2400       3   1  1011189    121    48   \n",
      "P   2017000000061         6        3  2400       3   1  1011189    111    16   \n",
      "\n",
      "    CIT  ...  MIGPUMA  MSP  NATIVITY   OC    OCCP  PAOC    PERNP    PINCP  \\\n",
      "RT       ...                                                                \n",
      "P     1  ...      NaN  5.0         1  0.0     NaN   NaN      0.0  10000.0   \n",
      "P     1  ...      NaN  6.0         1  0.0   350.0   4.0  38500.0  38500.0   \n",
      "P     1  ...      NaN  1.0         1  0.0  6260.0   NaN  72000.0  82000.0   \n",
      "P     1  ...      NaN  1.0         1  0.0     NaN   2.0      0.0   8700.0   \n",
      "P     1  ...      NaN  6.0         1  1.0     NaN   NaN      0.0      0.0   \n",
      "\n",
      "    RAC1P  WAOB  \n",
      "RT               \n",
      "P       2     1  \n",
      "P       1     1  \n",
      "P       1     1  \n",
      "P       1     1  \n",
      "P       1     1  \n",
      "\n",
      "[5 rows x 41 columns]\n",
      "         SERIALNO  DIVISION  SPORDER  PUMA  REGION  ST   ADJINC  PWGTP  AGEP  \\\n",
      "RT                                                                             \n",
      "P   2017000000075         4        1  1003       2  29  1011189    122    48   \n",
      "P   2017000000075         4        2  1003       2  29  1011189    141    44   \n",
      "P   2017000000075         4        3  1003       2  29  1011189    148    17   \n",
      "P   2017000000075         4        4  1003       2  29  1011189    119    11   \n",
      "P   2017000000167         4        1   200       2  29  1011189     53    77   \n",
      "\n",
      "    CIT  ...  MIGPUMA  MSP  NATIVITY   OC    OCCP  PAOC    PERNP    PINCP  \\\n",
      "RT       ...                                                                \n",
      "P     1  ...      NaN  1.0         1  0.0  9130.0   NaN  70000.0  70000.0   \n",
      "P     1  ...      NaN  1.0         1  0.0  3645.0   2.0  40000.0  40000.0   \n",
      "P     1  ...      NaN  6.0         1  1.0  4020.0   4.0   5000.0   5000.0   \n",
      "P     1  ...      NaN  NaN         1  1.0     NaN   NaN      NaN      NaN   \n",
      "P     1  ...      NaN  4.0         1  0.0     NaN   4.0      0.0  24300.0   \n",
      "\n",
      "    RAC1P  WAOB  \n",
      "RT               \n",
      "P       1     1  \n",
      "P       1     1  \n",
      "P       1     1  \n",
      "P       1     1  \n",
      "P       1     1  \n",
      "\n",
      "[5 rows x 41 columns]\n"
     ]
    }
   ],
   "source": [
    "#Importing data and selecting pre-specified columns\n",
    "fields = [\"RT\", \"SERIALNO\", \"SPORDER\",\"PWGTP\",\"CIT\",\"COW\",\"DIVISION\",\"PUMA\",\"ST\",\"REGION\",\"AGEP\",\"ADJINC\",\"JWMNP\",\"JWTR\",\n",
    "          \"MAR\",\"MARHT\",\"MIG\",\"MIL\",\"RELP\",\"SCHL\",\"SEX\",\"PAP\",\"WAGP\",\"WKHP\",\"WKL\",\"DIS\",\"DRIVESP\",\"ESR\",\"FOD1P\",\"HICOV\",\"JWAP\",\n",
    "          \"JWDP\",\"MIGPUMA\",\"MSP\",\"NATIVITY\",\"OC\",\"OCCP\",\"PAOC\",\"PERNP\",\"PINCP\",\"RAC1P\",\"WAOB\"]\n",
    "\n",
    "acs1 = pd.read_csv('psam_pusa.csv', sep=',', index_col=0, skipinitialspace=True, usecols=fields)\n",
    "acs2 = pd.read_csv('psam_pusb.csv', sep=',', index_col=0, skipinitialspace=True, usecols=fields)\n",
    "\n",
    "print (acs1.head())\n",
    "print (acs2.head())\n",
    "\n",
    "#MAK:  Would you please write the code to import the replicate weights?"
   ]
  },
  {
   "cell_type": "code",
   "execution_count": 3,
   "metadata": {},
   "outputs": [
    {
     "data": {
      "text/plain": [
       "(1638294, 41)"
      ]
     },
     "execution_count": 3,
     "metadata": {},
     "output_type": "execute_result"
    }
   ],
   "source": [
    "#Getting the number of rows and colmuns in each data frame\n",
    "#acs1\n",
    "acs1.shape #rows and columns"
   ]
  },
  {
   "cell_type": "code",
   "execution_count": 4,
   "metadata": {},
   "outputs": [
    {
     "data": {
      "text/plain": [
       "(1551746, 41)"
      ]
     },
     "execution_count": 4,
     "metadata": {},
     "output_type": "execute_result"
    }
   ],
   "source": [
    "#acs2\n",
    "acs2.shape #rows and columns"
   ]
  },
  {
   "cell_type": "code",
   "execution_count": 5,
   "metadata": {},
   "outputs": [
    {
     "name": "stdout",
     "output_type": "stream",
     "text": [
      "         SERIALNO  DIVISION  SPORDER  PUMA  REGION  ST   ADJINC  PWGTP  AGEP  \\\n",
      "RT                                                                             \n",
      "P   2017000000016         6        1  2500       3   1  1011189    206    73   \n",
      "P   2017000000031         6        1  1800       3   1  1011189     45    31   \n",
      "P   2017000000061         6        1  2400       3   1  1011189    136    41   \n",
      "P   2017000000061         6        2  2400       3   1  1011189    121    48   \n",
      "P   2017000000061         6        3  2400       3   1  1011189    111    16   \n",
      "\n",
      "    CIT  ...  MIGPUMA  MSP  NATIVITY   OC    OCCP  PAOC    PERNP    PINCP  \\\n",
      "RT       ...                                                                \n",
      "P     1  ...      NaN  5.0         1  0.0     NaN   NaN      0.0  10000.0   \n",
      "P     1  ...      NaN  6.0         1  0.0   350.0   4.0  38500.0  38500.0   \n",
      "P     1  ...      NaN  1.0         1  0.0  6260.0   NaN  72000.0  82000.0   \n",
      "P     1  ...      NaN  1.0         1  0.0     NaN   2.0      0.0   8700.0   \n",
      "P     1  ...      NaN  6.0         1  1.0     NaN   NaN      0.0      0.0   \n",
      "\n",
      "    RAC1P  WAOB  \n",
      "RT               \n",
      "P       2     1  \n",
      "P       1     1  \n",
      "P       1     1  \n",
      "P       1     1  \n",
      "P       1     1  \n",
      "\n",
      "[5 rows x 41 columns]\n"
     ]
    },
    {
     "data": {
      "text/plain": [
       "(3190040, 41)"
      ]
     },
     "execution_count": 5,
     "metadata": {},
     "output_type": "execute_result"
    }
   ],
   "source": [
    "#Concatenating the daata frames\n",
    "\n",
    "ACSdata = pd.concat([acs1, acs2], axis=0, ignore_index=False)\n",
    "print(ACSdata.head())\n",
    "ACSdata.shape"
   ]
  },
  {
   "cell_type": "code",
   "execution_count": 6,
   "metadata": {},
   "outputs": [
    {
     "name": "stdout",
     "output_type": "stream",
     "text": [
      "<class 'pandas.core.frame.DataFrame'>\n",
      "Index: 3190040 entries, P to P\n",
      "Data columns (total 41 columns):\n",
      "SERIALNO    int64\n",
      "DIVISION    int64\n",
      "SPORDER     int64\n",
      "PUMA        int64\n",
      "REGION      int64\n",
      "ST          int64\n",
      "ADJINC      int64\n",
      "PWGTP       int64\n",
      "AGEP        int64\n",
      "CIT         int64\n",
      "COW         float64\n",
      "JWMNP       float64\n",
      "JWTR        float64\n",
      "MAR         int64\n",
      "MARHT       float64\n",
      "MIG         float64\n",
      "MIL         float64\n",
      "PAP         float64\n",
      "RELP        int64\n",
      "SCHL        float64\n",
      "SEX         int64\n",
      "WAGP        float64\n",
      "WKHP        float64\n",
      "WKL         float64\n",
      "DIS         int64\n",
      "DRIVESP     float64\n",
      "ESR         float64\n",
      "FOD1P       float64\n",
      "HICOV       int64\n",
      "JWAP        float64\n",
      "JWDP        float64\n",
      "MIGPUMA     float64\n",
      "MSP         float64\n",
      "NATIVITY    int64\n",
      "OC          float64\n",
      "OCCP        float64\n",
      "PAOC        float64\n",
      "PERNP       float64\n",
      "PINCP       float64\n",
      "RAC1P       int64\n",
      "WAOB        int64\n",
      "dtypes: float64(23), int64(18)\n",
      "memory usage: 1022.2+ MB\n"
     ]
    }
   ],
   "source": [
    "#Data Type Information on the dataset\n",
    "ACSdata.info()"
   ]
  },
  {
   "cell_type": "code",
   "execution_count": 8,
   "metadata": {},
   "outputs": [
    {
     "data": {
      "text/plain": [
       "1394399"
      ]
     },
     "execution_count": 8,
     "metadata": {},
     "output_type": "execute_result"
    }
   ],
   "source": [
    "#Checking for duplicates in the person records (grouped by household)\n",
    "\n",
    "#How many unique households are in the dataset?\n",
    "ACSdata['SERIALNO'].nunique()"
   ]
  },
  {
   "cell_type": "code",
   "execution_count": 10,
   "metadata": {},
   "outputs": [
    {
     "data": {
      "text/plain": [
       "count    3190040\n",
       "mean           2\n",
       "std            1\n",
       "min            1\n",
       "25%            1\n",
       "50%            2\n",
       "75%            3\n",
       "max           20\n",
       "Name: SPORDER, dtype: int64"
      ]
     },
     "execution_count": 10,
     "metadata": {},
     "output_type": "execute_result"
    }
   ],
   "source": [
    "#What is the min/max of people in any household?\n",
    "ACSdata['SPORDER'].describe().astype('int64')"
   ]
  },
  {
   "cell_type": "code",
   "execution_count": 15,
   "metadata": {},
   "outputs": [
    {
     "ename": "SyntaxError",
     "evalue": "unexpected EOF while parsing (<ipython-input-15-58c5177d76e3>, line 2)",
     "output_type": "error",
     "traceback": [
      "\u001b[1;36m  File \u001b[1;32m\"<ipython-input-15-58c5177d76e3>\"\u001b[1;36m, line \u001b[1;32m2\u001b[0m\n\u001b[1;33m    #THIS NEEDS TO BE FIXED\u001b[0m\n\u001b[1;37m                           ^\u001b[0m\n\u001b[1;31mSyntaxError\u001b[0m\u001b[1;31m:\u001b[0m unexpected EOF while parsing\n"
     ]
    }
   ],
   "source": [
    "dup_persons = ACSdata[ACSdata.duplicated(['SPORDER']).groupby(ACSdata['SERIALNO'])\n",
    "#THIS NEEDS TO BE FIXED"
   ]
  },
  {
   "cell_type": "code",
   "execution_count": 16,
   "metadata": {},
   "outputs": [
    {
     "data": {
      "text/plain": [
       "1"
      ]
     },
     "execution_count": 16,
     "metadata": {},
     "output_type": "execute_result"
    }
   ],
   "source": [
    "#new column data_key is a combination of SERIALNO and SPORDER which will be a unique identifier\n",
    "\n",
    "ACSdata['data_key'] = str(ACSdata['SERIALNO'].astype(int))+str(ACSdata['SPORDER'])\n",
    "ACSdata['data_key'].nunique()\n",
    "#ACSdata['data_key'].head(300)"
   ]
  },
  {
   "cell_type": "code",
   "execution_count": 18,
   "metadata": {},
   "outputs": [
    {
     "data": {
      "text/plain": [
       "(3190040, 42)"
      ]
     },
     "execution_count": 18,
     "metadata": {},
     "output_type": "execute_result"
    }
   ],
   "source": [
    "ACSdata.shape"
   ]
  },
  {
   "cell_type": "code",
   "execution_count": 8,
   "metadata": {},
   "outputs": [],
   "source": [
    "#Importing API (cannot use because API does not include the necessary data file)\n",
    "#import requests\n",
    "#url = 'https://api.census.gov/data/2017/acs/acs1?get=NAME,group(B01001)&for=us:1'\n",
    "#r = requests.get(url)\n",
    "#print(r.text)"
   ]
  },
  {
   "cell_type": "code",
   "execution_count": 19,
   "metadata": {},
   "outputs": [
    {
     "data": {
      "text/plain": [
       "count    3190040\n",
       "mean          41\n",
       "std           23\n",
       "min            0\n",
       "25%           21\n",
       "50%           42\n",
       "75%           60\n",
       "max           96\n",
       "Name: AGEP, dtype: int64"
      ]
     },
     "execution_count": 19,
     "metadata": {},
     "output_type": "execute_result"
    }
   ],
   "source": [
    "#EXPLORING THE DATA\n",
    "\n",
    "#Generating summary statistics - age\n",
    "ACSdata['AGEP'].describe().astype('int64')\n",
    "\n",
    "#Age range (0-96), data set needs to be filter to include persons of marriageable age"
   ]
  },
  {
   "cell_type": "code",
   "execution_count": 21,
   "metadata": {},
   "outputs": [
    {
     "data": {
      "text/plain": [
       "60    48929\n",
       "59    48103\n",
       "58    47454\n",
       "55    47426\n",
       "57    47394\n",
       "56    47389\n",
       "54    46616\n",
       "62    46143\n",
       "61    46105\n",
       "18    45698\n",
       "53    45354\n",
       "63    44804\n",
       "52    43969\n",
       "19    43820\n",
       "64    43634\n",
       "65    43343\n",
       "50    42160\n",
       "47    41407\n",
       "17    41121\n",
       "51    41058\n",
       "46    40819\n",
       "66    40790\n",
       "16    40666\n",
       "48    40006\n",
       "35    39792\n",
       "67    39768\n",
       "20    39766\n",
       "70    39602\n",
       "45    39518\n",
       "30    39441\n",
       "      ...  \n",
       "3     33649\n",
       "2     32892\n",
       "1     32162\n",
       "0     31127\n",
       "71    30116\n",
       "72    28904\n",
       "74    28425\n",
       "73    28062\n",
       "75    25018\n",
       "76    22289\n",
       "77    20690\n",
       "78    19595\n",
       "79    18246\n",
       "80    16848\n",
       "81    15418\n",
       "82    14372\n",
       "83    12818\n",
       "84    11836\n",
       "85    11089\n",
       "86    10396\n",
       "94    10248\n",
       "87     9272\n",
       "88     8297\n",
       "89     6466\n",
       "90     4870\n",
       "93     4833\n",
       "95     4764\n",
       "92     3587\n",
       "91     1899\n",
       "96      108\n",
       "Name: AGEP, Length: 97, dtype: int64"
      ]
     },
     "execution_count": 21,
     "metadata": {},
     "output_type": "execute_result"
    }
   ],
   "source": [
    "ACSdata['AGEP'].value_counts()"
   ]
  },
  {
   "cell_type": "code",
   "execution_count": 23,
   "metadata": {},
   "outputs": [
    {
     "ename": "KeyboardInterrupt",
     "evalue": "",
     "output_type": "error",
     "traceback": [
      "\u001b[1;31m---------------------------------------------------------------------------\u001b[0m",
      "\u001b[1;31mKeyboardInterrupt\u001b[0m                         Traceback (most recent call last)",
      "\u001b[1;32m<ipython-input-23-4f590869d4b1>\u001b[0m in \u001b[0;36m<module>\u001b[1;34m\u001b[0m\n\u001b[0;32m      1\u001b[0m \u001b[1;31m#Wrangling - Removing persons from the dataset who are < 18 years and creating a new df (ACSmarry)\u001b[0m\u001b[1;33m\u001b[0m\u001b[1;33m\u001b[0m\u001b[1;33m\u001b[0m\u001b[0m\n\u001b[1;32m----> 2\u001b[1;33m \u001b[0mACSmarry\u001b[0m \u001b[1;33m=\u001b[0m \u001b[0mACSdata\u001b[0m\u001b[1;33m.\u001b[0m\u001b[0mdrop\u001b[0m\u001b[1;33m(\u001b[0m\u001b[0mACSdata\u001b[0m\u001b[1;33m[\u001b[0m\u001b[0mACSdata\u001b[0m\u001b[1;33m.\u001b[0m\u001b[0mAGEP\u001b[0m \u001b[1;33m<\u001b[0m \u001b[1;36m18\u001b[0m\u001b[1;33m]\u001b[0m\u001b[1;33m.\u001b[0m\u001b[0mindex\u001b[0m\u001b[1;33m)\u001b[0m\u001b[1;33m\u001b[0m\u001b[1;33m\u001b[0m\u001b[0m\n\u001b[0m\u001b[0;32m      3\u001b[0m \u001b[0mACSmarry\u001b[0m\u001b[1;33m.\u001b[0m\u001b[0mshape\u001b[0m\u001b[1;33m\u001b[0m\u001b[1;33m\u001b[0m\u001b[0m\n",
      "\u001b[1;32mC:\\ProgramData\\Anaconda3\\lib\\site-packages\\pandas\\core\\frame.py\u001b[0m in \u001b[0;36mdrop\u001b[1;34m(self, labels, axis, index, columns, level, inplace, errors)\u001b[0m\n\u001b[0;32m   3938\u001b[0m                                            \u001b[0mindex\u001b[0m\u001b[1;33m=\u001b[0m\u001b[0mindex\u001b[0m\u001b[1;33m,\u001b[0m \u001b[0mcolumns\u001b[0m\u001b[1;33m=\u001b[0m\u001b[0mcolumns\u001b[0m\u001b[1;33m,\u001b[0m\u001b[1;33m\u001b[0m\u001b[1;33m\u001b[0m\u001b[0m\n\u001b[0;32m   3939\u001b[0m                                            \u001b[0mlevel\u001b[0m\u001b[1;33m=\u001b[0m\u001b[0mlevel\u001b[0m\u001b[1;33m,\u001b[0m \u001b[0minplace\u001b[0m\u001b[1;33m=\u001b[0m\u001b[0minplace\u001b[0m\u001b[1;33m,\u001b[0m\u001b[1;33m\u001b[0m\u001b[1;33m\u001b[0m\u001b[0m\n\u001b[1;32m-> 3940\u001b[1;33m                                            errors=errors)\n\u001b[0m\u001b[0;32m   3941\u001b[0m \u001b[1;33m\u001b[0m\u001b[0m\n\u001b[0;32m   3942\u001b[0m     @rewrite_axis_style_signature('mapper', [('copy', True),\n",
      "\u001b[1;32mC:\\ProgramData\\Anaconda3\\lib\\site-packages\\pandas\\core\\generic.py\u001b[0m in \u001b[0;36mdrop\u001b[1;34m(self, labels, axis, index, columns, level, inplace, errors)\u001b[0m\n\u001b[0;32m   3778\u001b[0m         \u001b[1;32mfor\u001b[0m \u001b[0maxis\u001b[0m\u001b[1;33m,\u001b[0m \u001b[0mlabels\u001b[0m \u001b[1;32min\u001b[0m \u001b[0maxes\u001b[0m\u001b[1;33m.\u001b[0m\u001b[0mitems\u001b[0m\u001b[1;33m(\u001b[0m\u001b[1;33m)\u001b[0m\u001b[1;33m:\u001b[0m\u001b[1;33m\u001b[0m\u001b[1;33m\u001b[0m\u001b[0m\n\u001b[0;32m   3779\u001b[0m             \u001b[1;32mif\u001b[0m \u001b[0mlabels\u001b[0m \u001b[1;32mis\u001b[0m \u001b[1;32mnot\u001b[0m \u001b[1;32mNone\u001b[0m\u001b[1;33m:\u001b[0m\u001b[1;33m\u001b[0m\u001b[1;33m\u001b[0m\u001b[0m\n\u001b[1;32m-> 3780\u001b[1;33m                 \u001b[0mobj\u001b[0m \u001b[1;33m=\u001b[0m \u001b[0mobj\u001b[0m\u001b[1;33m.\u001b[0m\u001b[0m_drop_axis\u001b[0m\u001b[1;33m(\u001b[0m\u001b[0mlabels\u001b[0m\u001b[1;33m,\u001b[0m \u001b[0maxis\u001b[0m\u001b[1;33m,\u001b[0m \u001b[0mlevel\u001b[0m\u001b[1;33m=\u001b[0m\u001b[0mlevel\u001b[0m\u001b[1;33m,\u001b[0m \u001b[0merrors\u001b[0m\u001b[1;33m=\u001b[0m\u001b[0merrors\u001b[0m\u001b[1;33m)\u001b[0m\u001b[1;33m\u001b[0m\u001b[1;33m\u001b[0m\u001b[0m\n\u001b[0m\u001b[0;32m   3781\u001b[0m \u001b[1;33m\u001b[0m\u001b[0m\n\u001b[0;32m   3782\u001b[0m         \u001b[1;32mif\u001b[0m \u001b[0minplace\u001b[0m\u001b[1;33m:\u001b[0m\u001b[1;33m\u001b[0m\u001b[1;33m\u001b[0m\u001b[0m\n",
      "\u001b[1;32mC:\\ProgramData\\Anaconda3\\lib\\site-packages\\pandas\\core\\generic.py\u001b[0m in \u001b[0;36m_drop_axis\u001b[1;34m(self, labels, axis, level, errors)\u001b[0m\n\u001b[0;32m   3827\u001b[0m                 \u001b[0mindexer\u001b[0m \u001b[1;33m=\u001b[0m \u001b[1;33m~\u001b[0m\u001b[0maxis\u001b[0m\u001b[1;33m.\u001b[0m\u001b[0misin\u001b[0m\u001b[1;33m(\u001b[0m\u001b[0mlabels\u001b[0m\u001b[1;33m)\u001b[0m\u001b[1;33m\u001b[0m\u001b[1;33m\u001b[0m\u001b[0m\n\u001b[0;32m   3828\u001b[0m                 \u001b[1;31m# Check if label doesn't exist along axis\u001b[0m\u001b[1;33m\u001b[0m\u001b[1;33m\u001b[0m\u001b[1;33m\u001b[0m\u001b[0m\n\u001b[1;32m-> 3829\u001b[1;33m                 \u001b[0mlabels_missing\u001b[0m \u001b[1;33m=\u001b[0m \u001b[1;33m(\u001b[0m\u001b[0maxis\u001b[0m\u001b[1;33m.\u001b[0m\u001b[0mget_indexer_for\u001b[0m\u001b[1;33m(\u001b[0m\u001b[0mlabels\u001b[0m\u001b[1;33m)\u001b[0m \u001b[1;33m==\u001b[0m \u001b[1;33m-\u001b[0m\u001b[1;36m1\u001b[0m\u001b[1;33m)\u001b[0m\u001b[1;33m.\u001b[0m\u001b[0many\u001b[0m\u001b[1;33m(\u001b[0m\u001b[1;33m)\u001b[0m\u001b[1;33m\u001b[0m\u001b[1;33m\u001b[0m\u001b[0m\n\u001b[0m\u001b[0;32m   3830\u001b[0m                 \u001b[1;32mif\u001b[0m \u001b[0merrors\u001b[0m \u001b[1;33m==\u001b[0m \u001b[1;34m'raise'\u001b[0m \u001b[1;32mand\u001b[0m \u001b[0mlabels_missing\u001b[0m\u001b[1;33m:\u001b[0m\u001b[1;33m\u001b[0m\u001b[1;33m\u001b[0m\u001b[0m\n\u001b[0;32m   3831\u001b[0m                     \u001b[1;32mraise\u001b[0m \u001b[0mKeyError\u001b[0m\u001b[1;33m(\u001b[0m\u001b[1;34m'{} not found in axis'\u001b[0m\u001b[1;33m.\u001b[0m\u001b[0mformat\u001b[0m\u001b[1;33m(\u001b[0m\u001b[0mlabels\u001b[0m\u001b[1;33m)\u001b[0m\u001b[1;33m)\u001b[0m\u001b[1;33m\u001b[0m\u001b[1;33m\u001b[0m\u001b[0m\n",
      "\u001b[1;32mC:\\ProgramData\\Anaconda3\\lib\\site-packages\\pandas\\core\\indexes\\base.py\u001b[0m in \u001b[0;36mget_indexer_for\u001b[1;34m(self, target, **kwargs)\u001b[0m\n\u001b[0;32m   4454\u001b[0m         \u001b[1;32mif\u001b[0m \u001b[0mself\u001b[0m\u001b[1;33m.\u001b[0m\u001b[0mis_unique\u001b[0m\u001b[1;33m:\u001b[0m\u001b[1;33m\u001b[0m\u001b[1;33m\u001b[0m\u001b[0m\n\u001b[0;32m   4455\u001b[0m             \u001b[1;32mreturn\u001b[0m \u001b[0mself\u001b[0m\u001b[1;33m.\u001b[0m\u001b[0mget_indexer\u001b[0m\u001b[1;33m(\u001b[0m\u001b[0mtarget\u001b[0m\u001b[1;33m,\u001b[0m \u001b[1;33m**\u001b[0m\u001b[0mkwargs\u001b[0m\u001b[1;33m)\u001b[0m\u001b[1;33m\u001b[0m\u001b[1;33m\u001b[0m\u001b[0m\n\u001b[1;32m-> 4456\u001b[1;33m         \u001b[0mindexer\u001b[0m\u001b[1;33m,\u001b[0m \u001b[0m_\u001b[0m \u001b[1;33m=\u001b[0m \u001b[0mself\u001b[0m\u001b[1;33m.\u001b[0m\u001b[0mget_indexer_non_unique\u001b[0m\u001b[1;33m(\u001b[0m\u001b[0mtarget\u001b[0m\u001b[1;33m,\u001b[0m \u001b[1;33m**\u001b[0m\u001b[0mkwargs\u001b[0m\u001b[1;33m)\u001b[0m\u001b[1;33m\u001b[0m\u001b[1;33m\u001b[0m\u001b[0m\n\u001b[0m\u001b[0;32m   4457\u001b[0m         \u001b[1;32mreturn\u001b[0m \u001b[0mindexer\u001b[0m\u001b[1;33m\u001b[0m\u001b[1;33m\u001b[0m\u001b[0m\n\u001b[0;32m   4458\u001b[0m \u001b[1;33m\u001b[0m\u001b[0m\n",
      "\u001b[1;32mC:\\ProgramData\\Anaconda3\\lib\\site-packages\\pandas\\core\\indexes\\base.py\u001b[0m in \u001b[0;36mget_indexer_non_unique\u001b[1;34m(self, target)\u001b[0m\n\u001b[0;32m   4442\u001b[0m             \u001b[0mtgt_values\u001b[0m \u001b[1;33m=\u001b[0m \u001b[0mtarget\u001b[0m\u001b[1;33m.\u001b[0m\u001b[0m_ndarray_values\u001b[0m\u001b[1;33m\u001b[0m\u001b[1;33m\u001b[0m\u001b[0m\n\u001b[0;32m   4443\u001b[0m \u001b[1;33m\u001b[0m\u001b[0m\n\u001b[1;32m-> 4444\u001b[1;33m         \u001b[0mindexer\u001b[0m\u001b[1;33m,\u001b[0m \u001b[0mmissing\u001b[0m \u001b[1;33m=\u001b[0m \u001b[0mself\u001b[0m\u001b[1;33m.\u001b[0m\u001b[0m_engine\u001b[0m\u001b[1;33m.\u001b[0m\u001b[0mget_indexer_non_unique\u001b[0m\u001b[1;33m(\u001b[0m\u001b[0mtgt_values\u001b[0m\u001b[1;33m)\u001b[0m\u001b[1;33m\u001b[0m\u001b[1;33m\u001b[0m\u001b[0m\n\u001b[0m\u001b[0;32m   4445\u001b[0m         \u001b[1;32mreturn\u001b[0m \u001b[0mensure_platform_int\u001b[0m\u001b[1;33m(\u001b[0m\u001b[0mindexer\u001b[0m\u001b[1;33m)\u001b[0m\u001b[1;33m,\u001b[0m \u001b[0mmissing\u001b[0m\u001b[1;33m\u001b[0m\u001b[1;33m\u001b[0m\u001b[0m\n\u001b[0;32m   4446\u001b[0m \u001b[1;33m\u001b[0m\u001b[0m\n",
      "\u001b[1;32mpandas/_libs/index.pyx\u001b[0m in \u001b[0;36mpandas._libs.index.IndexEngine.get_indexer_non_unique\u001b[1;34m()\u001b[0m\n",
      "\u001b[1;32mC:\\ProgramData\\Anaconda3\\lib\\site-packages\\numpy\\core\\fromnumeric.py\u001b[0m in \u001b[0;36mresize\u001b[1;34m(a, new_shape)\u001b[0m\n\u001b[0;32m   1318\u001b[0m         \u001b[0mextra\u001b[0m \u001b[1;33m=\u001b[0m \u001b[0mNa\u001b[0m \u001b[1;33m-\u001b[0m \u001b[0mextra\u001b[0m\u001b[1;33m\u001b[0m\u001b[1;33m\u001b[0m\u001b[0m\n\u001b[0;32m   1319\u001b[0m \u001b[1;33m\u001b[0m\u001b[0m\n\u001b[1;32m-> 1320\u001b[1;33m     \u001b[0ma\u001b[0m \u001b[1;33m=\u001b[0m \u001b[0mconcatenate\u001b[0m\u001b[1;33m(\u001b[0m\u001b[1;33m(\u001b[0m\u001b[0ma\u001b[0m\u001b[1;33m,\u001b[0m\u001b[1;33m)\u001b[0m \u001b[1;33m*\u001b[0m \u001b[0mn_copies\u001b[0m\u001b[1;33m)\u001b[0m\u001b[1;33m\u001b[0m\u001b[1;33m\u001b[0m\u001b[0m\n\u001b[0m\u001b[0;32m   1321\u001b[0m     \u001b[1;32mif\u001b[0m \u001b[0mextra\u001b[0m \u001b[1;33m>\u001b[0m \u001b[1;36m0\u001b[0m\u001b[1;33m:\u001b[0m\u001b[1;33m\u001b[0m\u001b[1;33m\u001b[0m\u001b[0m\n\u001b[0;32m   1322\u001b[0m         \u001b[0ma\u001b[0m \u001b[1;33m=\u001b[0m \u001b[0ma\u001b[0m\u001b[1;33m[\u001b[0m\u001b[1;33m:\u001b[0m\u001b[1;33m-\u001b[0m\u001b[0mextra\u001b[0m\u001b[1;33m]\u001b[0m\u001b[1;33m\u001b[0m\u001b[1;33m\u001b[0m\u001b[0m\n",
      "\u001b[1;31mKeyboardInterrupt\u001b[0m: "
     ]
    }
   ],
   "source": [
    "#Wrangling - Removing persons from the dataset who are < 18 years and creating a new df (ACSmarry)\n",
    "age_nomar = ACSdata[ACSdata['AGEP'] < 18].index\n",
    "\n",
    "\n",
    "ACSmarry = ACSdata.drop(ACSdata[ACSdata.AGEP < 18].index)\n",
    "ACSmarry.shape"
   ]
  },
  {
   "cell_type": "code",
   "execution_count": 20,
   "metadata": {},
   "outputs": [
    {
     "data": {
      "text/plain": [
       "1    1361211\n",
       "5    1329230\n",
       "3     285722\n",
       "2     169414\n",
       "4      44463\n",
       "Name: MAR, dtype: int64"
      ]
     },
     "execution_count": 20,
     "metadata": {},
     "output_type": "execute_result"
    }
   ],
   "source": [
    "#Generating frequency table - marriage\n",
    "ACSdata['MAR'].value_counts()"
   ]
  },
  {
   "cell_type": "code",
   "execution_count": null,
   "metadata": {},
   "outputs": [],
   "source": []
  },
  {
   "cell_type": "code",
   "execution_count": 70,
   "metadata": {},
   "outputs": [
    {
     "name": "stdout",
     "output_type": "stream",
     "text": [
      "['PWGTP1', 'PWGTP2', 'PWGTP3', 'PWGTP4', 'PWGTP5', 'PWGTP6', 'PWGTP7', 'PWGTP8', 'PWGTP9', 'PWGTP10', 'PWGTP11', 'PWGTP12', 'PWGTP13', 'PWGTP14', 'PWGTP15', 'PWGTP16', 'PWGTP17', 'PWGTP18', 'PWGTP19', 'PWGTP20', 'PWGTP21', 'PWGTP22', 'PWGTP23', 'PWGTP24', 'PWGTP25', 'PWGTP26', 'PWGTP27', 'PWGTP28', 'PWGTP29', 'PWGTP30', 'PWGTP31', 'PWGTP32', 'PWGTP33', 'PWGTP34', 'PWGTP35', 'PWGTP36', 'PWGTP37', 'PWGTP38', 'PWGTP39', 'PWGTP40', 'PWGTP41', 'PWGTP42', 'PWGTP43', 'PWGTP44', 'PWGTP45', 'PWGTP46', 'PWGTP47', 'PWGTP48', 'PWGTP49', 'PWGTP50', 'PWGTP51', 'PWGTP52', 'PWGTP53', 'PWGTP54', 'PWGTP55', 'PWGTP56', 'PWGTP57', 'PWGTP58', 'PWGTP59', 'PWGTP60', 'PWGTP61', 'PWGTP62', 'PWGTP63', 'PWGTP64', 'PWGTP65', 'PWGTP66', 'PWGTP67', 'PWGTP68', 'PWGTP69', 'PWGTP70', 'PWGTP71', 'PWGTP72', 'PWGTP73', 'PWGTP74', 'PWGTP75', 'PWGTP76', 'PWGTP77', 'PWGTP78', 'PWGTP79', 'PWGTP80']\n"
     ]
    }
   ],
   "source": [
    "#Generate list of weights of the format PWGTP1 to PWGTP80\n",
    "#weight_index = range(1,81,1)\n",
    "#weight_list = ['PWGTP'+str(i) for i in weight_index]\n",
    "#print(weight_list)\n",
    "\n",
    "#THIS IS NOT 100% CORRECT.  THE WEIGHTS ALREADY EXIST ON THE CSV FILES\n"
   ]
  },
  {
   "cell_type": "code",
   "execution_count": null,
   "metadata": {},
   "outputs": [],
   "source": []
  },
  {
   "cell_type": "code",
   "execution_count": null,
   "metadata": {},
   "outputs": [],
   "source": []
  },
  {
   "cell_type": "code",
   "execution_count": 13,
   "metadata": {},
   "outputs": [
    {
     "name": "stderr",
     "output_type": "stream",
     "text": [
      "C:\\ProgramData\\Anaconda3\\lib\\site-packages\\ipykernel_launcher.py:4: FutureWarning: The signature of `Series.to_csv` was aligned to that of `DataFrame.to_csv`, and argument 'header' will change its default value from False to True: please pass an explicit value to suppress this warning.\n",
      "  after removing the cwd from sys.path.\n"
     ]
    }
   ],
   "source": [
    "#Printing file to csv\n",
    "\n",
    "#Create a sample of top 100 to explore a smaller file size\n",
    "ACSsample = ACSdata['AGEP'].head(100)\n",
    "\n",
    "# update to the path on your local drive\n",
    "ACSsample.to_csv(r'C:\\Users\\makaf\\myproject\\MakSteph\\sample1.csv')\n",
    "ACSdata.to_csv(r'C:\\Users\\makaf\\myproject\\MakSteph\\ACSdata.csv')\n"
   ]
  },
  {
   "cell_type": "code",
   "execution_count": null,
   "metadata": {},
   "outputs": [],
   "source": []
  },
  {
   "cell_type": "code",
   "execution_count": null,
   "metadata": {},
   "outputs": [],
   "source": []
  }
 ],
 "metadata": {
  "kernelspec": {
   "display_name": "Python 3",
   "language": "python",
   "name": "python3"
  },
  "language_info": {
   "codemirror_mode": {
    "name": "ipython",
    "version": 3
   },
   "file_extension": ".py",
   "mimetype": "text/x-python",
   "name": "python",
   "nbconvert_exporter": "python",
   "pygments_lexer": "ipython3",
   "version": "3.7.3"
  }
 },
 "nbformat": 4,
 "nbformat_minor": 2
}
