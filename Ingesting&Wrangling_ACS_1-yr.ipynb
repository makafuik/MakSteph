{
 "cells": [
  {
   "cell_type": "code",
   "execution_count": 22,
   "metadata": {},
   "outputs": [],
   "source": [
    "#Importing Python packages\n",
    "import pandas as pd\n",
    "import numpy as np \n",
    "import seaborn as sns\n",
    "import matplotlib as plt"
   ]
  },
  {
   "cell_type": "code",
   "execution_count": 23,
   "metadata": {
    "scrolled": true
   },
   "outputs": [
    {
     "name": "stdout",
     "output_type": "stream",
     "text": [
      "         SERIALNO  DIVISION  SPORDER  PUMA  REGION  ST   ADJINC  PWGTP  AGEP  \\\n",
      "RT                                                                             \n",
      "P   2017000000016         6        1  2500       3   1  1011189    206    73   \n",
      "P   2017000000031         6        1  1800       3   1  1011189     45    31   \n",
      "P   2017000000061         6        1  2400       3   1  1011189    136    41   \n",
      "P   2017000000061         6        2  2400       3   1  1011189    121    48   \n",
      "P   2017000000061         6        3  2400       3   1  1011189    111    16   \n",
      "\n",
      "    CIT  ...  MIGPUMA  MSP  NATIVITY   OC    OCCP  PAOC    PERNP    PINCP  \\\n",
      "RT       ...                                                                \n",
      "P     1  ...      NaN  5.0         1  0.0     NaN   NaN      0.0  10000.0   \n",
      "P     1  ...      NaN  6.0         1  0.0   350.0   4.0  38500.0  38500.0   \n",
      "P     1  ...      NaN  1.0         1  0.0  6260.0   NaN  72000.0  82000.0   \n",
      "P     1  ...      NaN  1.0         1  0.0     NaN   2.0      0.0   8700.0   \n",
      "P     1  ...      NaN  6.0         1  1.0     NaN   NaN      0.0      0.0   \n",
      "\n",
      "    RAC1P  WAOB  \n",
      "RT               \n",
      "P       2     1  \n",
      "P       1     1  \n",
      "P       1     1  \n",
      "P       1     1  \n",
      "P       1     1  \n",
      "\n",
      "[5 rows x 41 columns]\n",
      "         SERIALNO  DIVISION  SPORDER  PUMA  REGION  ST   ADJINC  PWGTP  AGEP  \\\n",
      "RT                                                                             \n",
      "P   2017000000075         4        1  1003       2  29  1011189    122    48   \n",
      "P   2017000000075         4        2  1003       2  29  1011189    141    44   \n",
      "P   2017000000075         4        3  1003       2  29  1011189    148    17   \n",
      "P   2017000000075         4        4  1003       2  29  1011189    119    11   \n",
      "P   2017000000167         4        1   200       2  29  1011189     53    77   \n",
      "\n",
      "    CIT  ...  MIGPUMA  MSP  NATIVITY   OC    OCCP  PAOC    PERNP    PINCP  \\\n",
      "RT       ...                                                                \n",
      "P     1  ...      NaN  1.0         1  0.0  9130.0   NaN  70000.0  70000.0   \n",
      "P     1  ...      NaN  1.0         1  0.0  3645.0   2.0  40000.0  40000.0   \n",
      "P     1  ...      NaN  6.0         1  1.0  4020.0   4.0   5000.0   5000.0   \n",
      "P     1  ...      NaN  NaN         1  1.0     NaN   NaN      NaN      NaN   \n",
      "P     1  ...      NaN  4.0         1  0.0     NaN   4.0      0.0  24300.0   \n",
      "\n",
      "    RAC1P  WAOB  \n",
      "RT               \n",
      "P       1     1  \n",
      "P       1     1  \n",
      "P       1     1  \n",
      "P       1     1  \n",
      "P       1     1  \n",
      "\n",
      "[5 rows x 41 columns]\n"
     ]
    }
   ],
   "source": [
    "#Importing data and selecting pre-specified columns\n",
    "fields = [\"RT\", \"SERIALNO\", \"SPORDER\",\"PWGTP\",\"CIT\",\"COW\",\"DIVISION\",\"PUMA\",\"ST\",\"REGION\",\"AGEP\",\"ADJINC\",\"JWMNP\",\"JWTR\",\n",
    "          \"MAR\",\"MARHT\",\"MIG\",\"MIL\",\"RELP\",\"SCHL\",\"SEX\",\"PAP\",\"WAGP\",\"WKHP\",\"WKL\",\"DIS\",\"DRIVESP\",\"ESR\",\"FOD1P\",\"HICOV\",\"JWAP\",\n",
    "          \"JWDP\",\"MIGPUMA\",\"MSP\",\"NATIVITY\",\"OC\",\"OCCP\",\"PAOC\",\"PERNP\",\"PINCP\",\"RAC1P\",\"WAOB\"]\n",
    "\n",
    "acs1 = pd.read_csv('psam_pusa.csv', sep=',', index_col=0, skipinitialspace=True, usecols=fields)\n",
    "acs2 = pd.read_csv('psam_pusb.csv', sep=',', index_col=0, skipinitialspace=True, usecols=fields)\n",
    "\n",
    "print (acs1.head())\n",
    "print (acs2.head())\n",
    "\n",
    "#MAK:  Would you please write the code to import the replicate weights?"
   ]
  },
  {
   "cell_type": "code",
   "execution_count": 25,
   "metadata": {},
   "outputs": [
    {
     "data": {
      "text/plain": [
       "(1638294, 41)"
      ]
     },
     "execution_count": 25,
     "metadata": {},
     "output_type": "execute_result"
    }
   ],
   "source": [
    "#Getting the number of rows and colmuns in each data frame\n",
    "\n",
    "#acs1\n",
    "acs1.shape #rows and columns\n",
    "\n",
    "\n"
   ]
  },
  {
   "cell_type": "code",
   "execution_count": 26,
   "metadata": {},
   "outputs": [
    {
     "data": {
      "text/plain": [
       "(1551746, 41)"
      ]
     },
     "execution_count": 26,
     "metadata": {},
     "output_type": "execute_result"
    }
   ],
   "source": [
    "#acs2\n",
    "acs2.shape #rows and columns"
   ]
  },
  {
   "cell_type": "code",
   "execution_count": 27,
   "metadata": {},
   "outputs": [
    {
     "name": "stdout",
     "output_type": "stream",
     "text": [
      "         SERIALNO  DIVISION  SPORDER  PUMA  REGION  ST   ADJINC  PWGTP  AGEP  \\\n",
      "RT                                                                             \n",
      "P   2017000000016         6        1  2500       3   1  1011189    206    73   \n",
      "P   2017000000031         6        1  1800       3   1  1011189     45    31   \n",
      "P   2017000000061         6        1  2400       3   1  1011189    136    41   \n",
      "P   2017000000061         6        2  2400       3   1  1011189    121    48   \n",
      "P   2017000000061         6        3  2400       3   1  1011189    111    16   \n",
      "\n",
      "    CIT  ...  MIGPUMA  MSP  NATIVITY   OC    OCCP  PAOC    PERNP    PINCP  \\\n",
      "RT       ...                                                                \n",
      "P     1  ...      NaN  5.0         1  0.0     NaN   NaN      0.0  10000.0   \n",
      "P     1  ...      NaN  6.0         1  0.0   350.0   4.0  38500.0  38500.0   \n",
      "P     1  ...      NaN  1.0         1  0.0  6260.0   NaN  72000.0  82000.0   \n",
      "P     1  ...      NaN  1.0         1  0.0     NaN   2.0      0.0   8700.0   \n",
      "P     1  ...      NaN  6.0         1  1.0     NaN   NaN      0.0      0.0   \n",
      "\n",
      "    RAC1P  WAOB  \n",
      "RT               \n",
      "P       2     1  \n",
      "P       1     1  \n",
      "P       1     1  \n",
      "P       1     1  \n",
      "P       1     1  \n",
      "\n",
      "[5 rows x 41 columns]\n"
     ]
    },
    {
     "data": {
      "text/plain": [
       "(3190040, 41)"
      ]
     },
     "execution_count": 27,
     "metadata": {},
     "output_type": "execute_result"
    }
   ],
   "source": [
    "#Concatenating the daata frames\n",
    "\n",
    "ACSdata = pd.concat([acs1, acs2], axis=0, ignore_index=False)\n",
    "\n",
    "print(ACSdata.head())\n",
    "ACSdata.shape\n"
   ]
  },
  {
   "cell_type": "code",
   "execution_count": 3,
   "metadata": {},
   "outputs": [],
   "source": [
    "#Importing API (cannot use because API does not include the necessary data file)\n",
    "#import requests\n",
    "#url = 'https://api.census.gov/data/2017/acs/acs1?get=NAME,group(B01001)&for=us:1'\n",
    "#r = requests.get(url)\n",
    "#print(r.text)"
   ]
  },
  {
   "cell_type": "code",
   "execution_count": 28,
   "metadata": {},
   "outputs": [
    {
     "data": {
      "text/plain": [
       "20"
      ]
     },
     "execution_count": 28,
     "metadata": {},
     "output_type": "execute_result"
    }
   ],
   "source": [
    "#Ensuring that there are no duplicate persons in the file\n",
    "#SERIALNO = 3190040\n",
    "\n",
    "ACSdata['SPORDER'].nunique()  \n",
    "\n",
    "#There are 20 duplicates values in the ACSdata file"
   ]
  },
  {
   "cell_type": "code",
   "execution_count": 29,
   "metadata": {},
   "outputs": [
    {
     "name": "stdout",
     "output_type": "stream",
     "text": [
      "Duplicated rows except for first occurrence based on all columns\n",
      "Empty DataFrame\n",
      "Columns: [SERIALNO, DIVISION, SPORDER, PUMA, REGION, ST, ADJINC, PWGTP, AGEP, CIT, COW, JWMNP, JWTR, MAR, MARHT, MIG, MIL, PAP, RELP, SCHL, SEX, WAGP, WKHP, WKL, DIS, DRIVESP, ESR, FOD1P, HICOV, JWAP, JWDP, MIGPUMA, MSP, NATIVITY, OC, OCCP, PAOC, PERNP, PINCP, RAC1P, WAOB]\n",
      "Index: []\n",
      "\n",
      "[0 rows x 41 columns]\n"
     ]
    }
   ],
   "source": [
    "#Finding duplicate rows based on all columns\n",
    "duprowsACS = ACSdata[ACSdata.duplicated()] #all duplicates except for first occurence\n",
    "\n",
    "print(\"Duplicated rows except for first occurrence based on all columns\")\n",
    "print(duprowsACS)"
   ]
  },
  {
   "cell_type": "code",
   "execution_count": 20,
   "metadata": {},
   "outputs": [
    {
     "ename": "SyntaxError",
     "evalue": "invalid syntax (<ipython-input-20-7731b4022e53>, line 4)",
     "output_type": "error",
     "traceback": [
      "\u001b[1;36m  File \u001b[1;32m\"<ipython-input-20-7731b4022e53>\"\u001b[1;36m, line \u001b[1;32m4\u001b[0m\n\u001b[1;33m    ACSdata.('AGEP').describe()\u001b[0m\n\u001b[1;37m            ^\u001b[0m\n\u001b[1;31mSyntaxError\u001b[0m\u001b[1;31m:\u001b[0m invalid syntax\n"
     ]
    }
   ],
   "source": [
    "#Exploring the Data\n",
    "\n",
    "#Generating sumamry statistics - age\n",
    "ACSdata.('AGEP').describe()"
   ]
  },
  {
   "cell_type": "code",
   "execution_count": null,
   "metadata": {},
   "outputs": [],
   "source": []
  }
 ],
 "metadata": {
  "kernelspec": {
   "display_name": "Python 3",
   "language": "python",
   "name": "python3"
  },
  "language_info": {
   "codemirror_mode": {
    "name": "ipython",
    "version": 3
   },
   "file_extension": ".py",
   "mimetype": "text/x-python",
   "name": "python",
   "nbconvert_exporter": "python",
   "pygments_lexer": "ipython3",
   "version": "3.7.3"
  }
 },
 "nbformat": 4,
 "nbformat_minor": 2
}
