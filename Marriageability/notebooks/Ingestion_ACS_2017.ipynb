{
 "cells": [
  {
   "cell_type": "code",
   "execution_count": 1,
   "metadata": {},
   "outputs": [],
   "source": [
    "#The purpose of this notebook is to ingest the ACS2017 data file and selet variables for wrangling to create ACSdata\n",
    "#The preliminary ACS files are stored to the local machine and not the report."
   ]
  },
  {
   "cell_type": "code",
   "execution_count": 2,
   "metadata": {},
   "outputs": [],
   "source": [
    "#Importing Python packages\n",
    "import pandas as pd\n",
    "import numpy as np \n",
    "import seaborn as sns\n",
    "import matplotlib.mlab as mlab\n",
    "import matplotlib.pyplot as plt"
   ]
  },
  {
   "cell_type": "code",
   "execution_count": 3,
   "metadata": {
    "scrolled": true
   },
   "outputs": [],
   "source": [
    "#Importing data and selecting pre-specified columns\n",
    "\n",
    "fields = [\"RT\", \"SERIALNO\", \"SPORDER\",\"PWGTP\",\"CIT\",\"COW\",\"DIVISION\",\"PUMA\",\"ST\",\"REGION\",\"AGEP\",\"ADJINC\",\"JWMNP\",\"JWTR\",\n",
    "           \"MAR\",\"MARHT\",\"MIG\",\"MIL\",\"RELP\",\"SCHL\",\"SEX\",\"PAP\",\"WAGP\",\"WKHP\",\"WKL\",\"DIS\",\"DRIVESP\",\"ESR\",\"FOD1P\",\"HICOV\",\"JWAP\",\n",
    "          \"JWDP\",\"MIGPUMA\",\"MSP\",\"NATIVITY\",\"OC\",\"OCCP\",\"PAOC\",\"PERNP\",\"PINCP\",\"RAC1P\",\"SOCP\",\"PWGTP1\",\"PWGTP2\",\"PWGTP3\",\"PWGTP4\",\n",
    "          \"PWGTP5\",\"PWGTP6\",\"PWGTP7\",\"PWGTP8\",\"PWGTP9\",\"PWGTP10\",\"PWGTP11\",\"PWGTP12\",\"PWGTP13\",\"PWGTP14\",\"PWGTP15\",\"PWGTP16\",\n",
    "          \"PWGTP17\",\"PWGTP18\",\"PWGTP19\",\"PWGTP20\",\"PWGTP21\",\"PWGTP22\",\"PWGTP23\",\"PWGTP24\",\"PWGTP25\",\"PWGTP26\",\"PWGTP27\",\"PWGTP28\",\n",
    "          \"PWGTP29\",\"PWGTP30\",\"PWGTP31\",\"PWGTP32\",\"PWGTP33\",\"PWGTP34\",\"PWGTP35\",\"PWGTP36\",\"PWGTP37\",\"PWGTP38\",\"PWGTP39\",\"PWGTP40\",\n",
    "          \"PWGTP41\",\"PWGTP42\",\"PWGTP43\",\"PWGTP44\",\"PWGTP45\",\"PWGTP46\",\"PWGTP47\",\"PWGTP48\",\"PWGTP49\",\"PWGTP50\",\"PWGTP51\",\"PWGTP52\",\n",
    "          \"PWGTP53\",\"PWGTP54\",\"PWGTP55\",\"PWGTP56\",\"PWGTP57\",\"PWGTP58\",\"PWGTP59\",\"PWGTP60\",\"PWGTP61\",\"PWGTP62\",\"PWGTP63\",\"PWGTP64\",\n",
    "          \"PWGTP65\",\"PWGTP66\",\"PWGTP67\",\"PWGTP68\",\"PWGTP69\",\"PWGTP70\",\"PWGTP71\",\"PWGTP72\",\"PWGTP73\",\"PWGTP74\",\"PWGTP75\",\"PWGTP76\",\n",
    "          \"PWGTP77\",\"PWGTP78\",\"PWGTP79\",\"PWGTP80\"]\n",
    "\n",
    "acs1 = pd.read_csv(\"psam_pusa.csv\", sep=',', skipinitialspace=True, usecols=fields)\n",
    "\n",
    "acs2 = pd.read_csv(\"psam_pusb.csv\", sep=',', skipinitialspace=True, usecols=fields)\n",
    "\n",
    "#print (acs1.head())\n",
    "#print (acs2.head())\n"
   ]
  },
  {
   "cell_type": "code",
   "execution_count": 4,
   "metadata": {},
   "outputs": [
    {
     "data": {
      "text/plain": [
       "(1638294, 122)"
      ]
     },
     "execution_count": 4,
     "metadata": {},
     "output_type": "execute_result"
    }
   ],
   "source": [
    "#Getting the number of rows and colmuns in each data frame\n",
    "#acs1\n",
    "acs1.shape #rows and columns"
   ]
  },
  {
   "cell_type": "code",
   "execution_count": 5,
   "metadata": {},
   "outputs": [
    {
     "data": {
      "text/plain": [
       "(1551746, 122)"
      ]
     },
     "execution_count": 5,
     "metadata": {},
     "output_type": "execute_result"
    }
   ],
   "source": [
    "#acs2\n",
    "acs2.shape #rows and columns"
   ]
  },
  {
   "cell_type": "code",
   "execution_count": 6,
   "metadata": {},
   "outputs": [
    {
     "data": {
      "text/plain": [
       "(3190040, 122)"
      ]
     },
     "execution_count": 6,
     "metadata": {},
     "output_type": "execute_result"
    }
   ],
   "source": [
    "#Concatenating the daata frames\n",
    "\n",
    "ACSdata = pd.concat([acs1, acs2], axis=0, ignore_index=False)\n",
    "#print(ACSdata.head())\n",
    "ACSdata.shape"
   ]
  },
  {
   "cell_type": "code",
   "execution_count": 7,
   "metadata": {},
   "outputs": [
    {
     "name": "stdout",
     "output_type": "stream",
     "text": [
      "<class 'pandas.core.frame.DataFrame'>\n",
      "Int64Index: 3190040 entries, 0 to 1551745\n",
      "Columns: 122 entries, RT to PWGTP80\n",
      "dtypes: float64(23), int64(97), object(2)\n",
      "memory usage: 2.9+ GB\n"
     ]
    }
   ],
   "source": [
    "#Data Type Information on the dataset\n",
    "ACSdata.info()"
   ]
  },
  {
   "cell_type": "code",
   "execution_count": 8,
   "metadata": {},
   "outputs": [
    {
     "data": {
      "text/plain": [
       "1394399"
      ]
     },
     "execution_count": 8,
     "metadata": {},
     "output_type": "execute_result"
    }
   ],
   "source": [
    "#Checking for duplicates in the person records (grouped by household)\n",
    "\n",
    "#How many unique households are in the dataset?\n",
    "ACSdata['SERIALNO'].nunique()"
   ]
  },
  {
   "cell_type": "code",
   "execution_count": 9,
   "metadata": {},
   "outputs": [
    {
     "data": {
      "text/plain": [
       "count    3190040\n",
       "mean           2\n",
       "std            1\n",
       "min            1\n",
       "25%            1\n",
       "50%            2\n",
       "75%            3\n",
       "max           20\n",
       "Name: SPORDER, dtype: int64"
      ]
     },
     "execution_count": 9,
     "metadata": {},
     "output_type": "execute_result"
    }
   ],
   "source": [
    "#What is the min/max of people in any household?\n",
    "ACSdata['SPORDER'].describe().astype('int64')"
   ]
  },
  {
   "cell_type": "code",
   "execution_count": 10,
   "metadata": {},
   "outputs": [],
   "source": [
    "#ACSdata['duplicate'] = ACSdata.duplicated(subset=['SPORDER', 'SERIALNO'], keep=False)\n",
    "#print('duplicate')\n",
    "\n",
    "#Confirmed no duplicate SPORDERS in ACSdata"
   ]
  },
  {
   "cell_type": "code",
   "execution_count": 11,
   "metadata": {},
   "outputs": [
    {
     "data": {
      "text/plain": [
       "(3190040, 122)"
      ]
     },
     "execution_count": 11,
     "metadata": {},
     "output_type": "execute_result"
    }
   ],
   "source": [
    "ACSdata.shape"
   ]
  },
  {
   "cell_type": "code",
   "execution_count": 12,
   "metadata": {},
   "outputs": [
    {
     "data": {
      "text/plain": [
       "1"
      ]
     },
     "execution_count": 12,
     "metadata": {},
     "output_type": "execute_result"
    }
   ],
   "source": [
    "#new column data_key is a combination of SERIALNO and SPORDER which will be a unique identifier\n",
    "\n",
    "ACSdata['data_key'] = str(ACSdata['SERIALNO'].astype(int))+str(ACSdata['SPORDER'])\n",
    "ACSdata['data_key'].nunique()\n",
    "#ACSdata['data_key'].head(300)"
   ]
  },
  {
   "cell_type": "code",
   "execution_count": 13,
   "metadata": {},
   "outputs": [
    {
     "data": {
      "text/plain": [
       "(3190040, 123)"
      ]
     },
     "execution_count": 13,
     "metadata": {},
     "output_type": "execute_result"
    }
   ],
   "source": [
    "ACSdata.shape"
   ]
  },
  {
   "cell_type": "code",
   "execution_count": 14,
   "metadata": {},
   "outputs": [],
   "source": [
    "#Exporting ACSdata to csv to be uploaded to the repo\n",
    "\n",
    "ACSdata.to_csv(r'C:\\Users\\steph\\MakSteph\\data\\ACSdata.csv')"
   ]
  },
  {
   "cell_type": "code",
   "execution_count": null,
   "metadata": {},
   "outputs": [],
   "source": []
  }
 ],
 "metadata": {
  "kernelspec": {
   "display_name": "Python 3",
   "language": "python",
   "name": "python3"
  },
  "language_info": {
   "codemirror_mode": {
    "name": "ipython",
    "version": 3
   },
   "file_extension": ".py",
   "mimetype": "text/x-python",
   "name": "python",
   "nbconvert_exporter": "python",
   "pygments_lexer": "ipython3",
   "version": "3.7.3"
  }
 },
 "nbformat": 4,
 "nbformat_minor": 2
}
