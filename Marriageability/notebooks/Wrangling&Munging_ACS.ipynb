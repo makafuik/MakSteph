{
 "cells": [
  {
   "cell_type": "code",
   "execution_count": 1,
   "metadata": {},
   "outputs": [],
   "source": [
    "#Importing Python packages\n",
    "import pandas as pd\n",
    "import numpy as np \n",
    "import seaborn as sns\n",
    "import matplotlib.mlab as mlab\n",
    "import matplotlib.pyplot as plt"
   ]
  },
  {
   "cell_type": "code",
   "execution_count": 2,
   "metadata": {
    "scrolled": true
   },
   "outputs": [],
   "source": [
    "#Importing ACSdata\n",
    "\n",
    "ACSdata = pd.read_csv('data/ACSdata.csv', sep=',', header=0, skipinitialspace=True)"
   ]
  },
  {
   "cell_type": "code",
   "execution_count": 3,
   "metadata": {},
   "outputs": [
    {
     "data": {
      "text/plain": [
       "(3190040, 46)"
      ]
     },
     "execution_count": 3,
     "metadata": {},
     "output_type": "execute_result"
    }
   ],
   "source": [
    "ACSdata.shape"
   ]
  },
  {
   "cell_type": "code",
   "execution_count": 4,
   "metadata": {},
   "outputs": [
    {
     "data": {
      "text/plain": [
       "count    3190040\n",
       "mean          41\n",
       "std           23\n",
       "min            0\n",
       "25%           21\n",
       "50%           42\n",
       "75%           60\n",
       "max           96\n",
       "Name: AGEP, dtype: int64"
      ]
     },
     "execution_count": 4,
     "metadata": {},
     "output_type": "execute_result"
    }
   ],
   "source": [
    "#EXPLORING THE DATA\n",
    "\n",
    "#Generating summary statistics - age\n",
    "ACSdata['AGEP'].describe().astype('int64')\n",
    "\n",
    "#Age range (0-96), data set needs to be filtered to include persons of marriageable age(> 18)"
   ]
  },
  {
   "cell_type": "code",
   "execution_count": 5,
   "metadata": {},
   "outputs": [
    {
     "name": "stdout",
     "output_type": "stream",
     "text": [
      "Number of Rows in ACSdata in which Age < 18: 659314\n"
     ]
    }
   ],
   "source": [
    "#Rows in which value of AGEP column in  less than 18\n",
    "is_lt18 = ACSdata.apply(lambda x: True if x['AGEP'] < 18 else False, axis=1)\n",
    "\n",
    "#Count number of True in the series\n",
    "numofRows = len(is_lt18[is_lt18 ==True].index)\n",
    "\n",
    "print('Number of Rows in ACSdata in which Age < 18:', numofRows)"
   ]
  },
  {
   "cell_type": "code",
   "execution_count": 6,
   "metadata": {},
   "outputs": [
    {
     "name": "stdout",
     "output_type": "stream",
     "text": [
      "(2530726, 46)\n"
     ]
    }
   ],
   "source": [
    "#Wrangling - Removing persons from the dataset who are < 18 years and creating a new df (ACSmarry)\n",
    "ACSmarry = ACSdata[ACSdata.AGEP >= 18]\n",
    "print(ACSmarry.shape)"
   ]
  },
  {
   "cell_type": "code",
   "execution_count": 7,
   "metadata": {},
   "outputs": [
    {
     "data": {
      "text/plain": [
       "1    1360300\n",
       "5     671044\n",
       "3     285664\n",
       "2     169374\n",
       "4      44344\n",
       "Name: MAR, dtype: int64"
      ]
     },
     "execution_count": 7,
     "metadata": {},
     "output_type": "execute_result"
    }
   ],
   "source": [
    "#EXPLORING THE DATAFRAME (ACSmarry)\n",
    "\n",
    "#Exploring the marriage indicator\n",
    "#Generating frequency table - marriage\n",
    "ACSmarry['MAR'].value_counts()"
   ]
  },
  {
   "cell_type": "code",
   "execution_count": 8,
   "metadata": {},
   "outputs": [
    {
     "data": {
      "text/plain": [
       "1    1360300\n",
       "5     671044\n",
       "3     285664\n",
       "2     169374\n",
       "4      44344\n",
       "Name: MAR, dtype: int64"
      ]
     },
     "execution_count": 8,
     "metadata": {},
     "output_type": "execute_result"
    }
   ],
   "source": [
    "ACSmarry['MAR'].value_counts(sort=True) #Marital status"
   ]
  },
  {
   "cell_type": "code",
   "execution_count": 9,
   "metadata": {},
   "outputs": [
    {
     "data": {
      "text/plain": [
       "1    53.751374\n",
       "5    26.515869\n",
       "3    11.287828\n",
       "2     6.692704\n",
       "4     1.752224\n",
       "Name: MAR, dtype: float64"
      ]
     },
     "execution_count": 9,
     "metadata": {},
     "output_type": "execute_result"
    }
   ],
   "source": [
    "ACSmarry['MAR'].value_counts(sort=True, normalize=True) * 100 #Marital status"
   ]
  },
  {
   "cell_type": "code",
   "execution_count": 10,
   "metadata": {},
   "outputs": [
    {
     "name": "stderr",
     "output_type": "stream",
     "text": [
      "C:\\Users\\steph\\Anaconda3\\lib\\site-packages\\pandas\\core\\frame.py:3940: SettingWithCopyWarning: \n",
      "A value is trying to be set on a copy of a slice from a DataFrame\n",
      "\n",
      "See the caveats in the documentation: http://pandas.pydata.org/pandas-docs/stable/indexing.html#indexing-view-versus-copy\n",
      "  errors=errors)\n"
     ]
    }
   ],
   "source": [
    "#Wrangling - Removing persons who are divorced, seperated or widowed.\n",
    "\n",
    "\n",
    "# delete all rows with column 'Age' has value 30 to 40 \n",
    "indexNames = ACSmarry[(ACSmarry['MAR'] >= 2) & (ACSmarry['MAR'] <= 4) ].index #The condition\n",
    "ACSmarry.drop(indexNames , inplace=True) #Dropping rows that meet the condition"
   ]
  },
  {
   "cell_type": "code",
   "execution_count": 11,
   "metadata": {},
   "outputs": [],
   "source": [
    "#Printing ACSmarry to csv\n",
    "\n",
    "#fields = ['AGEP','MAR','SERIALNO','SPORDER']\n",
    "#Create a sample of top 100 to explore a smaller file size\n",
    "#ACSsample = ACSmarry.head(10000)\n",
    "# update to the path on your local drive\n",
    "#ACSsample.to_csv(r'testdata/sample1.csv', columns=fields)"
   ]
  },
  {
   "cell_type": "code",
   "execution_count": 12,
   "metadata": {},
   "outputs": [
    {
     "data": {
      "text/plain": [
       "1    1360300\n",
       "5     671044\n",
       "Name: MAR, dtype: int64"
      ]
     },
     "execution_count": 12,
     "metadata": {},
     "output_type": "execute_result"
    }
   ],
   "source": [
    "ACSmarry['MAR'].value_counts(sort=True) #Marital status"
   ]
  },
  {
   "cell_type": "code",
   "execution_count": 13,
   "metadata": {},
   "outputs": [
    {
     "name": "stderr",
     "output_type": "stream",
     "text": [
      "C:\\Users\\steph\\Anaconda3\\lib\\site-packages\\pandas\\core\\indexing.py:362: SettingWithCopyWarning: \n",
      "A value is trying to be set on a copy of a slice from a DataFrame.\n",
      "Try using .loc[row_indexer,col_indexer] = value instead\n",
      "\n",
      "See the caveats in the documentation: http://pandas.pydata.org/pandas-docs/stable/indexing.html#indexing-view-versus-copy\n",
      "  self.obj[key] = _infer_fill_value(value)\n",
      "C:\\Users\\steph\\Anaconda3\\lib\\site-packages\\pandas\\core\\indexing.py:543: SettingWithCopyWarning: \n",
      "A value is trying to be set on a copy of a slice from a DataFrame.\n",
      "Try using .loc[row_indexer,col_indexer] = value instead\n",
      "\n",
      "See the caveats in the documentation: http://pandas.pydata.org/pandas-docs/stable/indexing.html#indexing-view-versus-copy\n",
      "  self.obj[item] = s\n"
     ]
    },
    {
     "data": {
      "text/plain": [
       "1.0    1360300\n",
       "0.0     671044\n",
       "Name: MARRIED, dtype: int64"
      ]
     },
     "execution_count": 13,
     "metadata": {},
     "output_type": "execute_result"
    }
   ],
   "source": [
    "#Transformaing--> Marrital Status (yes/no)\n",
    "ACSmarry.loc[ACSmarry.MAR == 5, 'MARRIED'] = 0\n",
    "ACSmarry.loc[ACSmarry.MAR == 1, 'MARRIED'] = 1\n",
    "\n",
    "ACSmarry['MARRIED'].value_counts(sort=True) "
   ]
  },
  {
   "cell_type": "code",
   "execution_count": 14,
   "metadata": {},
   "outputs": [
    {
     "name": "stderr",
     "output_type": "stream",
     "text": [
      "C:\\Users\\steph\\Anaconda3\\lib\\site-packages\\ipykernel_launcher.py:4: SettingWithCopyWarning: \n",
      "A value is trying to be set on a copy of a slice from a DataFrame.\n",
      "Try using .loc[row_indexer,col_indexer] = value instead\n",
      "\n",
      "See the caveats in the documentation: http://pandas.pydata.org/pandas-docs/stable/indexing.html#indexing-view-versus-copy\n",
      "  after removing the cwd from sys.path.\n",
      "C:\\Users\\steph\\Anaconda3\\lib\\site-packages\\ipykernel_launcher.py:5: SettingWithCopyWarning: \n",
      "A value is trying to be set on a copy of a slice from a DataFrame.\n",
      "Try using .loc[row_indexer,col_indexer] = value instead\n",
      "\n",
      "See the caveats in the documentation: http://pandas.pydata.org/pandas-docs/stable/indexing.html#indexing-view-versus-copy\n",
      "  \"\"\"\n",
      "C:\\Users\\steph\\Anaconda3\\lib\\site-packages\\ipykernel_launcher.py:6: SettingWithCopyWarning: \n",
      "A value is trying to be set on a copy of a slice from a DataFrame.\n",
      "Try using .loc[row_indexer,col_indexer] = value instead\n",
      "\n",
      "See the caveats in the documentation: http://pandas.pydata.org/pandas-docs/stable/indexing.html#indexing-view-versus-copy\n",
      "  \n"
     ]
    }
   ],
   "source": [
    "#Using ADJINC to calculate wages/earning and income variables\n",
    "#Note--> this code will need to be adjusted for the multi-year file\n",
    "\n",
    "ACSmarry['WAGES'] = ACSmarry.WAGP * (ACSmarry.ADJINC / 1000000 )\n",
    "ACSmarry['INCOME'] = ACSmarry.PINCP * (ACSmarry.ADJINC / 1000000 )\n",
    "ACSmarry['EARN'] = ACSmarry.PERNP * (ACSmarry.ADJINC / 1000000 )"
   ]
  },
  {
   "cell_type": "code",
   "execution_count": 15,
   "metadata": {},
   "outputs": [
    {
     "data": {
      "text/html": [
       "<div>\n",
       "<style scoped>\n",
       "    .dataframe tbody tr th:only-of-type {\n",
       "        vertical-align: middle;\n",
       "    }\n",
       "\n",
       "    .dataframe tbody tr th {\n",
       "        vertical-align: top;\n",
       "    }\n",
       "\n",
       "    .dataframe thead th {\n",
       "        text-align: right;\n",
       "    }\n",
       "</style>\n",
       "<table border=\"1\" class=\"dataframe\">\n",
       "  <thead>\n",
       "    <tr style=\"text-align: right;\">\n",
       "      <th></th>\n",
       "      <th>WAGES</th>\n",
       "      <th>WAGP</th>\n",
       "      <th>INCOME</th>\n",
       "      <th>PINCP</th>\n",
       "      <th>EARN</th>\n",
       "      <th>PERNP</th>\n",
       "    </tr>\n",
       "  </thead>\n",
       "  <tbody>\n",
       "    <tr>\n",
       "      <th>count</th>\n",
       "      <td>2031344</td>\n",
       "      <td>2031344</td>\n",
       "      <td>2031344</td>\n",
       "      <td>2031344</td>\n",
       "      <td>2031344</td>\n",
       "      <td>2031344</td>\n",
       "    </tr>\n",
       "    <tr>\n",
       "      <th>mean</th>\n",
       "      <td>33547</td>\n",
       "      <td>33176</td>\n",
       "      <td>44435</td>\n",
       "      <td>43943</td>\n",
       "      <td>35767</td>\n",
       "      <td>35371</td>\n",
       "    </tr>\n",
       "    <tr>\n",
       "      <th>std</th>\n",
       "      <td>57900</td>\n",
       "      <td>57259</td>\n",
       "      <td>65381</td>\n",
       "      <td>64658</td>\n",
       "      <td>60919</td>\n",
       "      <td>60245</td>\n",
       "    </tr>\n",
       "    <tr>\n",
       "      <th>min</th>\n",
       "      <td>0</td>\n",
       "      <td>0</td>\n",
       "      <td>-9201</td>\n",
       "      <td>-9100</td>\n",
       "      <td>-9100</td>\n",
       "      <td>-9000</td>\n",
       "    </tr>\n",
       "    <tr>\n",
       "      <th>25%</th>\n",
       "      <td>0</td>\n",
       "      <td>0</td>\n",
       "      <td>9100</td>\n",
       "      <td>9000</td>\n",
       "      <td>0</td>\n",
       "      <td>0</td>\n",
       "    </tr>\n",
       "    <tr>\n",
       "      <th>50%</th>\n",
       "      <td>14156</td>\n",
       "      <td>14000</td>\n",
       "      <td>26998</td>\n",
       "      <td>26700</td>\n",
       "      <td>17190</td>\n",
       "      <td>17000</td>\n",
       "    </tr>\n",
       "    <tr>\n",
       "      <th>75%</th>\n",
       "      <td>46514</td>\n",
       "      <td>46000</td>\n",
       "      <td>55615</td>\n",
       "      <td>55000</td>\n",
       "      <td>49548</td>\n",
       "      <td>49000</td>\n",
       "    </tr>\n",
       "    <tr>\n",
       "      <th>max</th>\n",
       "      <td>744235</td>\n",
       "      <td>736000</td>\n",
       "      <td>1580488</td>\n",
       "      <td>1563000</td>\n",
       "      <td>1274098</td>\n",
       "      <td>1260000</td>\n",
       "    </tr>\n",
       "  </tbody>\n",
       "</table>\n",
       "</div>"
      ],
      "text/plain": [
       "         WAGES     WAGP   INCOME    PINCP     EARN    PERNP\n",
       "count  2031344  2031344  2031344  2031344  2031344  2031344\n",
       "mean     33547    33176    44435    43943    35767    35371\n",
       "std      57900    57259    65381    64658    60919    60245\n",
       "min          0        0    -9201    -9100    -9100    -9000\n",
       "25%          0        0     9100     9000        0        0\n",
       "50%      14156    14000    26998    26700    17190    17000\n",
       "75%      46514    46000    55615    55000    49548    49000\n",
       "max     744235   736000  1580488  1563000  1274098  1260000"
      ]
     },
     "execution_count": 15,
     "metadata": {},
     "output_type": "execute_result"
    }
   ],
   "source": [
    "ACSmoney = ACSmarry[['WAGES', 'WAGP', 'INCOME', 'PINCP', 'EARN', 'PERNP']]\n",
    "\n",
    "ACSmoney.describe().astype('int64')"
   ]
  },
  {
   "cell_type": "code",
   "execution_count": 16,
   "metadata": {},
   "outputs": [],
   "source": [
    "#print(ACSmarry[['ADJINC', 'WAGP', 'WAGES', 'PINCP', 'INCOME', 'PERNP', 'EARN']].head())"
   ]
  },
  {
   "cell_type": "code",
   "execution_count": 17,
   "metadata": {},
   "outputs": [
    {
     "data": {
      "text/html": [
       "<div>\n",
       "<style scoped>\n",
       "    .dataframe tbody tr th:only-of-type {\n",
       "        vertical-align: middle;\n",
       "    }\n",
       "\n",
       "    .dataframe tbody tr th {\n",
       "        vertical-align: top;\n",
       "    }\n",
       "\n",
       "    .dataframe thead th {\n",
       "        text-align: right;\n",
       "    }\n",
       "</style>\n",
       "<table border=\"1\" class=\"dataframe\">\n",
       "  <thead>\n",
       "    <tr style=\"text-align: right;\">\n",
       "      <th></th>\n",
       "      <th>WAGES</th>\n",
       "      <th>INCOME</th>\n",
       "      <th>EARN</th>\n",
       "      <th>AGEP</th>\n",
       "      <th>JWMNP</th>\n",
       "      <th>WKHP</th>\n",
       "    </tr>\n",
       "  </thead>\n",
       "  <tbody>\n",
       "    <tr>\n",
       "      <th>count</th>\n",
       "      <td>2031344</td>\n",
       "      <td>2031344</td>\n",
       "      <td>2031344</td>\n",
       "      <td>2031344</td>\n",
       "      <td>1162544</td>\n",
       "      <td>1387664</td>\n",
       "    </tr>\n",
       "    <tr>\n",
       "      <th>mean</th>\n",
       "      <td>33547</td>\n",
       "      <td>44435</td>\n",
       "      <td>35767</td>\n",
       "      <td>46</td>\n",
       "      <td>27</td>\n",
       "      <td>38</td>\n",
       "    </tr>\n",
       "    <tr>\n",
       "      <th>std</th>\n",
       "      <td>57900</td>\n",
       "      <td>65381</td>\n",
       "      <td>60919</td>\n",
       "      <td>18</td>\n",
       "      <td>23</td>\n",
       "      <td>13</td>\n",
       "    </tr>\n",
       "    <tr>\n",
       "      <th>min</th>\n",
       "      <td>0</td>\n",
       "      <td>-9201</td>\n",
       "      <td>-9100</td>\n",
       "      <td>18</td>\n",
       "      <td>1</td>\n",
       "      <td>1</td>\n",
       "    </tr>\n",
       "    <tr>\n",
       "      <th>25%</th>\n",
       "      <td>0</td>\n",
       "      <td>9100</td>\n",
       "      <td>0</td>\n",
       "      <td>31</td>\n",
       "      <td>12</td>\n",
       "      <td>35</td>\n",
       "    </tr>\n",
       "    <tr>\n",
       "      <th>50%</th>\n",
       "      <td>14156</td>\n",
       "      <td>26998</td>\n",
       "      <td>17190</td>\n",
       "      <td>46</td>\n",
       "      <td>20</td>\n",
       "      <td>40</td>\n",
       "    </tr>\n",
       "    <tr>\n",
       "      <th>75%</th>\n",
       "      <td>46514</td>\n",
       "      <td>55615</td>\n",
       "      <td>49548</td>\n",
       "      <td>61</td>\n",
       "      <td>35</td>\n",
       "      <td>45</td>\n",
       "    </tr>\n",
       "    <tr>\n",
       "      <th>max</th>\n",
       "      <td>744235</td>\n",
       "      <td>1580488</td>\n",
       "      <td>1274098</td>\n",
       "      <td>96</td>\n",
       "      <td>160</td>\n",
       "      <td>99</td>\n",
       "    </tr>\n",
       "  </tbody>\n",
       "</table>\n",
       "</div>"
      ],
      "text/plain": [
       "         WAGES   INCOME     EARN     AGEP    JWMNP     WKHP\n",
       "count  2031344  2031344  2031344  2031344  1162544  1387664\n",
       "mean     33547    44435    35767       46       27       38\n",
       "std      57900    65381    60919       18       23       13\n",
       "min          0    -9201    -9100       18        1        1\n",
       "25%          0     9100        0       31       12       35\n",
       "50%      14156    26998    17190       46       20       40\n",
       "75%      46514    55615    49548       61       35       45\n",
       "max     744235  1580488  1274098       96      160       99"
      ]
     },
     "execution_count": 17,
     "metadata": {},
     "output_type": "execute_result"
    }
   ],
   "source": [
    "#Running summary statistics for continuous variables\n",
    "ACScont = ACSmarry[['WAGES', 'INCOME', 'EARN', 'AGEP', 'JWMNP', 'WKHP']]\n",
    "\n",
    "ACScont.describe().astype('int64')"
   ]
  },
  {
   "cell_type": "code",
   "execution_count": 18,
   "metadata": {},
   "outputs": [
    {
     "data": {
      "text/plain": [
       "1    1701886\n",
       "4     158692\n",
       "5     140083\n",
       "3      19726\n",
       "2      10957\n",
       "Name: CIT, dtype: int64"
      ]
     },
     "execution_count": 18,
     "metadata": {},
     "output_type": "execute_result"
    }
   ],
   "source": [
    "#Frequency tables and possible transformation of categorical variables\n",
    "\n",
    "#Citizenship status\n",
    "\n",
    "ACSmarry['CIT'].value_counts(sort=True) "
   ]
  },
  {
   "cell_type": "code",
   "execution_count": 19,
   "metadata": {},
   "outputs": [
    {
     "data": {
      "text/plain": [
       "1.0    1891261\n",
       "0.0     140083\n",
       "Name: CITIZEN, dtype: int64"
      ]
     },
     "execution_count": 19,
     "metadata": {},
     "output_type": "execute_result"
    }
   ],
   "source": [
    "#Transformaing--> Citizen (yes/no)\n",
    "ACSmarry.loc[ACSmarry.CIT == 5, 'CITIZEN'] = 0\n",
    "ACSmarry.loc[ACSmarry.CIT != 5, 'CITIZEN'] = 1\n",
    "\n",
    "ACSmarry['CITIZEN'].value_counts(sort=True) "
   ]
  },
  {
   "cell_type": "code",
   "execution_count": 20,
   "metadata": {},
   "outputs": [
    {
     "data": {
      "text/plain": [
       "1.0    1031074\n",
       "2.0     257976\n",
       "3.0      71250\n",
       "Name: MARHT, dtype: int64"
      ]
     },
     "execution_count": 20,
     "metadata": {},
     "output_type": "execute_result"
    }
   ],
   "source": [
    "#Transforming number of times married\n",
    "ACSmarry['MARHT'].value_counts(sort=True) #Number of times married"
   ]
  },
  {
   "cell_type": "code",
   "execution_count": 21,
   "metadata": {},
   "outputs": [
    {
     "data": {
      "text/plain": [
       "1.0    75.797545\n",
       "2.0    18.964640\n",
       "3.0     5.237815\n",
       "Name: MARHT, dtype: float64"
      ]
     },
     "execution_count": 21,
     "metadata": {},
     "output_type": "execute_result"
    }
   ],
   "source": [
    "ACSmarry['MARHT'].value_counts(sort=True, normalize=True) * 100 "
   ]
  },
  {
   "cell_type": "code",
   "execution_count": 22,
   "metadata": {},
   "outputs": [
    {
     "data": {
      "text/html": [
       "<div>\n",
       "<style scoped>\n",
       "    .dataframe tbody tr th:only-of-type {\n",
       "        vertical-align: middle;\n",
       "    }\n",
       "\n",
       "    .dataframe tbody tr th {\n",
       "        vertical-align: top;\n",
       "    }\n",
       "\n",
       "    .dataframe thead th {\n",
       "        text-align: right;\n",
       "    }\n",
       "</style>\n",
       "<table border=\"1\" class=\"dataframe\">\n",
       "  <thead>\n",
       "    <tr style=\"text-align: right;\">\n",
       "      <th>MARHT</th>\n",
       "      <th>1.0</th>\n",
       "      <th>2.0</th>\n",
       "      <th>3.0</th>\n",
       "      <th>All</th>\n",
       "    </tr>\n",
       "    <tr>\n",
       "      <th>MAR</th>\n",
       "      <th></th>\n",
       "      <th></th>\n",
       "      <th></th>\n",
       "      <th></th>\n",
       "    </tr>\n",
       "  </thead>\n",
       "  <tbody>\n",
       "    <tr>\n",
       "      <th>1</th>\n",
       "      <td>1031074</td>\n",
       "      <td>257976</td>\n",
       "      <td>71250</td>\n",
       "      <td>1360300</td>\n",
       "    </tr>\n",
       "    <tr>\n",
       "      <th>All</th>\n",
       "      <td>1031074</td>\n",
       "      <td>257976</td>\n",
       "      <td>71250</td>\n",
       "      <td>1360300</td>\n",
       "    </tr>\n",
       "  </tbody>\n",
       "</table>\n",
       "</div>"
      ],
      "text/plain": [
       "MARHT      1.0     2.0    3.0      All\n",
       "MAR                                   \n",
       "1      1031074  257976  71250  1360300\n",
       "All    1031074  257976  71250  1360300"
      ]
     },
     "execution_count": 22,
     "metadata": {},
     "output_type": "execute_result"
    }
   ],
   "source": [
    "#Marital status by the number of times married\n",
    "pd.crosstab(ACSmarry.MAR, ACSmarry.MARHT, margins=True)"
   ]
  },
  {
   "cell_type": "code",
   "execution_count": 23,
   "metadata": {},
   "outputs": [
    {
     "data": {
      "text/plain": [
       "1.0    1031074\n",
       "0.0     671044\n",
       "2.0     329226\n",
       "Name: MAR_TIMES, dtype: int64"
      ]
     },
     "execution_count": 23,
     "metadata": {},
     "output_type": "execute_result"
    }
   ],
   "source": [
    "#Creating variable: Previously married (# of times)\n",
    "ACSmarry.loc[ACSmarry.MAR == 5, 'MAR_TIMES'] = 0 #Married zero times\n",
    "ACSmarry.loc[(ACSmarry.MAR != 5) & (ACSmarry.MARHT == 1), 'MAR_TIMES'] = 1 #married 1 time\n",
    "ACSmarry.loc[(ACSmarry.MAR != 5) & (ACSmarry.MARHT != 1), 'MAR_TIMES'] = 2 #married more than 1 times\n",
    "\n",
    "ACSmarry['MAR_TIMES'].value_counts(sort=True) "
   ]
  },
  {
   "cell_type": "code",
   "execution_count": 24,
   "metadata": {},
   "outputs": [
    {
     "data": {
      "text/plain": [
       "1.0    1752560\n",
       "3.0     265839\n",
       "2.0      12945\n",
       "Name: MIG, dtype: int64"
      ]
     },
     "execution_count": 24,
     "metadata": {},
     "output_type": "execute_result"
    }
   ],
   "source": [
    "#Mobility:  (lived here 1 year aga)\n",
    "ACSmarry['MIG'].value_counts(sort=True)"
   ]
  },
  {
   "cell_type": "code",
   "execution_count": 25,
   "metadata": {},
   "outputs": [
    {
     "data": {
      "text/plain": [
       "0.0    1752560\n",
       "1.0     278784\n",
       "Name: MOVER, dtype: int64"
      ]
     },
     "execution_count": 25,
     "metadata": {},
     "output_type": "execute_result"
    }
   ],
   "source": [
    "#Transforming MIG to \"Mover, or changed locations 1 year or less ago\"\n",
    "ACSmarry.loc[ACSmarry.MIG != 1, 'MOVER'] = 1 #Moved, changed location\n",
    "ACSmarry.loc[ACSmarry.MIG == 1, 'MOVER'] = 0 #Did not move or change location\n",
    "\n",
    "ACSmarry['MOVER'].value_counts(sort=True)"
   ]
  },
  {
   "cell_type": "code",
   "execution_count": 26,
   "metadata": {},
   "outputs": [
    {
     "data": {
      "text/plain": [
       "0.0    86.275884\n",
       "1.0    13.724116\n",
       "Name: MOVER, dtype: float64"
      ]
     },
     "execution_count": 26,
     "metadata": {},
     "output_type": "execute_result"
    }
   ],
   "source": [
    "ACSmarry['MOVER'].value_counts(sort=True, normalize=True) * 100"
   ]
  },
  {
   "cell_type": "code",
   "execution_count": 27,
   "metadata": {},
   "outputs": [
    {
     "data": {
      "text/plain": [
       "16.0    456198\n",
       "21.0    407781\n",
       "19.0    313244\n",
       "22.0    179471\n",
       "20.0    167012\n",
       "18.0    145340\n",
       "17.0     74740\n",
       "14.0     44967\n",
       "23.0     44852\n",
       "15.0     38093\n",
       "24.0     29724\n",
       "13.0     29327\n",
       "1.0      26821\n",
       "12.0     22642\n",
       "11.0     17753\n",
       "9.0      14961\n",
       "10.0      5504\n",
       "8.0       3785\n",
       "6.0       3422\n",
       "7.0       2614\n",
       "5.0       1569\n",
       "4.0        714\n",
       "3.0        413\n",
       "2.0        397\n",
       "Name: SCHL, dtype: int64"
      ]
     },
     "execution_count": 27,
     "metadata": {},
     "output_type": "execute_result"
    }
   ],
   "source": [
    "#Transforming educational attainment variable (SCHL)\n",
    "\n",
    "ACSmarry['SCHL'].value_counts(sort=True)"
   ]
  },
  {
   "cell_type": "code",
   "execution_count": 28,
   "metadata": {},
   "outputs": [
    {
     "data": {
      "text/plain": [
       "2.0    625596\n",
       "1.0    530938\n",
       "3.0    407781\n",
       "4.0    254047\n",
       "0.0    212982\n",
       "Name: EDUCATION, dtype: int64"
      ]
     },
     "execution_count": 28,
     "metadata": {},
     "output_type": "execute_result"
    }
   ],
   "source": [
    "ACSmarry.loc[ACSmarry.SCHL < 16, 'EDUCATION'] = 'NDIP' #No high school diploma or GED\n",
    "ACSmarry.loc[(ACSmarry.SCHL == 16) | (ACSmarry.SCHL == 17), 'EDUCATION'] = 'HS' #HS diploma or GED\n",
    "ACSmarry.loc[(ACSmarry.SCHL == 18) | (ACSmarry.SCHL == 19) | (ACSmarry.SCHL == 20), 'EDUCATION'] = AA_DEG #less thhan a college degree or an associate's\n",
    "ACSmarry.loc[(ACSmarry.SCHL == 21), 'EDUCATION'] = BA_DEG #Bachelor's degree\n",
    "ACSmarry.loc[(ACSmarry.SCHL == 22) | (ACSmarry.SCHL == 23) | (ACSmarry.SCHL == 24), 'EDUCATION'] = GRAD #Graduate degree\n",
    "\n",
    "ACSmarry['EDUCATION'].value_counts(sort=True)"
   ]
  },
  {
   "cell_type": "code",
   "execution_count": 29,
   "metadata": {},
   "outputs": [
    {
     "data": {
      "text/html": [
       "<div>\n",
       "<style scoped>\n",
       "    .dataframe tbody tr th:only-of-type {\n",
       "        vertical-align: middle;\n",
       "    }\n",
       "\n",
       "    .dataframe tbody tr th {\n",
       "        vertical-align: top;\n",
       "    }\n",
       "\n",
       "    .dataframe thead th {\n",
       "        text-align: right;\n",
       "    }\n",
       "</style>\n",
       "<table border=\"1\" class=\"dataframe\">\n",
       "  <thead>\n",
       "    <tr style=\"text-align: right;\">\n",
       "      <th>EDUCATION</th>\n",
       "      <th>0.0</th>\n",
       "      <th>1.0</th>\n",
       "      <th>2.0</th>\n",
       "      <th>3.0</th>\n",
       "      <th>4.0</th>\n",
       "      <th>All</th>\n",
       "    </tr>\n",
       "    <tr>\n",
       "      <th>MAR</th>\n",
       "      <th></th>\n",
       "      <th></th>\n",
       "      <th></th>\n",
       "      <th></th>\n",
       "      <th></th>\n",
       "      <th></th>\n",
       "    </tr>\n",
       "  </thead>\n",
       "  <tbody>\n",
       "    <tr>\n",
       "      <th>1</th>\n",
       "      <td>126647</td>\n",
       "      <td>339053</td>\n",
       "      <td>390516</td>\n",
       "      <td>296056</td>\n",
       "      <td>208028</td>\n",
       "      <td>1360300</td>\n",
       "    </tr>\n",
       "    <tr>\n",
       "      <th>5</th>\n",
       "      <td>86335</td>\n",
       "      <td>191885</td>\n",
       "      <td>235080</td>\n",
       "      <td>111725</td>\n",
       "      <td>46019</td>\n",
       "      <td>671044</td>\n",
       "    </tr>\n",
       "    <tr>\n",
       "      <th>All</th>\n",
       "      <td>212982</td>\n",
       "      <td>530938</td>\n",
       "      <td>625596</td>\n",
       "      <td>407781</td>\n",
       "      <td>254047</td>\n",
       "      <td>2031344</td>\n",
       "    </tr>\n",
       "  </tbody>\n",
       "</table>\n",
       "</div>"
      ],
      "text/plain": [
       "EDUCATION     0.0     1.0     2.0     3.0     4.0      All\n",
       "MAR                                                       \n",
       "1          126647  339053  390516  296056  208028  1360300\n",
       "5           86335  191885  235080  111725   46019   671044\n",
       "All        212982  530938  625596  407781  254047  2031344"
      ]
     },
     "execution_count": 29,
     "metadata": {},
     "output_type": "execute_result"
    }
   ],
   "source": [
    "#Marital status by educational attainment\n",
    "pd.crosstab(ACSmarry.MAR, ACSmarry.EDUCATION, margins=True)"
   ]
  },
  {
   "cell_type": "code",
   "execution_count": null,
   "metadata": {},
   "outputs": [],
   "source": [
    "#JWTR: Means of Transportation to work\n",
    "# 0 for tranportation that dont let you socialize:Car, truck, Van, Motorcyclle, Bicycle, Work at home and Other\n",
    "# 1 for JWTR that let you socialize: Bus, trolley car, Subway, Railroad, Ferryboat, Taxicab, Walked\n",
    "\n",
    "ACSmarry['JWTR_T'] = ACSmarry['JWTR']\n",
    "ACSmarry.loc[(ACSmarry.JWTR_T ==1)|(ACSmarry.JWTR_T ==8)|(ACSmarry.JWTR_T ==9)|(ACSmarry.JWTR_T ==11)|(ACSmarry.JWTR_T ==12),'JWTR_T'] = 0\n",
    "ACSmarry.loc[(ACSmarry.JWTR_T ==2)|(ACSmarry.JWTR_T ==3)|(ACSmarry.JWTR_T ==4)|(ACSmarry.JWTR_T ==5)|(ACSmarry.JWTR_T ==6)|(ACSmarry.JWTR_T ==7)|(ACSmarry.JWTR_T ==10),'JWTR_T'] = 1"
   ]
  },
  {
   "cell_type": "code",
   "execution_count": null,
   "metadata": {},
   "outputs": [],
   "source": [
    "#After Transformation\n",
    "ACSmarry['JWTR_T'].value_counts(sort=True)"
   ]
  },
  {
   "cell_type": "code",
   "execution_count": null,
   "metadata": {},
   "outputs": [],
   "source": [
    "#Before Transformation\n",
    "ACSmarry['JWTR'].value_counts(sort=True)"
   ]
  },
  {
   "cell_type": "code",
   "execution_count": null,
   "metadata": {},
   "outputs": [],
   "source": [
    "#SEX: Transforming to 0/1\n",
    "# Female = 0; Male =1\n",
    "ACSmarry['SEX_T'] = ACSmarry['SEX']\n",
    "ACSmarry.loc[(ACSmarry.SEX_T ==2),'SEX_T'] = 0"
   ]
  },
  {
   "cell_type": "code",
   "execution_count": null,
   "metadata": {},
   "outputs": [],
   "source": [
    "#After Transformation\n",
    "ACSmarry['SEX_T'].value_counts(sort=True)"
   ]
  },
  {
   "cell_type": "code",
   "execution_count": null,
   "metadata": {},
   "outputs": [],
   "source": [
    "#Before Transformation\n",
    "ACSmarry['SEX_T'].value_counts(sort=True)"
   ]
  },
  {
   "cell_type": "code",
   "execution_count": null,
   "metadata": {},
   "outputs": [],
   "source": [
    "#Using ESR to created Employed/Unemployed\n",
    "# Employed: 1,2,4,5 and unemployed 3,6\n",
    "ACSmarry['ESR_T'] = ACSmarry['ESR']\n",
    "ACSmarry.loc[(ACSmarry.ESR_T == 1)|(ACSmarry.ESR_T == 2)|(ACSmarry.ESR_T == 4)|(ACSmarry.ESR_T ==5),'EST_T'] = 1\n",
    "ACSmarry.loc[(ACSmarry.ESR_T == 3)|(ACSmarry.ESR_T ==6),'ESR_T'] = 0"
   ]
  },
  {
   "cell_type": "code",
   "execution_count": null,
   "metadata": {},
   "outputs": [],
   "source": [
    "#After Transformation\n",
    "ACSmarry['ESR_T'].value_counts(sort=True)"
   ]
  },
  {
   "cell_type": "code",
   "execution_count": null,
   "metadata": {},
   "outputs": [],
   "source": [
    "#Before Transformation\n",
    "ACSmarry['ESR_T'].value_counts(sort=True)"
   ]
  },
  {
   "cell_type": "code",
   "execution_count": null,
   "metadata": {},
   "outputs": [],
   "source": [
    "#Nativity (Transformaing to 0/1)\n",
    "# Foreign = 0; Native = 1\n",
    "ACSmarry['NATIVITY_T'] = ACSmarry['NATIVITY']\n",
    "ACSmarry.loc[(ACSmarry.NATIVITY_T == 2),'NATIVITY_T'] = 0"
   ]
  },
  {
   "cell_type": "code",
   "execution_count": null,
   "metadata": {},
   "outputs": [],
   "source": [
    "#After Transformation\n",
    "ACSmarry['NATIVITY_T'].value_counts(sort=True)"
   ]
  },
  {
   "cell_type": "code",
   "execution_count": null,
   "metadata": {},
   "outputs": [],
   "source": [
    "#Before Transformation\n",
    "ACSmarry['NATIVITY'].value_counts(sort=True)"
   ]
  },
  {
   "cell_type": "code",
   "execution_count": null,
   "metadata": {},
   "outputs": [],
   "source": [
    "# Job Code Transformation function\n",
    "#input must be interger data type \n",
    "\n",
    "def jobid_to_jobclass(occp):\n",
    "    try: \n",
    "        occp = int(occp)\n",
    "    except:\n",
    "        return occp\n",
    "    else:\n",
    "        if occp <= 430:\n",
    "            jobclass = 'MGR'\n",
    "        elif occp <= 740:\n",
    "            jobclass = 'BUS'\n",
    "        elif occp <= 950:\n",
    "            jobclass = 'FIN'\n",
    "        elif occp <= 1240:\n",
    "            jobclass = 'CMM'\n",
    "        elif occp <= 1560:\n",
    "            jobclass = 'ENG'\n",
    "        elif occp <= 1965:\n",
    "            jobclass = 'SCI'\n",
    "        elif occp <= 2060:\n",
    "            jobclass = 'CMS'\n",
    "        elif occp <= 2160:\n",
    "            jobclass = 'LGL'\n",
    "        elif occp <= 2550:\n",
    "            jobclass = 'EDU'\n",
    "        elif occp <= 2920:\n",
    "            jobclass = 'ENT'\n",
    "        elif occp <= 1240:\n",
    "            jobclass = 'CMM'\n",
    "        elif occp <= 3540:\n",
    "            jobclass = 'MED'\n",
    "        elif occp <= 3655:\n",
    "            jobclass = 'HLS'\n",
    "        elif occp <= 3955:\n",
    "            jobclass = 'PRT'\n",
    "        elif occp <= 4150:\n",
    "            jobclass = 'EAT'\n",
    "        elif occp <= 4250:\n",
    "            jobclass = 'CMM'\n",
    "        elif occp <= 4650:\n",
    "            jobclass = 'PRS'\n",
    "        elif occp <= 4965:\n",
    "            jobclass = 'SAL'\n",
    "        elif occp <= 5940:\n",
    "            jobclass = 'OFF'\n",
    "        elif occp <= 6130:\n",
    "            jobclass = 'FFF'\n",
    "        elif occp <= 6765:\n",
    "            jobclass = 'CON'\n",
    "        elif occp <= 6940:\n",
    "            jobclass = 'EXT'\n",
    "        elif occp <= 7630:\n",
    "            jobclass = 'RPR'\n",
    "        elif occp <= 8965:\n",
    "            jobclass = 'PRD'\n",
    "        elif occp <= 9750:\n",
    "            jobclass = 'TRN'\n",
    "        elif occp <= 9830:\n",
    "            jobclass = 'MIL'\n",
    "        elif occp <= 9920:\n",
    "            jobclass = 'UNE' \n",
    "        else:\n",
    "            jobclass = 'ERROR'  \n",
    "    return jobclass"
   ]
  },
  {
   "cell_type": "code",
   "execution_count": null,
   "metadata": {},
   "outputs": [],
   "source": [
    "print(jobid_to_jobclass(9000))"
   ]
  },
  {
   "cell_type": "code",
   "execution_count": null,
   "metadata": {},
   "outputs": [],
   "source": [
    "# Transformation for Occupation Code OCCP from jobid to occupation code (ex: 10 to MRG)\n",
    "OCCP_T = []\n",
    "for i in ACSmarry['OCCP']:\n",
    "    jobclass = str(jobid_to_jobclass(i))\n",
    "    OCCP_T.append(jobclass)\n",
    "ACSmarry['OCCP_T']= pd.DataFrame(OCCP_T)"
   ]
  },
  {
   "cell_type": "code",
   "execution_count": null,
   "metadata": {},
   "outputs": [],
   "source": [
    "#Next two lines is to check if everything is copied from OCCP to OCCP_T\n",
    "len(ACSmarry['OCCP_T'])"
   ]
  },
  {
   "cell_type": "code",
   "execution_count": null,
   "metadata": {},
   "outputs": [],
   "source": [
    "len(ACSmarry['OCCP'])"
   ]
  },
  {
   "cell_type": "code",
   "execution_count": null,
   "metadata": {},
   "outputs": [],
   "source": [
    "print(OCCP_T)"
   ]
  },
  {
   "cell_type": "code",
   "execution_count": null,
   "metadata": {},
   "outputs": [],
   "source": [
    "#Function to normalize PUMA length (making sure that PUMA = len(5), adding leading zeroes where missing)\n",
    "def normalize_PUMA(puma):\n",
    "    try: \n",
    "        test = int(puma)\n",
    "        puma_t = str(test)\n",
    "    except:\n",
    "        return prin('Error: not an integer')\n",
    "    else:\n",
    "        if len(puma_t) == 3:\n",
    "            puma_t = '00' + str(puma_t)\n",
    "        elif len(puma_t)== 4:\n",
    "            puma_t = '0' + str(puma_t)\n",
    "        elif len(puma_t)== 5:\n",
    "            puma_t = puma_t\n",
    "        else:\n",
    "            puma_t = 'size error'\n",
    "        return puma_t"
   ]
  },
  {
   "cell_type": "code",
   "execution_count": null,
   "metadata": {},
   "outputs": [],
   "source": [
    "#Create a new column to store the normalized Puma from say 100 to 00100\n",
    "PUMA_T = []\n",
    "for p in ACSdata['PUMA']:\n",
    "    new_p = normalize_PUMA(p)\n",
    "    PUMA_T.append(new_p)\n",
    "ACSdata['PUMA_T'] = pd.DataFrame(PUMA_T)"
   ]
  },
  {
   "cell_type": "code",
   "execution_count": null,
   "metadata": {},
   "outputs": [],
   "source": [
    "#Print length of the transformed variable\n",
    "print(len(PUMA_T))"
   ]
  },
  {
   "cell_type": "code",
   "execution_count": null,
   "metadata": {},
   "outputs": [],
   "source": [
    "#Print lenght of the new PUMA_T\n",
    "print(len(ACSdata['PUMA_T']))"
   ]
  },
  {
   "cell_type": "code",
   "execution_count": null,
   "metadata": {},
   "outputs": [],
   "source": [
    "#Print PUMA_T\n",
    "print(PUMA_T)"
   ]
  },
  {
   "cell_type": "code",
   "execution_count": null,
   "metadata": {},
   "outputs": [],
   "source": [
    "#Normalize the length ST due to possible issues with the leading zero\n",
    "ST_T = []\n",
    "ST_T =[ST if len(ACSdata['ST']) == 2 else '0'+str(ST) for ST in ACSdata['ST'] ]\n",
    "ACSdata['ST_T'] = pd.DataFrame(ST_T)"
   ]
  },
  {
   "cell_type": "code",
   "execution_count": null,
   "metadata": {},
   "outputs": [],
   "source": [
    "#print ST_T\n",
    "print(ST_T)"
   ]
  },
  {
   "cell_type": "code",
   "execution_count": null,
   "metadata": {},
   "outputs": [],
   "source": []
  },
  {
   "cell_type": "code",
   "execution_count": null,
   "metadata": {},
   "outputs": [],
   "source": []
  },
  {
   "cell_type": "code",
   "execution_count": null,
   "metadata": {},
   "outputs": [],
   "source": []
  },
  {
   "cell_type": "code",
   "execution_count": null,
   "metadata": {},
   "outputs": [],
   "source": []
  },
  {
   "cell_type": "code",
   "execution_count": null,
   "metadata": {},
   "outputs": [],
   "source": []
  },
  {
   "cell_type": "code",
   "execution_count": 30,
   "metadata": {},
   "outputs": [],
   "source": [
    "#Condensing the race categories\n",
    "\n",
    "#ACSmarry.loc[ACSmarry.RACP1 == 1, 'RACE'] = 1 #White\n",
    "#ACSmarry.loc[(ACSmarry.RACP1 == 2) 'RACE'] = 2 #Black, African American\n",
    "#ACSmarry.loc[(ACSmarry.RACP1 == 3) | (ACSmarry.RACP1 == 4) | (ACSmarry.RACP1 ==5), 'RACE'] = 3 #American Indian/Alaskan Native\n",
    "#ACSmarry.loc[(ACSmarry.RACP1 == 6) 'RACE'] = 4 #Asian\n",
    "#ACSmarry.loc[(ACSmarry.RACP1 == 7) 'RACE'] = 5 #Native Hawaiian/Pacific Islander\n",
    "#ACSmarry.loc[(ACSmarry.RACP1 == 8) 'RACE'] = 2 #Black, African American\n",
    "#ACSmarry.loc[(ACSmarry.SCHL == 18) | (ACSmarry.SCHL == 19) | (ACSmarry.SCHL == 20), 'EDUCATION'] = 2 #less thhan a college degree or an associate's\n",
    "#ACSmarry.loc[(ACSmarry.SCHL == 21), 'EDUCATION'] = 3 #Bachelor's degree\n",
    "#ACSmarry.loc[(ACSmarry.SCHL == 22) | (ACSmarry.SCHL == 23) | (ACSmarry.SCHL == 24), 'EDUCATION'] = 4 #Graduate degree\n",
    "\n",
    "#ACSmarry['RACE'] = ACSmarry['RACP1']\n",
    "\n",
    "#Setting the condition to create American Indian/Alaskan\n",
    "#conds = \n",
    "\n",
    "#Setting the value for the aforemnetioned condition\n",
    "#codes = [3]\n",
    "\n",
    "\n",
    "# Use np.select with a default of 3 (your \"else\" value)    \n",
    "#df['progress'] = np.select(conds, choices, default = 3)"
   ]
  },
  {
   "cell_type": "code",
   "execution_count": 34,
   "metadata": {},
   "outputs": [],
   "source": [
    "#Exporting ACSmarry to csv\n",
    "ACSmarry.to_csv(r'data/ACSmarry.csv')\n"
   ]
  },
  {
   "cell_type": "code",
   "execution_count": null,
   "metadata": {},
   "outputs": [],
   "source": []
  }
 ],
 "metadata": {
  "kernelspec": {
   "display_name": "Python 3",
   "language": "python",
   "name": "python3"
  },
  "language_info": {
   "codemirror_mode": {
    "name": "ipython",
    "version": 3
   },
   "file_extension": ".py",
   "mimetype": "text/x-python",
   "name": "python",
   "nbconvert_exporter": "python",
   "pygments_lexer": "ipython3",
   "version": "3.7.3"
  }
 },
 "nbformat": 4,
 "nbformat_minor": 2
}
