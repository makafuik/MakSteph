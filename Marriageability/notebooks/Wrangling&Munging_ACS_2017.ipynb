{
 "cells": [
  {
   "cell_type": "code",
   "execution_count": 27,
   "metadata": {},
   "outputs": [],
   "source": [
    "#Importing Python packages\n",
    "import pandas as pd\n",
    "import numpy as np \n",
    "import seaborn as sns\n",
    "import matplotlib.mlab as mlab\n",
    "import matplotlib.pyplot as plt"
   ]
  },
  {
   "cell_type": "code",
   "execution_count": 28,
   "metadata": {
    "scrolled": true
   },
   "outputs": [],
   "source": [
    "#Importing ACSdata\n",
    "\n",
    "ACSdata = pd.read_csv('data/ACSdata.csv', sep=',', header=0, skipinitialspace=True)"
   ]
  },
  {
   "cell_type": "code",
   "execution_count": 29,
   "metadata": {},
   "outputs": [
    {
     "data": {
      "text/plain": [
       "(3190040, 127)"
      ]
     },
     "execution_count": 29,
     "metadata": {},
     "output_type": "execute_result"
    }
   ],
   "source": [
    "ACSdata.shape"
   ]
  },
  {
   "cell_type": "code",
   "execution_count": 30,
   "metadata": {},
   "outputs": [
    {
     "data": {
      "text/plain": [
       "count    3190040\n",
       "mean          41\n",
       "std           23\n",
       "min            0\n",
       "25%           21\n",
       "50%           42\n",
       "75%           60\n",
       "max           96\n",
       "Name: AGEP, dtype: int64"
      ]
     },
     "execution_count": 30,
     "metadata": {},
     "output_type": "execute_result"
    }
   ],
   "source": [
    "#EXPLORING THE DATA\n",
    "\n",
    "#Generating summary statistics - age\n",
    "ACSdata['AGEP'].describe().astype('int64')\n",
    "\n",
    "#Age range (0-96), data set needs to be filtered to include persons of marriageable age(> 18)"
   ]
  },
  {
   "cell_type": "code",
   "execution_count": 31,
   "metadata": {},
   "outputs": [
    {
     "name": "stdout",
     "output_type": "stream",
     "text": [
      "Number of Rows in ACSdata in which Age < 18: 659314\n"
     ]
    }
   ],
   "source": [
    "#Rows in which value of AGEP column in  less than 18\n",
    "is_lt18 = ACSdata.apply(lambda x: True if x['AGEP'] < 18 else False, axis=1)\n",
    "\n",
    "#Count number of True in the series\n",
    "numofRows = len(is_lt18[is_lt18 ==True].index)\n",
    "\n",
    "print('Number of Rows in ACSdata in which Age < 18:', numofRows)"
   ]
  },
  {
   "cell_type": "code",
   "execution_count": 32,
   "metadata": {},
   "outputs": [
    {
     "name": "stdout",
     "output_type": "stream",
     "text": [
      "(2530726, 127)\n"
     ]
    }
   ],
   "source": [
    "#Wrangling - Removing persons from the dataset who are < 18 years and creating a new df (ACSmarry)\n",
    "ACSmarry = ACSdata[ACSdata.AGEP >= 18]\n",
    "print(ACSmarry.shape)"
   ]
  },
  {
   "cell_type": "code",
   "execution_count": 33,
   "metadata": {},
   "outputs": [
    {
     "data": {
      "text/plain": [
       "1    1360300\n",
       "5     671044\n",
       "3     285664\n",
       "2     169374\n",
       "4      44344\n",
       "Name: MAR, dtype: int64"
      ]
     },
     "execution_count": 33,
     "metadata": {},
     "output_type": "execute_result"
    }
   ],
   "source": [
    "#EXPLORING THE DATAFRAME (ACSmarry)\n",
    "#Generating frequency table - marriage\n",
    "ACSmarry['MAR'].value_counts()"
   ]
  },
  {
   "cell_type": "code",
   "execution_count": 34,
   "metadata": {},
   "outputs": [],
   "source": [
    "#Printing ACSmarry to csv\n",
    "\n",
    "#fields = ['AGEP','MAR','SERIALNO','SPORDER']\n",
    "#Create a sample of top 100 to explore a smaller file size\n",
    "#ACSsample = ACSmarry.head(10000)\n",
    "# update to the path on your local drive\n",
    "#ACSsample.to_csv(r'testdata/sample1.csv', columns=fields)"
   ]
  },
  {
   "cell_type": "code",
   "execution_count": 35,
   "metadata": {},
   "outputs": [
    {
     "name": "stderr",
     "output_type": "stream",
     "text": [
      "C:\\Users\\steph\\Anaconda3\\lib\\site-packages\\ipykernel_launcher.py:4: SettingWithCopyWarning: \n",
      "A value is trying to be set on a copy of a slice from a DataFrame.\n",
      "Try using .loc[row_indexer,col_indexer] = value instead\n",
      "\n",
      "See the caveats in the documentation: http://pandas.pydata.org/pandas-docs/stable/indexing.html#indexing-view-versus-copy\n",
      "  after removing the cwd from sys.path.\n",
      "C:\\Users\\steph\\Anaconda3\\lib\\site-packages\\ipykernel_launcher.py:5: SettingWithCopyWarning: \n",
      "A value is trying to be set on a copy of a slice from a DataFrame.\n",
      "Try using .loc[row_indexer,col_indexer] = value instead\n",
      "\n",
      "See the caveats in the documentation: http://pandas.pydata.org/pandas-docs/stable/indexing.html#indexing-view-versus-copy\n",
      "  \"\"\"\n",
      "C:\\Users\\steph\\Anaconda3\\lib\\site-packages\\ipykernel_launcher.py:6: SettingWithCopyWarning: \n",
      "A value is trying to be set on a copy of a slice from a DataFrame.\n",
      "Try using .loc[row_indexer,col_indexer] = value instead\n",
      "\n",
      "See the caveats in the documentation: http://pandas.pydata.org/pandas-docs/stable/indexing.html#indexing-view-versus-copy\n",
      "  \n"
     ]
    }
   ],
   "source": [
    "#Using ADJINC to calculate wages/earning and income variables\n",
    "#Note--> this code will need to be adjusted for the multi-year file\n",
    "\n",
    "ACSmarry['WAGES'] = ACSmarry.WAGP * (ACSmarry.ADJINC / 1000000 )\n",
    "ACSmarry['INCOME'] = ACSmarry.PINCP * (ACSmarry.ADJINC / 1000000 )\n",
    "ACSmarry['EARN'] = ACSmarry.PERNP * (ACSmarry.ADJINC / 1000000 )"
   ]
  },
  {
   "cell_type": "code",
   "execution_count": 36,
   "metadata": {},
   "outputs": [
    {
     "data": {
      "text/html": [
       "<div>\n",
       "<style scoped>\n",
       "    .dataframe tbody tr th:only-of-type {\n",
       "        vertical-align: middle;\n",
       "    }\n",
       "\n",
       "    .dataframe tbody tr th {\n",
       "        vertical-align: top;\n",
       "    }\n",
       "\n",
       "    .dataframe thead th {\n",
       "        text-align: right;\n",
       "    }\n",
       "</style>\n",
       "<table border=\"1\" class=\"dataframe\">\n",
       "  <thead>\n",
       "    <tr style=\"text-align: right;\">\n",
       "      <th></th>\n",
       "      <th>WAGES</th>\n",
       "      <th>WAGP</th>\n",
       "      <th>INCOME</th>\n",
       "      <th>PINCP</th>\n",
       "      <th>EARN</th>\n",
       "      <th>PERNP</th>\n",
       "    </tr>\n",
       "  </thead>\n",
       "  <tbody>\n",
       "    <tr>\n",
       "      <th>count</th>\n",
       "      <td>2530726</td>\n",
       "      <td>2530726</td>\n",
       "      <td>2530726</td>\n",
       "      <td>2530726</td>\n",
       "      <td>2530726</td>\n",
       "      <td>2530726</td>\n",
       "    </tr>\n",
       "    <tr>\n",
       "      <th>mean</th>\n",
       "      <td>31072</td>\n",
       "      <td>30728</td>\n",
       "      <td>43202</td>\n",
       "      <td>42724</td>\n",
       "      <td>33157</td>\n",
       "      <td>32791</td>\n",
       "    </tr>\n",
       "    <tr>\n",
       "      <th>std</th>\n",
       "      <td>55479</td>\n",
       "      <td>54865</td>\n",
       "      <td>62819</td>\n",
       "      <td>62123</td>\n",
       "      <td>58403</td>\n",
       "      <td>57757</td>\n",
       "    </tr>\n",
       "    <tr>\n",
       "      <th>min</th>\n",
       "      <td>0</td>\n",
       "      <td>0</td>\n",
       "      <td>-9201</td>\n",
       "      <td>-9100</td>\n",
       "      <td>-9100</td>\n",
       "      <td>-9000</td>\n",
       "    </tr>\n",
       "    <tr>\n",
       "      <th>25%</th>\n",
       "      <td>0</td>\n",
       "      <td>0</td>\n",
       "      <td>9950</td>\n",
       "      <td>9840</td>\n",
       "      <td>0</td>\n",
       "      <td>0</td>\n",
       "    </tr>\n",
       "    <tr>\n",
       "      <th>50%</th>\n",
       "      <td>10213</td>\n",
       "      <td>10100</td>\n",
       "      <td>26290</td>\n",
       "      <td>26000</td>\n",
       "      <td>14156</td>\n",
       "      <td>14000</td>\n",
       "    </tr>\n",
       "    <tr>\n",
       "      <th>75%</th>\n",
       "      <td>43481</td>\n",
       "      <td>43000</td>\n",
       "      <td>53593</td>\n",
       "      <td>53000</td>\n",
       "      <td>45503</td>\n",
       "      <td>45000</td>\n",
       "    </tr>\n",
       "    <tr>\n",
       "      <th>max</th>\n",
       "      <td>744235</td>\n",
       "      <td>736000</td>\n",
       "      <td>1580488</td>\n",
       "      <td>1563000</td>\n",
       "      <td>1274098</td>\n",
       "      <td>1260000</td>\n",
       "    </tr>\n",
       "  </tbody>\n",
       "</table>\n",
       "</div>"
      ],
      "text/plain": [
       "         WAGES     WAGP   INCOME    PINCP     EARN    PERNP\n",
       "count  2530726  2530726  2530726  2530726  2530726  2530726\n",
       "mean     31072    30728    43202    42724    33157    32791\n",
       "std      55479    54865    62819    62123    58403    57757\n",
       "min          0        0    -9201    -9100    -9100    -9000\n",
       "25%          0        0     9950     9840        0        0\n",
       "50%      10213    10100    26290    26000    14156    14000\n",
       "75%      43481    43000    53593    53000    45503    45000\n",
       "max     744235   736000  1580488  1563000  1274098  1260000"
      ]
     },
     "execution_count": 36,
     "metadata": {},
     "output_type": "execute_result"
    }
   ],
   "source": [
    "ACSmoney = ACSmarry[['WAGES', 'WAGP', 'INCOME', 'PINCP', 'EARN', 'PERNP']]\n",
    "\n",
    "ACSmoney.describe().astype('int64')"
   ]
  },
  {
   "cell_type": "code",
   "execution_count": 37,
   "metadata": {},
   "outputs": [],
   "source": [
    "#print(ACSmarry[['ADJINC', 'WAGP', 'WAGES', 'PINCP', 'INCOME', 'PERNP', 'EARN']].head())"
   ]
  },
  {
   "cell_type": "code",
   "execution_count": 38,
   "metadata": {},
   "outputs": [
    {
     "data": {
      "text/html": [
       "<div>\n",
       "<style scoped>\n",
       "    .dataframe tbody tr th:only-of-type {\n",
       "        vertical-align: middle;\n",
       "    }\n",
       "\n",
       "    .dataframe tbody tr th {\n",
       "        vertical-align: top;\n",
       "    }\n",
       "\n",
       "    .dataframe thead th {\n",
       "        text-align: right;\n",
       "    }\n",
       "</style>\n",
       "<table border=\"1\" class=\"dataframe\">\n",
       "  <thead>\n",
       "    <tr style=\"text-align: right;\">\n",
       "      <th></th>\n",
       "      <th>WAGES</th>\n",
       "      <th>INCOME</th>\n",
       "      <th>EARN</th>\n",
       "      <th>AGEP</th>\n",
       "      <th>JWMNP</th>\n",
       "      <th>WKHP</th>\n",
       "    </tr>\n",
       "  </thead>\n",
       "  <tbody>\n",
       "    <tr>\n",
       "      <th>count</th>\n",
       "      <td>2530726</td>\n",
       "      <td>2530726</td>\n",
       "      <td>2530726</td>\n",
       "      <td>2530726</td>\n",
       "      <td>1362382</td>\n",
       "      <td>1627454</td>\n",
       "    </tr>\n",
       "    <tr>\n",
       "      <th>mean</th>\n",
       "      <td>31072</td>\n",
       "      <td>43202</td>\n",
       "      <td>33157</td>\n",
       "      <td>49</td>\n",
       "      <td>27</td>\n",
       "      <td>38</td>\n",
       "    </tr>\n",
       "    <tr>\n",
       "      <th>std</th>\n",
       "      <td>55479</td>\n",
       "      <td>62819</td>\n",
       "      <td>58403</td>\n",
       "      <td>18</td>\n",
       "      <td>23</td>\n",
       "      <td>12</td>\n",
       "    </tr>\n",
       "    <tr>\n",
       "      <th>min</th>\n",
       "      <td>0</td>\n",
       "      <td>-9201</td>\n",
       "      <td>-9100</td>\n",
       "      <td>18</td>\n",
       "      <td>1</td>\n",
       "      <td>1</td>\n",
       "    </tr>\n",
       "    <tr>\n",
       "      <th>25%</th>\n",
       "      <td>0</td>\n",
       "      <td>9950</td>\n",
       "      <td>0</td>\n",
       "      <td>34</td>\n",
       "      <td>12</td>\n",
       "      <td>35</td>\n",
       "    </tr>\n",
       "    <tr>\n",
       "      <th>50%</th>\n",
       "      <td>10213</td>\n",
       "      <td>26290</td>\n",
       "      <td>14156</td>\n",
       "      <td>50</td>\n",
       "      <td>20</td>\n",
       "      <td>40</td>\n",
       "    </tr>\n",
       "    <tr>\n",
       "      <th>75%</th>\n",
       "      <td>43481</td>\n",
       "      <td>53593</td>\n",
       "      <td>45503</td>\n",
       "      <td>64</td>\n",
       "      <td>35</td>\n",
       "      <td>44</td>\n",
       "    </tr>\n",
       "    <tr>\n",
       "      <th>max</th>\n",
       "      <td>744235</td>\n",
       "      <td>1580488</td>\n",
       "      <td>1274098</td>\n",
       "      <td>96</td>\n",
       "      <td>160</td>\n",
       "      <td>99</td>\n",
       "    </tr>\n",
       "  </tbody>\n",
       "</table>\n",
       "</div>"
      ],
      "text/plain": [
       "         WAGES   INCOME     EARN     AGEP    JWMNP     WKHP\n",
       "count  2530726  2530726  2530726  2530726  1362382  1627454\n",
       "mean     31072    43202    33157       49       27       38\n",
       "std      55479    62819    58403       18       23       12\n",
       "min          0    -9201    -9100       18        1        1\n",
       "25%          0     9950        0       34       12       35\n",
       "50%      10213    26290    14156       50       20       40\n",
       "75%      43481    53593    45503       64       35       44\n",
       "max     744235  1580488  1274098       96      160       99"
      ]
     },
     "execution_count": 38,
     "metadata": {},
     "output_type": "execute_result"
    }
   ],
   "source": [
    "#Running summary statistics for continuous variables\n",
    "ACScont = ACSmarry[['WAGES', 'INCOME', 'EARN', 'AGEP', 'JWMNP', 'WKHP']]\n",
    "\n",
    "ACScont.describe().astype('int64')"
   ]
  },
  {
   "cell_type": "code",
   "execution_count": 39,
   "metadata": {},
   "outputs": [
    {
     "data": {
      "text/plain": [
       "1    2135403\n",
       "4     197130\n",
       "5     160061\n",
       "3      23517\n",
       "2      14615\n",
       "Name: CIT, dtype: int64"
      ]
     },
     "execution_count": 39,
     "metadata": {},
     "output_type": "execute_result"
    }
   ],
   "source": [
    "#Frequency tables and possible transformation of categorical variables\n",
    "\n",
    "#Citizenship status\n",
    "\n",
    "ACSmarry['CIT'].value_counts(sort=True) "
   ]
  },
  {
   "cell_type": "code",
   "execution_count": 40,
   "metadata": {},
   "outputs": [
    {
     "data": {
      "text/plain": [
       "1.0    2370665\n",
       "0.0     160061\n",
       "Name: CITIZEN, dtype: int64"
      ]
     },
     "execution_count": 40,
     "metadata": {},
     "output_type": "execute_result"
    }
   ],
   "source": [
    "#Transformaing--> Citizen (yes/no)\n",
    "ACSmarry.loc[ACSmarry.CIT == 5, 'CITIZEN'] = 0\n",
    "ACSmarry.loc[ACSmarry.CIT != 5, 'CITIZEN'] = 1\n",
    "\n",
    "ACSmarry['CITIZEN'].value_counts(sort=True) "
   ]
  },
  {
   "cell_type": "code",
   "execution_count": 41,
   "metadata": {},
   "outputs": [
    {
     "data": {
      "text/plain": [
       "1    1360300\n",
       "5     671044\n",
       "3     285664\n",
       "2     169374\n",
       "4      44344\n",
       "Name: MAR, dtype: int64"
      ]
     },
     "execution_count": 41,
     "metadata": {},
     "output_type": "execute_result"
    }
   ],
   "source": [
    "ACSmarry['MAR'].value_counts(sort=True) #Marital status"
   ]
  },
  {
   "cell_type": "code",
   "execution_count": 42,
   "metadata": {},
   "outputs": [
    {
     "data": {
      "text/plain": [
       "1    53.751374\n",
       "5    26.515869\n",
       "3    11.287828\n",
       "2     6.692704\n",
       "4     1.752224\n",
       "Name: MAR, dtype: float64"
      ]
     },
     "execution_count": 42,
     "metadata": {},
     "output_type": "execute_result"
    }
   ],
   "source": [
    "ACSmarry['MAR'].value_counts(sort=True, normalize=True) * 100 #Marital status"
   ]
  },
  {
   "cell_type": "code",
   "execution_count": 43,
   "metadata": {},
   "outputs": [
    {
     "data": {
      "text/plain": [
       "1.0    1385866\n",
       "2.0     366893\n",
       "3.0     106923\n",
       "Name: MARHT, dtype: int64"
      ]
     },
     "execution_count": 43,
     "metadata": {},
     "output_type": "execute_result"
    }
   ],
   "source": [
    "#Transforming number of times married\n",
    "ACSmarry['MARHT'].value_counts(sort=True) #Number of times married"
   ]
  },
  {
   "cell_type": "code",
   "execution_count": 44,
   "metadata": {},
   "outputs": [
    {
     "data": {
      "text/plain": [
       "1.0    74.521666\n",
       "2.0    19.728803\n",
       "3.0     5.749531\n",
       "Name: MARHT, dtype: float64"
      ]
     },
     "execution_count": 44,
     "metadata": {},
     "output_type": "execute_result"
    }
   ],
   "source": [
    "ACSmarry['MARHT'].value_counts(sort=True, normalize=True) * 100 "
   ]
  },
  {
   "cell_type": "code",
   "execution_count": 45,
   "metadata": {},
   "outputs": [
    {
     "data": {
      "text/html": [
       "<div>\n",
       "<style scoped>\n",
       "    .dataframe tbody tr th:only-of-type {\n",
       "        vertical-align: middle;\n",
       "    }\n",
       "\n",
       "    .dataframe tbody tr th {\n",
       "        vertical-align: top;\n",
       "    }\n",
       "\n",
       "    .dataframe thead th {\n",
       "        text-align: right;\n",
       "    }\n",
       "</style>\n",
       "<table border=\"1\" class=\"dataframe\">\n",
       "  <thead>\n",
       "    <tr style=\"text-align: right;\">\n",
       "      <th>MARHT</th>\n",
       "      <th>1.0</th>\n",
       "      <th>2.0</th>\n",
       "      <th>3.0</th>\n",
       "      <th>All</th>\n",
       "    </tr>\n",
       "    <tr>\n",
       "      <th>MAR</th>\n",
       "      <th></th>\n",
       "      <th></th>\n",
       "      <th></th>\n",
       "      <th></th>\n",
       "    </tr>\n",
       "  </thead>\n",
       "  <tbody>\n",
       "    <tr>\n",
       "      <th>1</th>\n",
       "      <td>1031074</td>\n",
       "      <td>257976</td>\n",
       "      <td>71250</td>\n",
       "      <td>1360300</td>\n",
       "    </tr>\n",
       "    <tr>\n",
       "      <th>2</th>\n",
       "      <td>125754</td>\n",
       "      <td>33561</td>\n",
       "      <td>10059</td>\n",
       "      <td>169374</td>\n",
       "    </tr>\n",
       "    <tr>\n",
       "      <th>3</th>\n",
       "      <td>196988</td>\n",
       "      <td>66202</td>\n",
       "      <td>22474</td>\n",
       "      <td>285664</td>\n",
       "    </tr>\n",
       "    <tr>\n",
       "      <th>4</th>\n",
       "      <td>32050</td>\n",
       "      <td>9154</td>\n",
       "      <td>3140</td>\n",
       "      <td>44344</td>\n",
       "    </tr>\n",
       "    <tr>\n",
       "      <th>All</th>\n",
       "      <td>1385866</td>\n",
       "      <td>366893</td>\n",
       "      <td>106923</td>\n",
       "      <td>1859682</td>\n",
       "    </tr>\n",
       "  </tbody>\n",
       "</table>\n",
       "</div>"
      ],
      "text/plain": [
       "MARHT      1.0     2.0     3.0      All\n",
       "MAR                                    \n",
       "1      1031074  257976   71250  1360300\n",
       "2       125754   33561   10059   169374\n",
       "3       196988   66202   22474   285664\n",
       "4        32050    9154    3140    44344\n",
       "All    1385866  366893  106923  1859682"
      ]
     },
     "execution_count": 45,
     "metadata": {},
     "output_type": "execute_result"
    }
   ],
   "source": [
    "#Marital status by the number of times married\n",
    "pd.crosstab(ACSmarry.MAR, ACSmarry.MARHT, margins=True)"
   ]
  },
  {
   "cell_type": "code",
   "execution_count": 46,
   "metadata": {},
   "outputs": [
    {
     "data": {
      "text/plain": [
       "1.0    1385866\n",
       "0.0     671044\n",
       "2.0     473816\n",
       "Name: MAR_TIMES, dtype: int64"
      ]
     },
     "execution_count": 46,
     "metadata": {},
     "output_type": "execute_result"
    }
   ],
   "source": [
    "#Creating variable: Previously married (# of times)\n",
    "ACSmarry.loc[ACSmarry.MAR == 5, 'MAR_TIMES'] = 0 #Married zero times\n",
    "ACSmarry.loc[(ACSmarry.MAR != 5) & (ACSmarry.MARHT == 1), 'MAR_TIMES'] = 1 #married 1 time\n",
    "ACSmarry.loc[(ACSmarry.MAR != 5) & (ACSmarry.MARHT != 1), 'MAR_TIMES'] = 2 #married more than 1 times\n",
    "\n",
    "ACSmarry['MAR_TIMES'].value_counts(sort=True) "
   ]
  },
  {
   "cell_type": "code",
   "execution_count": 47,
   "metadata": {},
   "outputs": [
    {
     "data": {
      "text/plain": [
       "1.0    2186818\n",
       "3.0     329380\n",
       "2.0      14528\n",
       "Name: MIG, dtype: int64"
      ]
     },
     "execution_count": 47,
     "metadata": {},
     "output_type": "execute_result"
    }
   ],
   "source": [
    "#Mobility:  (lived here 1 year aga)\n",
    "ACSmarry['MIG'].value_counts(sort=True)"
   ]
  },
  {
   "cell_type": "code",
   "execution_count": 48,
   "metadata": {},
   "outputs": [
    {
     "data": {
      "text/plain": [
       "0.0    2186818\n",
       "1.0     343908\n",
       "Name: MOVER, dtype: int64"
      ]
     },
     "execution_count": 48,
     "metadata": {},
     "output_type": "execute_result"
    }
   ],
   "source": [
    "#Transforming MIG to \"Mover, or changed locations 1 year or less ago\"\n",
    "ACSmarry.loc[ACSmarry.MIG != 1, 'MOVER'] = 1 #Moved, changed location\n",
    "ACSmarry.loc[ACSmarry.MIG == 1, 'MOVER'] = 0 #Did not move or change location\n",
    "\n",
    "ACSmarry['MOVER'].value_counts(sort=True)"
   ]
  },
  {
   "cell_type": "code",
   "execution_count": 49,
   "metadata": {},
   "outputs": [
    {
     "data": {
      "text/plain": [
       "0.0    86.410698\n",
       "1.0    13.589302\n",
       "Name: MOVER, dtype: float64"
      ]
     },
     "execution_count": 49,
     "metadata": {},
     "output_type": "execute_result"
    }
   ],
   "source": [
    "ACSmarry['MOVER'].value_counts(sort=True, normalize=True) * 100"
   ]
  },
  {
   "cell_type": "code",
   "execution_count": 50,
   "metadata": {},
   "outputs": [
    {
     "data": {
      "text/plain": [
       "16.0    593362\n",
       "21.0    474195\n",
       "19.0    385417\n",
       "22.0    210462\n",
       "20.0    208034\n",
       "18.0    183853\n",
       "17.0    100775\n",
       "14.0     57847\n",
       "23.0     51635\n",
       "15.0     48886\n",
       "13.0     41492\n",
       "1.0      35862\n",
       "24.0     34357\n",
       "12.0     31612\n",
       "11.0     26780\n",
       "9.0      19603\n",
       "10.0      8416\n",
       "8.0       5445\n",
       "6.0       4795\n",
       "7.0       3696\n",
       "5.0       2119\n",
       "4.0        973\n",
       "3.0        583\n",
       "2.0        527\n",
       "Name: SCHL, dtype: int64"
      ]
     },
     "execution_count": 50,
     "metadata": {},
     "output_type": "execute_result"
    }
   ],
   "source": [
    "#Transforming educational attainment variable (SCHL)\n",
    "\n",
    "ACSmarry['SCHL'].value_counts(sort=True)"
   ]
  },
  {
   "cell_type": "code",
   "execution_count": 51,
   "metadata": {},
   "outputs": [
    {
     "data": {
      "text/plain": [
       "2.0    777304\n",
       "1.0    694137\n",
       "3.0    474195\n",
       "4.0    296454\n",
       "0.0    288636\n",
       "Name: EDUCATION, dtype: int64"
      ]
     },
     "execution_count": 51,
     "metadata": {},
     "output_type": "execute_result"
    }
   ],
   "source": [
    "ACSmarry.loc[ACSmarry.SCHL < 16, 'EDUCATION'] = 0 #No high school diploma or GED\n",
    "ACSmarry.loc[(ACSmarry.SCHL == 16) | (ACSmarry.SCHL == 17), 'EDUCATION'] = 1 #HS diploma or GED\n",
    "ACSmarry.loc[(ACSmarry.SCHL == 18) | (ACSmarry.SCHL == 19) | (ACSmarry.SCHL == 20), 'EDUCATION'] = 2 #less thhan a college degree or an associate's\n",
    "ACSmarry.loc[(ACSmarry.SCHL == 21), 'EDUCATION'] = 3 #Bachelor's degree\n",
    "ACSmarry.loc[(ACSmarry.SCHL == 22) | (ACSmarry.SCHL == 23) | (ACSmarry.SCHL == 24), 'EDUCATION'] = 4 #Graduate degree\n",
    "\n",
    "ACSmarry['EDUCATION'].value_counts(sort=True)"
   ]
  },
  {
   "cell_type": "code",
   "execution_count": 52,
   "metadata": {},
   "outputs": [
    {
     "data": {
      "text/html": [
       "<div>\n",
       "<style scoped>\n",
       "    .dataframe tbody tr th:only-of-type {\n",
       "        vertical-align: middle;\n",
       "    }\n",
       "\n",
       "    .dataframe tbody tr th {\n",
       "        vertical-align: top;\n",
       "    }\n",
       "\n",
       "    .dataframe thead th {\n",
       "        text-align: right;\n",
       "    }\n",
       "</style>\n",
       "<table border=\"1\" class=\"dataframe\">\n",
       "  <thead>\n",
       "    <tr style=\"text-align: right;\">\n",
       "      <th>EDUCATION</th>\n",
       "      <th>0.0</th>\n",
       "      <th>1.0</th>\n",
       "      <th>2.0</th>\n",
       "      <th>3.0</th>\n",
       "      <th>4.0</th>\n",
       "      <th>All</th>\n",
       "    </tr>\n",
       "    <tr>\n",
       "      <th>MAR</th>\n",
       "      <th></th>\n",
       "      <th></th>\n",
       "      <th></th>\n",
       "      <th></th>\n",
       "      <th></th>\n",
       "      <th></th>\n",
       "    </tr>\n",
       "  </thead>\n",
       "  <tbody>\n",
       "    <tr>\n",
       "      <th>1</th>\n",
       "      <td>126647</td>\n",
       "      <td>339053</td>\n",
       "      <td>390516</td>\n",
       "      <td>296056</td>\n",
       "      <td>208028</td>\n",
       "      <td>1360300</td>\n",
       "    </tr>\n",
       "    <tr>\n",
       "      <th>2</th>\n",
       "      <td>35041</td>\n",
       "      <td>63118</td>\n",
       "      <td>41650</td>\n",
       "      <td>18079</td>\n",
       "      <td>11486</td>\n",
       "      <td>169374</td>\n",
       "    </tr>\n",
       "    <tr>\n",
       "      <th>3</th>\n",
       "      <td>31425</td>\n",
       "      <td>85992</td>\n",
       "      <td>96490</td>\n",
       "      <td>43508</td>\n",
       "      <td>28249</td>\n",
       "      <td>285664</td>\n",
       "    </tr>\n",
       "    <tr>\n",
       "      <th>4</th>\n",
       "      <td>9188</td>\n",
       "      <td>14089</td>\n",
       "      <td>13568</td>\n",
       "      <td>4827</td>\n",
       "      <td>2672</td>\n",
       "      <td>44344</td>\n",
       "    </tr>\n",
       "    <tr>\n",
       "      <th>5</th>\n",
       "      <td>86335</td>\n",
       "      <td>191885</td>\n",
       "      <td>235080</td>\n",
       "      <td>111725</td>\n",
       "      <td>46019</td>\n",
       "      <td>671044</td>\n",
       "    </tr>\n",
       "    <tr>\n",
       "      <th>All</th>\n",
       "      <td>288636</td>\n",
       "      <td>694137</td>\n",
       "      <td>777304</td>\n",
       "      <td>474195</td>\n",
       "      <td>296454</td>\n",
       "      <td>2530726</td>\n",
       "    </tr>\n",
       "  </tbody>\n",
       "</table>\n",
       "</div>"
      ],
      "text/plain": [
       "EDUCATION     0.0     1.0     2.0     3.0     4.0      All\n",
       "MAR                                                       \n",
       "1          126647  339053  390516  296056  208028  1360300\n",
       "2           35041   63118   41650   18079   11486   169374\n",
       "3           31425   85992   96490   43508   28249   285664\n",
       "4            9188   14089   13568    4827    2672    44344\n",
       "5           86335  191885  235080  111725   46019   671044\n",
       "All        288636  694137  777304  474195  296454  2530726"
      ]
     },
     "execution_count": 52,
     "metadata": {},
     "output_type": "execute_result"
    }
   ],
   "source": [
    "#Marital status by educational attainment\n",
    "pd.crosstab(ACSmarry.MAR, ACSmarry.EDUCATION, margins=True)"
   ]
  },
  {
   "cell_type": "code",
   "execution_count": 53,
   "metadata": {},
   "outputs": [
    {
     "data": {
      "text/html": [
       "<div>\n",
       "<style scoped>\n",
       "    .dataframe tbody tr th:only-of-type {\n",
       "        vertical-align: middle;\n",
       "    }\n",
       "\n",
       "    .dataframe tbody tr th {\n",
       "        vertical-align: top;\n",
       "    }\n",
       "\n",
       "    .dataframe thead th {\n",
       "        text-align: right;\n",
       "    }\n",
       "</style>\n",
       "<table border=\"1\" class=\"dataframe\">\n",
       "  <thead>\n",
       "    <tr style=\"text-align: right;\">\n",
       "      <th>RAC1P</th>\n",
       "      <th>1</th>\n",
       "      <th>2</th>\n",
       "      <th>3</th>\n",
       "      <th>4</th>\n",
       "      <th>5</th>\n",
       "      <th>6</th>\n",
       "      <th>7</th>\n",
       "      <th>8</th>\n",
       "      <th>9</th>\n",
       "      <th>All</th>\n",
       "    </tr>\n",
       "    <tr>\n",
       "      <th>MAR</th>\n",
       "      <th></th>\n",
       "      <th></th>\n",
       "      <th></th>\n",
       "      <th></th>\n",
       "      <th></th>\n",
       "      <th></th>\n",
       "      <th></th>\n",
       "      <th></th>\n",
       "      <th></th>\n",
       "      <th></th>\n",
       "    </tr>\n",
       "  </thead>\n",
       "  <tbody>\n",
       "    <tr>\n",
       "      <th>1</th>\n",
       "      <td>1116910</td>\n",
       "      <td>80954</td>\n",
       "      <td>8567</td>\n",
       "      <td>558</td>\n",
       "      <td>1335</td>\n",
       "      <td>85886</td>\n",
       "      <td>2009</td>\n",
       "      <td>41848</td>\n",
       "      <td>22233</td>\n",
       "      <td>1360300</td>\n",
       "    </tr>\n",
       "    <tr>\n",
       "      <th>2</th>\n",
       "      <td>138422</td>\n",
       "      <td>17937</td>\n",
       "      <td>1417</td>\n",
       "      <td>102</td>\n",
       "      <td>231</td>\n",
       "      <td>6325</td>\n",
       "      <td>213</td>\n",
       "      <td>2706</td>\n",
       "      <td>2021</td>\n",
       "      <td>169374</td>\n",
       "    </tr>\n",
       "    <tr>\n",
       "      <th>3</th>\n",
       "      <td>228406</td>\n",
       "      <td>32913</td>\n",
       "      <td>2873</td>\n",
       "      <td>136</td>\n",
       "      <td>444</td>\n",
       "      <td>7265</td>\n",
       "      <td>349</td>\n",
       "      <td>7162</td>\n",
       "      <td>6116</td>\n",
       "      <td>285664</td>\n",
       "    </tr>\n",
       "    <tr>\n",
       "      <th>4</th>\n",
       "      <td>28497</td>\n",
       "      <td>9335</td>\n",
       "      <td>567</td>\n",
       "      <td>42</td>\n",
       "      <td>100</td>\n",
       "      <td>1500</td>\n",
       "      <td>86</td>\n",
       "      <td>2962</td>\n",
       "      <td>1255</td>\n",
       "      <td>44344</td>\n",
       "    </tr>\n",
       "    <tr>\n",
       "      <th>5</th>\n",
       "      <td>457907</td>\n",
       "      <td>107909</td>\n",
       "      <td>7831</td>\n",
       "      <td>695</td>\n",
       "      <td>1219</td>\n",
       "      <td>37490</td>\n",
       "      <td>1373</td>\n",
       "      <td>33142</td>\n",
       "      <td>23478</td>\n",
       "      <td>671044</td>\n",
       "    </tr>\n",
       "    <tr>\n",
       "      <th>All</th>\n",
       "      <td>1970142</td>\n",
       "      <td>249048</td>\n",
       "      <td>21255</td>\n",
       "      <td>1533</td>\n",
       "      <td>3329</td>\n",
       "      <td>138466</td>\n",
       "      <td>4030</td>\n",
       "      <td>87820</td>\n",
       "      <td>55103</td>\n",
       "      <td>2530726</td>\n",
       "    </tr>\n",
       "  </tbody>\n",
       "</table>\n",
       "</div>"
      ],
      "text/plain": [
       "RAC1P        1       2      3     4     5       6     7      8      9      All\n",
       "MAR                                                                           \n",
       "1      1116910   80954   8567   558  1335   85886  2009  41848  22233  1360300\n",
       "2       138422   17937   1417   102   231    6325   213   2706   2021   169374\n",
       "3       228406   32913   2873   136   444    7265   349   7162   6116   285664\n",
       "4        28497    9335    567    42   100    1500    86   2962   1255    44344\n",
       "5       457907  107909   7831   695  1219   37490  1373  33142  23478   671044\n",
       "All    1970142  249048  21255  1533  3329  138466  4030  87820  55103  2530726"
      ]
     },
     "execution_count": 53,
     "metadata": {},
     "output_type": "execute_result"
    }
   ],
   "source": [
    "#Race by Marital status\n",
    "\n",
    "pd.crosstab(ACSmarry.MAR, ACSmarry.RAC1P, margins=True)"
   ]
  },
  {
   "cell_type": "code",
   "execution_count": 54,
   "metadata": {},
   "outputs": [],
   "source": [
    "#Condensing the race categories\n",
    "\n",
    "#ACSmarry.loc[ACSmarry.RACP1 == 1, 'RACE'] = 1 #White\n",
    "#ACSmarry.loc[(ACSmarry.RACP1 == 2) 'RACE'] = 2 #Black, African American\n",
    "#ACSmarry.loc[(ACSmarry.RACP1 == 3) | (ACSmarry.RACP1 == 4) | (ACSmarry.RACP1 ==5), 'RACE'] = 3 #American Indian/Alaskan Native\n",
    "#ACSmarry.loc[(ACSmarry.RACP1 == 6) 'RACE'] = 4 #Asian\n",
    "#ACSmarry.loc[(ACSmarry.RACP1 == 7) 'RACE'] = 5 #Native Hawaiian/Pacific Islander\n",
    "#ACSmarry.loc[(ACSmarry.RACP1 == 8) 'RACE'] = 2 #Black, African American\n",
    "#ACSmarry.loc[(ACSmarry.SCHL == 18) | (ACSmarry.SCHL == 19) | (ACSmarry.SCHL == 20), 'EDUCATION'] = 2 #less thhan a college degree or an associate's\n",
    "#ACSmarry.loc[(ACSmarry.SCHL == 21), 'EDUCATION'] = 3 #Bachelor's degree\n",
    "#ACSmarry.loc[(ACSmarry.SCHL == 22) | (ACSmarry.SCHL == 23) | (ACSmarry.SCHL == 24), 'EDUCATION'] = 4 #Graduate degree\n",
    "\n",
    "#ACSmarry['RACE'] = ACSmarry['RACP1']\n",
    "\n",
    "#Setting the condition to create American Indian/Alaskan\n",
    "#conds = \n",
    "\n",
    "#Setting the value for the aforemnetioned condition\n",
    "#codes = [3]\n",
    "\n",
    "\n",
    "# Use np.select with a default of 3 (your \"else\" value)    \n",
    "#df['progress'] = np.select(conds, choices, default = 3)"
   ]
  },
  {
   "cell_type": "code",
   "execution_count": 55,
   "metadata": {},
   "outputs": [],
   "source": [
    "#contingency_table = pd.crosstab(\n",
    " #   workhour_by_sex['sex'],\n",
    "  #  workhour_by_sex['hours_per_week_categories'],\n",
    "   # margins = True\n",
    "#)\n",
    "#contingency_table"
   ]
  },
  {
   "cell_type": "code",
   "execution_count": 56,
   "metadata": {},
   "outputs": [],
   "source": [
    "#Assigns the frequency values\n",
    "#malecount = contingency_table.iloc[0][0:6].values\n",
    "#femalecount = contingency_table.iloc[1][0:6].values\n",
    "\n",
    "#Plots the bar chart\n",
    "#fig = plt.figure(figsize=(10, 5))\n",
    "#sns.set(font_scale=1.8)\n",
    "#categories = [\"0-9\",\"10-19\",\"20-29\",\"30-39\",\"40-49\",\"50+\"]\n",
    "#p1 = plt.bar(categories, malecount, 0.55, color='#d62728')\n",
    "#p2 = plt.bar(categories, femalecount, 0.55, bottom=malecount)\n",
    "#plt.legend((p2[0], p1[0]), ('Male', 'Female'))\n",
    "#plt.xlabel('Hours per Week Worked')\n",
    "#plt.ylabel('Count')\n",
    "#plt.show()"
   ]
  },
  {
   "cell_type": "code",
   "execution_count": 57,
   "metadata": {},
   "outputs": [],
   "source": [
    "#Generate list of weights of the format PWGTP1 to PWGTP80\n",
    "#weight_index = range(1,81,1)\n",
    "#weight_list = ['PWGTP'+str(i) for i in weight_index]\n",
    "#print(weight_list)\n",
    "\n",
    "#THIS IS NOT 100% CORRECT.  THE WEIGHTS ALREADY EXIST ON THE CSV FILES\n"
   ]
  }
 ],
 "metadata": {
  "kernelspec": {
   "display_name": "Python 3",
   "language": "python",
   "name": "python3"
  },
  "language_info": {
   "codemirror_mode": {
    "name": "ipython",
    "version": 3
   },
   "file_extension": ".py",
   "mimetype": "text/x-python",
   "name": "python",
   "nbconvert_exporter": "python",
   "pygments_lexer": "ipython3",
   "version": "3.7.3"
  }
 },
 "nbformat": 4,
 "nbformat_minor": 2
}
